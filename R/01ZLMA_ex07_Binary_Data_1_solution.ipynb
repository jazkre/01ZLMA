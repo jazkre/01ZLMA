{
  "nbformat": 4,
  "nbformat_minor": 0,
  "metadata": {
    "colab": {
      "private_outputs": true,
      "provenance": [],
      "include_colab_link": true
    },
    "kernelspec": {
      "name": "ir",
      "display_name": "R"
    },
    "language_info": {
      "name": "R"
    }
  },
  "cells": [
    {
      "cell_type": "markdown",
      "metadata": {
        "id": "view-in-github",
        "colab_type": "text"
      },
      "source": [
        "<a href=\"https://colab.research.google.com/github/jazkre/01ZLMA/blob/main/R/01ZLMA_ex07_Binary_Data_1_solution.ipynb\" target=\"_parent\"><img src=\"https://colab.research.google.com/assets/colab-badge.svg\" alt=\"Open In Colab\"/></a>"
      ]
    },
    {
      "cell_type": "markdown",
      "metadata": {
        "id": "oD47O_0VwUBm"
      },
      "source": [
        "Exercise 07 of the course 01ZLMA. \n",
        "\n",
        "# GLM for Discrete response - Binary Data Analysis\n",
        "\n",
        "Alternative and Binomial responses"
      ]
    },
    {
      "cell_type": "markdown",
      "metadata": {
        "lines_to_next_cell": 0,
        "id": "l2EHCMAWUHT6"
      },
      "source": [
        "**Bernoulli (Alternative) Model**\n",
        "\n",
        "$$Y_{i,j} \\sim Be(\\pi_i) \\ i = 1,\\ldots,K \\ \\text{and} \\ j = 1,\\ldots, n_i.$$\n",
        "$K$ is number of groups, $n_i$ is number of observations in group $i$ and $\\sum_{i=1}^{K} = N$\n",
        "$$ E[Y_{i,j}] = \\pi_i \\ \\text{and} \\ g(\\pi_i) = \\eta_i =x_i^T \\beta $$\n",
        "\n",
        "\n",
        "**Binomial Model**\n",
        "$$Y_i = \\sum_{j=1}^{n_i} Y_{i,j} \\sim Bi(n_i, \\pi_i)$$"
      ]
    },
    {
      "cell_type": "markdown",
      "metadata": {
        "id": "urFC1XzcWd1t"
      },
      "source": [
        "**Without continuos covariate (only factor variables)**\n",
        "\n",
        "$K$ is constant and $n_i \\rightarrow \\infty $\n",
        "\n",
        "**With at least one continuos covariate**\n",
        "\n",
        "$n_i \\approx 1$ ( $n_i$ is small enough) and $K \\rightarrow \\infty$\n",
        "\n"
      ]
    },
    {
      "cell_type": "markdown",
      "metadata": {
        "id": "lSgD34dQW1cE"
      },
      "source": [
        "## Link functions for binary data\n",
        "\n",
        "**Logistic function:**\n",
        "\n",
        "The logistic function is the canonical link function for binary responses, and it is CDF of the standard logistic distribution.\n",
        "\n",
        "$$g(\\pi_i)=log(\\frac{\\pi_i}{1-\\pi_i}) $$\n",
        "\n",
        "$$\\pi_i = \\frac{1}{1+e^{-x_i^T \\beta}} = \\frac{e^{x_i^T \\beta}}{1+e^{x_i^T \\beta}} $$ \n",
        "\n",
        "\n",
        "\n",
        "\n",
        "**Probit function:**\n",
        "\n",
        "The CDF of the normal distribution. \n",
        "$$\\pi_i = \\Phi({x_i^T \\beta}) $$ \n",
        "\n",
        "\n",
        "**Cauchit function:**\n",
        "\n",
        "The CDF of the Cauchy distribution\n",
        "\n",
        "$$\\pi_i = \\frac{1}{\\pi}\\text{arctan}(x_i^T \\beta) + \\frac{1}{2} $$ \n",
        "\n",
        "\n",
        "**Complementary log-log (cloglog) function:**\n",
        "\n",
        "The inverse of the conditional log-log function (CDF of the Gumbel distribution)\n",
        "\n",
        "$$\\pi_i = 1 − e^{-e^{x_i^T \\beta}}$$\n",
        "\n",
        "The counter part of the cloglog function is log-log link function."
      ]
    },
    {
      "cell_type": "code",
      "metadata": {
        "id": "Jv5SOQ0TUHT7"
      },
      "source": [
        "library(tidyverse)\n",
        "#library(Matrix)\n",
        "#library(MASS)"
      ],
      "execution_count": null,
      "outputs": []
    },
    {
      "cell_type": "code",
      "metadata": {
        "id": "ZlQxn7uFmaGw"
      },
      "source": [
        "? make.link"
      ],
      "execution_count": null,
      "outputs": []
    },
    {
      "cell_type": "code",
      "metadata": {
        "id": "Kuwb1LB6l7XU"
      },
      "source": [
        "map(c(\"logit\", \"probit\", \"cauchit\", \"cloglog\"),  make.link) %>%\n",
        "map_df(\n",
        "  function(link) {\n",
        "    tibble(x = seq(-5, 5, length.out = 101),\n",
        "           y = link$linkinv(x),\n",
        "           link_name = link$name)\n",
        "  }\n",
        "  ) %>%\n",
        "  ggplot(aes(x = x, y = y, colour = link_name)) +\n",
        "  geom_line()"
      ],
      "execution_count": null,
      "outputs": []
    },
    {
      "cell_type": "markdown",
      "metadata": {
        "id": "dnlQ4vEGYGOH"
      },
      "source": [
        "## Logistic regression with Titanic dataset\n",
        "\n",
        "https://www.kaggle.com/c/titanic/data\n",
        "\n",
        "| Variable |                 Definition                 |                       Key                      |\n",
        "|:--------:|:------------------------------------------:|:----------------------------------------------:|\n",
        "| survival | Survival                                   | 0 = No, 1 = Yes                                |\n",
        "| pclass   | Ticket class                               | 1 = 1st, 2 = 2nd, 3 = 3rd                      |\n",
        "| sex      | Sex                                        |                                                |\n",
        "| Age      | Age in years                               |                                                |\n",
        "| sibsp    | # of siblings / spouses aboard the Titanic |                                                |\n",
        "| parch    | # of parents / children aboard the Titanic |                                                |\n",
        "| ticket   | Ticket number                              |                                                |\n",
        "| fare     | Passenger fare                             |                                                |\n",
        "| cabin    | Cabin number                               |                                                |\n",
        "| embarked | Port of Embarkation                        | C = Cherbourg, Q = Queenstown, S = Southampton |"
      ]
    },
    {
      "cell_type": "code",
      "metadata": {
        "id": "VxBIs-aDYMxd"
      },
      "source": [
        "install.packages(\"titanic\")\n",
        "library(titanic)\n",
        "knitr::kable(head(titanic_train))"
      ],
      "execution_count": null,
      "outputs": []
    },
    {
      "cell_type": "code",
      "source": [
        "\n",
        "summary(titanic_train)\n",
        "summary(titanic_test)"
      ],
      "metadata": {
        "id": "JiFWTlDG0cQP"
      },
      "execution_count": null,
      "outputs": []
    },
    {
      "cell_type": "code",
      "metadata": {
        "id": "AfwAohjgfMvg"
      },
      "source": [
        "# Number of NA's\n",
        "colSums(is.na(titanic_train))\n",
        "colSums(is.na(titanic_test))"
      ],
      "execution_count": null,
      "outputs": []
    },
    {
      "cell_type": "markdown",
      "metadata": {
        "id": "TV0KbD9KZ_bz"
      },
      "source": [
        "We will modify dataset_train for our academic purpose :-)"
      ]
    },
    {
      "cell_type": "markdown",
      "metadata": {
        "id": "su9BUYSwb_HX"
      },
      "source": [
        "### Model where all covariates are discrete"
      ]
    },
    {
      "cell_type": "code",
      "metadata": {
        "id": "ZtEboSVjZ-wD"
      },
      "source": [
        "data_dis <- titanic_train %>%\n",
        "  dplyr::select(Survived,Pclass,Sex,Embarked)\n",
        "\n",
        "data_dis %>% mutate_if(is.character,as.factor) %>% summary()\n",
        "\n",
        "data_dis <- data_dis %>%\n",
        "  filter(Embarked %in% c(\"C\",\"Q\",\"S\")) %>%\n",
        "  transmute(survived = as.factor(Survived),\n",
        "            #survived = Survived,\n",
        "            class = as.factor(Pclass),\n",
        "            sex = as.factor(Sex),\n",
        "            embarked = as.factor(Embarked))\n",
        "\n",
        "summary(data_dis)           \n",
        "str(data_dis)\n"
      ],
      "execution_count": null,
      "outputs": []
    },
    {
      "cell_type": "code",
      "metadata": {
        "id": "UT2_FST2eRRX"
      },
      "source": [
        "install.packages(\"GGally\")\n",
        "library(GGally)\n",
        "ggpairs(data_dis)"
      ],
      "execution_count": null,
      "outputs": []
    },
    {
      "cell_type": "code",
      "metadata": {
        "id": "0hEzOim2hR6o"
      },
      "source": [
        "table_data_dis <- table(data_dis)\n",
        "table_data_dis"
      ],
      "execution_count": null,
      "outputs": []
    },
    {
      "cell_type": "code",
      "metadata": {
        "id": "I1cOK3w-hZM1"
      },
      "source": [
        "#prop.table(table_data_dis)\n",
        "#prop.table(table_data_dis,margin=2)*100\n",
        "table(data_dis$survived,data_dis$class)\n",
        "prop.table(table(data_dis$survived,data_dis$class),margin=1)*100\n",
        "prop.table(table(data_dis$survived,data_dis$class),margin=2)*100\n"
      ],
      "execution_count": null,
      "outputs": []
    },
    {
      "cell_type": "code",
      "source": [
        "# Count observations\n",
        "table(data_dis$survived,data_dis$sex)\n",
        "# Conditional proportions given columns\n",
        "prop.table(table(data_dis$survived,data_dis$sex),margin=2)*100\n",
        "# Conditional proportions given rows\n",
        "prop.table(table(data_dis$survived,data_dis$sex),margin=1)*100"
      ],
      "metadata": {
        "id": "R7zdtm0mE0zc"
      },
      "execution_count": null,
      "outputs": []
    },
    {
      "cell_type": "code",
      "source": [
        "\n",
        "table(data_dis$survived,data_dis$embarked)\n",
        "prop.table(table(data_dis$survived,data_dis$embarked),margin=2)*100\n",
        "? prop.table\n"
      ],
      "metadata": {
        "id": "VTu4V54WE24r"
      },
      "execution_count": null,
      "outputs": []
    },
    {
      "cell_type": "code",
      "source": [
        "#table_sex[1,2]"
      ],
      "metadata": {
        "id": "xTbC-rQI29PL"
      },
      "execution_count": null,
      "outputs": []
    },
    {
      "cell_type": "code",
      "metadata": {
        "id": "UzABdm6ZjI2C"
      },
      "source": [
        "# Odss ratio (empirický poměr šancí)\n",
        "OR        <- function(tab){tab[1,1]/tab[1,2]/(tab[2,1]/tab[2,2])}\n",
        "table_sex <- table(data_dis$survived,data_dis$sex)\n",
        "table_sex\n",
        "OR(table_sex)\n",
        "# Men have "
      ],
      "execution_count": null,
      "outputs": []
    },
    {
      "cell_type": "code",
      "metadata": {
        "id": "TQ1U0oesjI_2"
      },
      "source": [
        "#install.packages(\"mosaic\")\n",
        "#library(mosaic)\n",
        "#oddsRatio(table_sex, verbose = TRUE)"
      ],
      "execution_count": null,
      "outputs": []
    },
    {
      "cell_type": "code",
      "metadata": {
        "id": "5cFgfp-n2_s_"
      },
      "source": [
        "install.packages(\"epitools\")\n",
        "library(epitools)\n",
        "oddsratio.wald(table_sex, conf.level = 0.95)"
      ],
      "execution_count": null,
      "outputs": []
    },
    {
      "cell_type": "code",
      "metadata": {
        "id": "ndIG03AM3Z-T"
      },
      "source": [
        "chisq.test(table_sex)"
      ],
      "execution_count": null,
      "outputs": []
    },
    {
      "cell_type": "code",
      "metadata": {
        "id": "-KgtZYVo3aD-"
      },
      "source": [],
      "execution_count": null,
      "outputs": []
    },
    {
      "cell_type": "markdown",
      "metadata": {
        "id": "flohDO_SBgVe"
      },
      "source": [
        "### Null model\n",
        "\n",
        "* Compute the null model (assume that the probability of survival was the same for all passangers)\n",
        "\n",
        "* How do we interpret estimated parameter?"
      ]
    },
    {
      "cell_type": "code",
      "metadata": {
        "id": "bta1ErSXBkn6"
      },
      "source": [
        "mod0=glm(survived~1,family=binomial(link = \"logit\"),data_dis) #\n",
        "summary(mod0)"
      ],
      "execution_count": null,
      "outputs": []
    },
    {
      "cell_type": "code",
      "metadata": {
        "id": "7D8nzeEG3aHO"
      },
      "source": [
        "# The chances of survival according to training data.\n",
        "exp(coef(mod0))\n",
        "\n",
        "# The probability of survival.\n",
        "exp(coef(mod0))/(1+exp(coef(mod0)))\n"
      ],
      "execution_count": null,
      "outputs": []
    },
    {
      "cell_type": "code",
      "metadata": {
        "id": "cMdgRk3JBigz"
      },
      "source": [],
      "execution_count": null,
      "outputs": []
    },
    {
      "cell_type": "markdown",
      "metadata": {
        "id": "UPWeZk4NEviZ"
      },
      "source": [
        "### Model with varaible: sex\n",
        "\n",
        "* Compute the model with one covariate sex. \n",
        "\n",
        "* How can we interpret estiamted coefficients? \n",
        "\n",
        "* Did survival depend on gender (`sex`) ?\n",
        "\n",
        "* Perform an appropriate tests.\n",
        "\n",
        "* Did women have a better chance of survival? \n"
      ]
    },
    {
      "cell_type": "code",
      "metadata": {
        "id": "MiggAEKCBijv"
      },
      "source": [
        "mod_sex=glm(survived~sex,family=binomial(link = \"logit\"),data_dis) #\n",
        "summary(mod_sex)"
      ],
      "execution_count": null,
      "outputs": []
    },
    {
      "cell_type": "markdown",
      "metadata": {
        "id": "8KKuANNV193i"
      },
      "source": [
        "Use deviance to test submodels `anova(model_1,model_2,test=\"Chisq\")`."
      ]
    },
    {
      "cell_type": "code",
      "metadata": {
        "id": "uHBHuBiGE1HC"
      },
      "source": [
        "# The chances of survival according to training data.\n",
        "exp(coef(mod_sex))\n",
        "#sexmale:    0.081668331668578\n",
        "anova(mod_sex,mod0,test=\"Chisq\")\n"
      ],
      "execution_count": null,
      "outputs": []
    },
    {
      "cell_type": "code",
      "metadata": {
        "id": "rkW40xpk6Ysr"
      },
      "source": [
        "#Function to estimate OR with lower and upper limit of 95% CI for OR\n",
        "OR_coef <- function(variable,model,CI){\n",
        "  param <- coef(model)\n",
        "  where <- grep(variable,names(param))[1]\n",
        "  beta  <- param[where]\n",
        "  se <- summary(model)$coef[where,2]\n",
        "  or <- exp(beta)\n",
        "  ci <- exp(beta+c(-1,1)*qnorm(CI/2+0.5)*se)\n",
        "  out <- data.frame(or,ci[1],ci[2])\n",
        "  names(out) <- c(\"OR\",\"LCL\",\"UCL\")\n",
        "  out\n",
        "}\n",
        "OR_coef(\"sex\",mod_sex,0.95)"
      ],
      "execution_count": null,
      "outputs": []
    },
    {
      "cell_type": "markdown",
      "metadata": {
        "id": "QCuc-DIJ9UGZ"
      },
      "source": [
        "Compare with results obtained from contingency table."
      ]
    },
    {
      "cell_type": "code",
      "metadata": {
        "id": "Aw3--fpl9fSs"
      },
      "source": [],
      "execution_count": null,
      "outputs": []
    },
    {
      "cell_type": "markdown",
      "metadata": {
        "id": "-kIqGZEQFp-D"
      },
      "source": [
        "### Your turn:\n",
        "\n",
        "Estimate model with one covariate `class` and compute: \n",
        "\n",
        "1. Did survival depend on (`class`) ?\n",
        "\n",
        "2. Perform an appropriate tests.\n",
        "\n",
        "3. Compute odds ratios between classes.\n",
        "\n",
        "4. Did passangers in second class have a better chance of survival than in third? \n"
      ]
    },
    {
      "cell_type": "code",
      "metadata": {
        "id": "j9YO4TYCF_4J"
      },
      "source": [
        "#1. \n",
        "mod_class <- glm(survived~class,family=binomial(link = \"logit\"),data_dis)\n",
        "summary(mod_class)"
      ],
      "execution_count": null,
      "outputs": []
    },
    {
      "cell_type": "code",
      "metadata": {
        "id": "djCunqa_GAJ8"
      },
      "source": [
        "#2. \n",
        "anova(mod_class,mod0,test = \"Chisq\")"
      ],
      "execution_count": null,
      "outputs": []
    },
    {
      "cell_type": "code",
      "metadata": {
        "id": "MBN8U9pfGAOp"
      },
      "source": [
        "#3.\n",
        "OR_coef(\"class\",mod_class,0.95)\n",
        "\n",
        "beta0 = 0.5158\n",
        "beta1 = -0.6246\n",
        "beta2 = -1.6556\n",
        "\n",
        "exp(beta1) #pomer sanci na preziti(mezi 2. a 1. tridou)\n",
        "exp(beta2) #pomer sanci na preziti(mezi 3 a 1)\n",
        "\n"
      ],
      "execution_count": null,
      "outputs": []
    },
    {
      "cell_type": "code",
      "source": [
        "#4.\n",
        "exp(beta2-beta1) #OR mezi 2. a 3. tridou\n",
        "\n",
        "mod_class_2 <- glm(survived~relevel(factor(class),ref = \"2\"),family=binomial(link = \"logit\"),data_dis)\n",
        "summary(mod_class_2)"
      ],
      "metadata": {
        "id": "maNOb3VWOJzv"
      },
      "execution_count": null,
      "outputs": []
    },
    {
      "cell_type": "markdown",
      "metadata": {
        "id": "42sCjLq-FkV5"
      },
      "source": [
        "### Model with all discrete covariates without interactions"
      ]
    },
    {
      "cell_type": "code",
      "metadata": {
        "id": "pWKH73g5jJDj"
      },
      "source": [
        "# Simple Logistic Regression model with all discrete covariates without interactions\n",
        "mod1=glm(survived~.,family=binomial(link = \"logit\"),data_dis) #\n",
        "summary(mod1)"
      ],
      "execution_count": null,
      "outputs": []
    },
    {
      "cell_type": "markdown",
      "metadata": {
        "id": "qkXZwWVG3rED"
      },
      "source": [
        "Deviance tests to add/drop independent variables.\n",
        "\n",
        "`drop1(model,test=\"Chisq\")`\n",
        "\n",
        "`add1(model,terms.to.add,test=\"Chisq\")`"
      ]
    },
    {
      "cell_type": "code",
      "metadata": {
        "id": "Mu3VGgYDjJGt"
      },
      "source": [
        "drop1(mod1,test=\"Chisq\")\n"
      ],
      "execution_count": null,
      "outputs": []
    },
    {
      "cell_type": "code",
      "metadata": {
        "id": "-wTFLd1T4GAY"
      },
      "source": [
        "add1(mod0,survived~sex+class+embarked, test=\"Chisq\")\n"
      ],
      "execution_count": null,
      "outputs": []
    },
    {
      "cell_type": "code",
      "metadata": {
        "id": "bVIXmCWb5AZO"
      },
      "source": [],
      "execution_count": null,
      "outputs": []
    },
    {
      "cell_type": "code",
      "metadata": {
        "id": "F2xccox0vK_e"
      },
      "source": [
        "data_dis2 <- mutate(data_dis, embarked = fct_recode(embarked, \"Q\" = \"C\"))\n",
        "str(data_dis2)\n",
        "\n",
        "mod1=glm(survived~.,family=binomial(link = \"logit\"),data_dis2) #\n",
        "summary(mod1)"
      ],
      "execution_count": null,
      "outputs": []
    },
    {
      "cell_type": "code",
      "metadata": {
        "id": "dkfQCaGSvLCi"
      },
      "source": [
        "#mod1=glm(survived~relevel(factor(sex),ref=\"male\")+class+embarked,family=binomial(link = \"logit\"),data_dis2) \n",
        "#summary(mod1)\n",
        "\n"
      ],
      "execution_count": null,
      "outputs": []
    },
    {
      "cell_type": "code",
      "metadata": {
        "id": "ZhrNnbuS8rjk"
      },
      "source": [
        "OR_coef(\"sex\",mod1,0.95)"
      ],
      "execution_count": null,
      "outputs": []
    },
    {
      "cell_type": "markdown",
      "metadata": {
        "id": "5jkf4N0EHHb0"
      },
      "source": [
        "Interpret previous result:\n",
        "\n",
        "* By how many percentage is the chance of survival lower for  men? \n",
        "\n",
        "* Interpret confidence intrval and its significance.\n"
      ]
    },
    {
      "cell_type": "markdown",
      "metadata": {
        "id": "VirGNE8J9kWA"
      },
      "source": [
        "Lets try model with second order interactions.\n"
      ]
    },
    {
      "cell_type": "code",
      "metadata": {
        "id": "uT7yNEgH8ruU"
      },
      "source": [
        "add1(mod1,~.^2,test=\"Chisq\")"
      ],
      "execution_count": null,
      "outputs": []
    },
    {
      "cell_type": "code",
      "metadata": {
        "id": "CmX8KMnk9G6y"
      },
      "source": [
        "mod2_all <- glm(survived~(.)^2,family=binomial(link = \"logit\"),data_dis) #\n",
        "summary(mod2_all)\n"
      ],
      "execution_count": null,
      "outputs": []
    },
    {
      "cell_type": "code",
      "metadata": {
        "id": "1bKbLLgZ-xN-"
      },
      "source": [
        "step(mod2_all)"
      ],
      "execution_count": null,
      "outputs": []
    },
    {
      "cell_type": "code",
      "metadata": {
        "id": "_rdGvZUe9G-x"
      },
      "source": [
        "mod2 <- glm(survived~ class + sex + embarked + class:sex + sex:embarked,family=binomial(link = \"logit\"),data_dis) #\n",
        "summary(mod2)"
      ],
      "execution_count": null,
      "outputs": []
    },
    {
      "cell_type": "code",
      "metadata": {
        "id": "7gSz2aqQFVBG"
      },
      "source": [
        "anova(mod2_all,mod2,test=\"Chisq\")"
      ],
      "execution_count": null,
      "outputs": []
    },
    {
      "cell_type": "markdown",
      "metadata": {
        "id": "iVLJsFVyGN-N"
      },
      "source": [
        "Interpretation by OR in models with interactions is more complitacated, see Lecture notes."
      ]
    },
    {
      "cell_type": "markdown",
      "metadata": {
        "id": "dgUfzZq4Gks5"
      },
      "source": [
        "Lets try model with merged factor levels.\n",
        "\n",
        "\n"
      ]
    },
    {
      "cell_type": "code",
      "metadata": {
        "id": "vppHkWQD9HJV"
      },
      "source": [
        "data_dis3 <- mutate(data_dis2, class = fct_recode(class, \"2\" = \"1\"))\n",
        "str(data_dis3)"
      ],
      "execution_count": null,
      "outputs": []
    },
    {
      "cell_type": "code",
      "metadata": {
        "id": "7PJi1BUh_ww7"
      },
      "source": [
        "mod2 <- glm(survived~ class + sex + embarked + class:sex + sex:embarked,family=binomial(link = \"logit\"),data_dis3) #\n",
        "summary(mod2)"
      ],
      "execution_count": null,
      "outputs": []
    },
    {
      "cell_type": "code",
      "metadata": {
        "id": "iEbWdTcY_wz9"
      },
      "source": [
        "mod3 <- glm(survived~ (.)^2,family=binomial(link = \"logit\"),data_dis3) #\n",
        "anova(mod2,mod3,test=\"Chisq\")\n"
      ],
      "execution_count": null,
      "outputs": []
    },
    {
      "cell_type": "code",
      "metadata": {
        "id": "Ci6TaxOW_w2y"
      },
      "source": [],
      "execution_count": null,
      "outputs": []
    },
    {
      "cell_type": "markdown",
      "metadata": {
        "id": "PJSz8gifGy1p"
      },
      "source": [
        "## Model with continuous independent variable.\n"
      ]
    },
    {
      "cell_type": "markdown",
      "source": [
        "Discuss difference from models without continuous variable (again)!!!"
      ],
      "metadata": {
        "id": "gga0Fav7Q2W8"
      }
    },
    {
      "cell_type": "code",
      "metadata": {
        "id": "yI6EhBMzJSmz"
      },
      "source": [
        "str(titanic_train)"
      ],
      "execution_count": null,
      "outputs": []
    },
    {
      "cell_type": "code",
      "metadata": {
        "id": "2LoARzISGzJ0"
      },
      "source": [
        "data_con <- titanic_train %>%\n",
        "  dplyr::select(Survived,Pclass,Sex,Embarked,Age,Fare)\n",
        "\n",
        "data_con %>% mutate_if(is.character,as.factor) %>% summary()\n",
        "\n",
        "data_con <- data_con %>%\n",
        "  filter(Embarked %in% c(\"C\",\"Q\",\"S\")) %>%\n",
        "  transmute(survived = as.factor(Survived),\n",
        "            #survived = Survived,\n",
        "            class = as.factor(Pclass),\n",
        "            sex = as.factor(Sex),\n",
        "            embarked = as.factor(Embarked),\n",
        "            age = Age,\n",
        "            fare = Fare) %>%\n",
        "  drop_na()          \n",
        "\n",
        "data_con <- na.omit(data_con)\n",
        "summary(data_con)           \n",
        "str(data_con)"
      ],
      "execution_count": null,
      "outputs": []
    },
    {
      "cell_type": "code",
      "metadata": {
        "id": "9YIZsc2vQT_k"
      },
      "source": [
        "ggpairs(data_con  %>% dplyr::select(survived,age,fare,class))"
      ],
      "execution_count": null,
      "outputs": []
    },
    {
      "cell_type": "code",
      "metadata": {
        "id": "_SZbeK-FQUJk"
      },
      "source": [
        "ggplot(data_con, aes(x=sex, y=age, fill = survived)) + \n",
        "  geom_boxplot()+\n",
        "  labs(title=\"Gender boxplot\",x=\"Gender\", y = \"Age\")+\n",
        "  #geom_jitter(shape=16, position=position_jitter(0.2)) +\n",
        "  stat_summary(fun=mean, geom=\"point\", shape=23, size=3) +\n",
        "  theme_classic()"
      ],
      "execution_count": null,
      "outputs": []
    },
    {
      "cell_type": "code",
      "metadata": {
        "id": "NrL-2GL1zDtb"
      },
      "source": [
        "ggplot(data_con, aes(x=class, y=fare, fill = survived)) + \n",
        "  geom_boxplot()+\n",
        "  labs(title=\"Class x Fare\",x=\"Class\", y = \"Fare\")+\n",
        "  #geom_jitter(shape=16, position=position_jitter(0.2)) +\n",
        "  stat_summary(fun=mean, geom=\"point\", shape=23, size=3) +\n",
        "  theme_classic()"
      ],
      "execution_count": null,
      "outputs": []
    },
    {
      "cell_type": "markdown",
      "metadata": {
        "id": "gN0UJs4PSjcY"
      },
      "source": [
        "Continuous variable as factor"
      ]
    },
    {
      "cell_type": "code",
      "metadata": {
        "id": "NN70zHIpQUMz"
      },
      "source": [
        "data_con_fac <- data_con %>%\n",
        "  mutate(age = cut(age,\n",
        "                    breaks=c(-Inf, 15, 50, Inf), \n",
        "                    labels=c(\"child\",\"adult\",\"senior\")))\n",
        "ggpairs(data_con_fac)"
      ],
      "execution_count": null,
      "outputs": []
    },
    {
      "cell_type": "code",
      "metadata": {
        "id": "QouMFb1LXVvl"
      },
      "source": [
        "mod_0 <- glm(survived ~ 1, family = binomial,data = data_con_fac )"
      ],
      "execution_count": null,
      "outputs": []
    },
    {
      "cell_type": "code",
      "metadata": {
        "id": "hyHUUA3iIzqy"
      },
      "source": [
        "mod_age_fac <- glm(survived ~ age, family = binomial,data = data_con_fac )\n",
        "summary(mod_age_fac)\n",
        "exp(coef(mod_age_fac))"
      ],
      "execution_count": null,
      "outputs": []
    },
    {
      "cell_type": "markdown",
      "metadata": {
        "id": "mD47uutFW7fq"
      },
      "source": [
        "Is the chance decreasing with increasing age?"
      ]
    },
    {
      "cell_type": "code",
      "metadata": {
        "id": "glFlpkE7WY5E"
      },
      "source": [
        "anova(mod_age_fac,mod_0,test=\"Chisq\")"
      ],
      "execution_count": null,
      "outputs": []
    },
    {
      "cell_type": "code",
      "metadata": {
        "id": "K1-4oyxDIztp"
      },
      "source": [
        "mod_age <- glm(survived ~ I(age/10), family = binomial,data = data_con ) #co se stane, pokud vek vzroste o 10 let\n",
        "summary(mod_age)\n",
        "exp(coef(mod_age))"
      ],
      "execution_count": null,
      "outputs": []
    },
    {
      "cell_type": "markdown",
      "metadata": {
        "id": "fL0gYJp4YNbG"
      },
      "source": [
        "Question:\n",
        "\n",
        "* With increasing age by 10 years, chance to survive decreased by 11%. \n",
        "\n",
        "* What do you think about causality in this result?"
      ]
    },
    {
      "cell_type": "code",
      "metadata": {
        "id": "I-xGC5yNIzwd"
      },
      "source": [
        "anova(mod_age,mod_0,test=\"Chisq\")"
      ],
      "execution_count": null,
      "outputs": []
    },
    {
      "cell_type": "markdown",
      "metadata": {
        "id": "yGWlCERLZoxl"
      },
      "source": [
        "Question:\n",
        "\n",
        "* Can we compare by deviance test models `mod_age` and `mod_age_fac`?\n",
        "* Which model do you prefere and why?\n",
        "* For which approach (factorized or continuous) saturated model is useful and why?\n"
      ]
    },
    {
      "cell_type": "code",
      "metadata": {
        "id": "eM2WYaTyIzzD"
      },
      "source": [
        "#mod_sat_fac <- glm(survived ~ sex*age*embarked*class, family = binomial,data = (data_con %>% mutate(age= as.factor(age), fare = as.factor(fare)) ))\n",
        "#summary(mod_sat_fac)"
      ],
      "execution_count": null,
      "outputs": []
    },
    {
      "cell_type": "code",
      "metadata": {
        "id": "sNhOXHGsIz1w"
      },
      "source": [],
      "execution_count": null,
      "outputs": []
    },
    {
      "cell_type": "code",
      "metadata": {
        "id": "BjhoEQb7Iz4i"
      },
      "source": [
        "# je uzitecny pro faktorizovany, ale ve spojitem muzeme pak odpovedet na otazky, ktere nam faktorizovany neda (napr. rozdil mezi 25 a 35 letym)"
      ],
      "execution_count": null,
      "outputs": []
    },
    {
      "cell_type": "markdown",
      "metadata": {
        "id": "aHoKBY8sbD2i"
      },
      "source": [
        "Your turn:\n",
        "\n",
        "Consider a model with continuos variables `age`, `fare`, and any factor variable. \n",
        "\n",
        "* Create factor `child`, which takes values 1 (child) and 0 (adult).\n",
        "* Create factor from varaible `fare`, where each level break is by 10 pounds.\n",
        "* Estimate a model, where the chance of survival depends on factorized `fare` and `sex` and `child`.\n",
        "* What percentage is the chance of survival lower for adult compare to child? \n",
        "* Depends the probability of survival on fare? Test it.\n",
        "* Assume that the chance of survival increases with exponential increasig fare. How the chance of survival increased if the person spent an extra 10 pound for a ticket? \n",
        "* Build a model where the probabilty of survival depends on both `age` and `fare`. Are both covariates significant?\n",
        "* "
      ]
    },
    {
      "cell_type": "markdown",
      "source": [
        "*   Využijeme *data_con*, kde proměnné *fare* a *age* jsou spojité a *sex* faktorová.\n",
        "\n"
      ],
      "metadata": {
        "id": "Mws4JWqRQQKo"
      }
    },
    {
      "cell_type": "code",
      "metadata": {
        "id": "piHSJCMXmD_b"
      },
      "source": [
        "str(data_con)\n",
        "\n",
        "model1 <- glm(survived ~ age + fare + sex,family = binomial, data = data_con)\n",
        "summary(model1)"
      ],
      "execution_count": null,
      "outputs": []
    },
    {
      "cell_type": "markdown",
      "source": [
        "*   Vytvoříme faktorové proměnné *child* a *fare*:\n",
        "\n"
      ],
      "metadata": {
        "id": "YOZ7db4qgLjm"
      }
    },
    {
      "cell_type": "code",
      "metadata": {
        "id": "aJdoeBs6mECT"
      },
      "source": [
        "data_con$child <- factor(ifelse(data_con$age < 16 , 1, 0))\n",
        "data_con$fare_factor <- cut(data_con$fare, breaks = seq(0, max(data_con$fare), by=20), include.lowest=TRUE)\n",
        "\n",
        "data_con <- na.omit(data_con)\n",
        "summary(data_con)\n",
        "str(data_con)"
      ],
      "execution_count": null,
      "outputs": []
    },
    {
      "cell_type": "markdown",
      "source": [
        "*   Model závisející na faktorizované proměnné *fare, sex* a *child*:"
      ],
      "metadata": {
        "id": "l12h5euagjNF"
      }
    },
    {
      "cell_type": "code",
      "metadata": {
        "id": "OUJpeS9hmEFJ"
      },
      "source": [
        "model2 <- glm(survived ~ sex + child + fare_factor, family = binomial, data = data_con)\n",
        "summary(model2)"
      ],
      "execution_count": null,
      "outputs": []
    },
    {
      "cell_type": "markdown",
      "source": [
        "*   Abychom vyjádřili o kolik procent má dospělý nižší šanci na přežití, musíme si nejprve spočítat poměr šancí pro dospělého oproti dítěti.\n",
        "\n"
      ],
      "metadata": {
        "id": "5w5NGpluLUlS"
      }
    },
    {
      "cell_type": "code",
      "source": [
        "OR_child <- exp(coef(model2)[3])    # poměr šancí na přežití child vs adult\n",
        "OR_child\n",
        "\n",
        "OR_adult <- 1/OR_child              # poměr šancí na přežití adult vs child\n",
        "OR_adult\n",
        "\n",
        "percentage_change <- (OR_adult -1)*100\n",
        "percentage_change"
      ],
      "metadata": {
        "id": "zDG3Diz3_fug"
      },
      "execution_count": null,
      "outputs": []
    },
    {
      "cell_type": "markdown",
      "source": [
        "> Z poměru šancí dostaneme, že dítě má 2,18krát vyšší šanci na přežití a tedy šance na přežití dospělého klesne o 54%.\n",
        "\n",
        "\n",
        "\n"
      ],
      "metadata": {
        "id": "jTR2XXaRLi0u"
      }
    },
    {
      "cell_type": "markdown",
      "source": [
        "*   Vytvoříme model bez proměnné *fare* a pomocí testu anova porovnáme s modelem 2 s proměnnou *fare*.\n",
        "\n"
      ],
      "metadata": {
        "id": "4oSL4jVFTXfi"
      }
    },
    {
      "cell_type": "code",
      "source": [
        "model_without_fare <- glm(survived ~ sex + child, family = binomial, data = data_con)\n",
        "summary(model_without_fare)\n",
        "\n",
        "anova(model2,model_without_fare,test = \"Chisq\")"
      ],
      "metadata": {
        "id": "-ubLOa8B_80x"
      },
      "execution_count": null,
      "outputs": []
    },
    {
      "cell_type": "markdown",
      "source": [
        "> Dle testu anova je model s proměnnou *fare* statisticky odlišný od modelu bez této proměnné, a tedy pravděpodobnost přežití na proměnné *fare* závisí.\n",
        "\n"
      ],
      "metadata": {
        "id": "Q4eejAPbL9ke"
      }
    },
    {
      "cell_type": "markdown",
      "source": [
        "*   O kolik procent se zvýší šance na přežití, když si cestující připlatí 10 liber?\n",
        "\n",
        "\n"
      ],
      "metadata": {
        "id": "iIf7KRajU64I"
      }
    },
    {
      "cell_type": "code",
      "source": [
        "model3 <- glm(survived ~ I(fare/10), family = binomial, data = data_con)\n",
        "summary(model3)"
      ],
      "metadata": {
        "id": "MoYZmF_uN3Kn"
      },
      "execution_count": null,
      "outputs": []
    },
    {
      "cell_type": "markdown",
      "source": [
        "> Pokud cestující utratí o 10 liber víc, šance na přežití se zvýší o 15,7%.\n",
        "\n"
      ],
      "metadata": {
        "id": "ygYcbbaKOfJn"
      }
    },
    {
      "cell_type": "markdown",
      "source": [
        "* Model závisející na proměnných *age* a *fare*:\n",
        "\n"
      ],
      "metadata": {
        "id": "wV6nICQjVlxR"
      }
    },
    {
      "cell_type": "code",
      "source": [
        "model_age_fare <- glm(survived ~ age + fare, family = binomial(link = logit), data = data_con)\n",
        "summary(model_age_fare)"
      ],
      "metadata": {
        "id": "NRVnj5RkOd3c"
      },
      "execution_count": null,
      "outputs": []
    },
    {
      "cell_type": "markdown",
      "source": [
        "> Obě proměnné vychází statisticky významné.\n",
        "\n"
      ],
      "metadata": {
        "id": "XSqq-GW5YG4R"
      }
    },
    {
      "cell_type": "markdown",
      "metadata": {
        "id": "Ajs79iDemE_F"
      },
      "source": [
        "Next Exercises (8 and 9):\n",
        "\n",
        "* Logistic regression and binary classification (ROC, accuracy, ...)\n",
        "* Residual analysis\n",
        "* Prediction and confidence intervals\n",
        "* Logistic regression with  ML approach\n",
        "\n"
      ]
    },
    {
      "cell_type": "code",
      "metadata": {
        "id": "4cZJroCQmEIu"
      },
      "source": [],
      "execution_count": null,
      "outputs": []
    }
  ]
}