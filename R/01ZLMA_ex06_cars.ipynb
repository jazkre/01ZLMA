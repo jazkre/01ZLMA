{
  "nbformat": 4,
  "nbformat_minor": 0,
  "metadata": {
    "colab": {
      "private_outputs": true,
      "provenance": [],
      "include_colab_link": true
    },
    "kernelspec": {
      "name": "ir",
      "display_name": "R"
    },
    "language_info": {
      "name": "R"
    }
  },
  "cells": [
    {
      "cell_type": "markdown",
      "metadata": {
        "id": "view-in-github",
        "colab_type": "text"
      },
      "source": [
        "<a href=\"https://colab.research.google.com/github/jazkre/01ZLMA/blob/main/R/01ZLMA_ex06_cars.ipynb\" target=\"_parent\"><img src=\"https://colab.research.google.com/assets/colab-badge.svg\" alt=\"Open In Colab\"/></a>"
      ]
    },
    {
      "cell_type": "markdown",
      "metadata": {
        "id": "pKkuhJ24UgSx"
      },
      "source": [
        "## Analyse data of car accidents in Sweeden."
      ]
    },
    {
      "cell_type": "code",
      "metadata": {
        "id": "7Dz2loKJcEA8"
      },
      "source": [
        "library(tidyverse)\n",
        "library(MASS)\n",
        "library(knitr)\n",
        "\n",
        "install.packages(\"GGally\")\n",
        "library(GGally)\n",
        "\n",
        "#install.packages(\"car\")\n",
        "#library(car)"
      ],
      "execution_count": null,
      "outputs": []
    },
    {
      "cell_type": "code",
      "metadata": {
        "id": "LPUN0WhJIQSy"
      },
      "source": [
        "sweden2 <- \"https://raw.githubusercontent.com/francji1/01ZLMA/main/data/sweden.csv\"\n",
        "cars    <- read.table(sweden2, header = T, sep = \",\")\n",
        "summary(cars)\n",
        "head(cars)"
      ],
      "execution_count": null,
      "outputs": []
    },
    {
      "cell_type": "markdown",
      "metadata": {
        "id": "L4eDVhboFv86"
      },
      "source": [
        "Dataset contains the number of deaths, he number of registered cars, the annual volume of sold fuels, the number of registered vehicles and the year. Our goal will be to create the best possible model for death rates. Since these are the number of events per unit time, we use the Poisson distribution with the *canonical link function*  $g (\\mu) = log(\\mu) $.\n",
        "\n",
        "Because the observed period is relatively long and there have been significant changes in transport, we will only consider data from 1975."
      ]
    },
    {
      "cell_type": "code",
      "metadata": {
        "fig.align": "center",
        "fig.height": 3.5,
        "fig.width": 7,
        "lines_to_next_cell": 2,
        "results": "asis",
        "id": "8YYRVLidFv86"
      },
      "source": [
        "par(mfrow=c(1,2))\n",
        "plot(cars$Deaths~cars$Year, col=\"red\", lwd=2)\n",
        "cars <- cars[cars$Year>1974,]\n",
        "plot(cars$Deaths~cars$Year, col=\"red\", lwd=2)"
      ],
      "execution_count": null,
      "outputs": []
    },
    {
      "cell_type": "code",
      "metadata": {
        "tags": [
          "remove_output"
        ],
        "id": "WbDYBx7rFv88"
      },
      "source": [
        "detach(cars)\n",
        "attach(cars)\n"
      ],
      "execution_count": null,
      "outputs": []
    },
    {
      "cell_type": "code",
      "source": [
        "rownames(cars)<-NULL\n",
        "cars"
      ],
      "metadata": {
        "id": "xJ5lWdL4slo4"
      },
      "execution_count": null,
      "outputs": []
    },
    {
      "cell_type": "code",
      "metadata": {
        "id": "fl3o-4bBxrR0"
      },
      "source": [
        "ggpairs(cars)"
      ],
      "execution_count": null,
      "outputs": []
    },
    {
      "cell_type": "markdown",
      "metadata": {
        "id": "7fWNPF2bUgYP"
      },
      "source": [
        "# Tasks \n",
        "\n",
        "* Find the best posssible model. Try add all varariables up to the second order interactions. You can use `step()` function based on `AIC`.\n",
        "* Analyse residuals and check systematic components. \n",
        "* If incorrect linear predictor appears, try to transform corresponding variable. Hint: `Fuel_transformed <- log(abs(Fuel-mean(Fuel)))`\n",
        "* Run post hoc analysis of your final model again\n",
        "* Find influence observations and decide how to cope with them (if any)\n",
        "* Hide last 5 observations, train the model using remaining and try to predict response for the 5 hidden latest observations. Plot predictiions together with true observations.\n"
      ]
    },
    {
      "cell_type": "markdown",
      "metadata": {
        "id": "XiNS75mlbc85"
      },
      "source": [
        "## Solution from the Lecture book: section 4.6."
      ]
    },
    {
      "cell_type": "code",
      "metadata": {
        "tags": [
          "remove_output"
        ],
        "id": "S3qpjYukbKdG"
      },
      "source": [
        "attach(cars)"
      ],
      "execution_count": null,
      "outputs": []
    },
    {
      "cell_type": "markdown",
      "metadata": {
        "lines_to_next_cell": 0,
        "id": "_h-hwbyRbKdI"
      },
      "source": [
        "##  Model with only one independent variable: Year"
      ]
    },
    {
      "cell_type": "code",
      "metadata": {
        "lines_to_next_cell": 2,
        "id": "pofU2P7zbKdI"
      },
      "source": [
        "mdl_0 <- glm(formula=Deaths~Year,family=poisson(link = \"log\"),data=cars)\n",
        "summary(mdl_0)\n",
        "#printCoefmat(coef(summary(mdl_0)))\n",
        "fit_0 <- predict(mdl_0, type = \"response\")"
      ],
      "execution_count": null,
      "outputs": []
    },
    {
      "cell_type": "markdown",
      "metadata": {
        "lines_to_next_cell": 0,
        "id": "MuDhtNP0bKdJ"
      },
      "source": [
        "##  Model with all available independent variables, but without interactions"
      ]
    },
    {
      "cell_type": "code",
      "metadata": {
        "lines_to_next_cell": 0,
        "id": "RcTCVtNMbKdJ"
      },
      "source": [
        "mdl_1 <- glm(formula=Deaths~Year+Cars+Fuel,family=poisson(link = \"log\"),data=cars)\n",
        "summary(mdl_1)\n",
        "#printCoefmat(coef(summary(mdl_1)))\n",
        "fit_1 <- mdl_1$fitted.values"
      ],
      "execution_count": null,
      "outputs": []
    },
    {
      "cell_type": "code",
      "metadata": {
        "fig.align": "center",
        "fig.height": 3.5,
        "fig.width": 4,
        "lines_to_next_cell": 0,
        "results": "asis",
        "id": "-RZdazjmbKdK"
      },
      "source": [
        "plot(Year, Deaths, col=\"red\", cex=1, lwd=2)\n",
        "lines(Year, fit_0, col=\"blue\", type = \"l\", lwd=2)\n",
        "lines(Year, fit_1, col=\"brown\", type = \"l\", lwd=2)\n",
        "legend(\"topright\",  legend = c(\"Data\", \"Model 0\", \"Model 1\"), \n",
        "   col = c(\"red\",\"blue\",\"brown\"), bty=\"n\", lwd = 2, pch=c(1,NA,NA), cex=0.9, lty=c(0,1,1))"
      ],
      "execution_count": null,
      "outputs": []
    },
    {
      "cell_type": "code",
      "metadata": {
        "id": "60X2mimQiKvr"
      },
      "source": [
        "#library(ggplot2)\n",
        "#install.packages(\"gridExtra\")\n",
        "#library(gridExtra)\n",
        "\n",
        "p <- ggplot(cars %>%  mutate(model_0 = mdl_0$fitted.values,\n",
        "                 model_1 = mdl_1$fitted.values) %>%\n",
        "            pivot_longer(cols = starts_with(\"model\"),\n",
        "                         names_to = \"model\",\n",
        "                         values_to = \"fit\"),\n",
        "            aes(x = Year, y = Deaths, colour = model)) + \n",
        "      geom_point(color = \"black\") +\n",
        "      geom_line(aes(y = fit), size = 1)\n",
        "p"
      ],
      "execution_count": null,
      "outputs": []
    },
    {
      "cell_type": "code",
      "metadata": {
        "id": "B7vtuyaXbKdK"
      },
      "source": [
        "AIC_0 <- mdl_0$aic\n",
        "AIC_1 <- mdl_1$aic\n",
        "c(AIC_0, AIC_1)"
      ],
      "execution_count": null,
      "outputs": []
    },
    {
      "cell_type": "markdown",
      "metadata": {
        "lines_to_next_cell": 0,
        "id": "h34X5Kp1bKdK"
      },
      "source": [
        "## Model with all second order interactions"
      ]
    },
    {
      "cell_type": "code",
      "metadata": {
        "id": "7GAHoLwBhXhW"
      },
      "source": [
        "mdl_2 <- glm(formula=Deaths~(.)^2,family=poisson(link = \"log\"),data=cars)\n",
        "#mdl_2 <- glm(formula=Deaths~(Year+Cars+Fuel)^2,family=poisson(link = \"log\"))\n",
        "\n",
        "AIC_2 <- mdl_2$aic\n",
        "AIC_2\n",
        "printCoefmat(coef(summary(mdl_2)))"
      ],
      "execution_count": null,
      "outputs": []
    },
    {
      "cell_type": "markdown",
      "metadata": {
        "lines_to_next_cell": 0,
        "id": "C5bJNtU4bKdM"
      },
      "source": [
        "Vidíme, že hodnota AIC se opět snížila, i když interakce se v modelu zdají nevýznamné. Odstraníme tu nejméně významnou dle p-hodnoty, tedy `Cars:Fuel`.  Další možnost, jak se rozhodnout, kterou proměnnou z modelu vypustit nabízí použití funkce `drop1()`,"
      ]
    },
    {
      "cell_type": "code",
      "metadata": {
        "id": "pfsdG-6TbKdM"
      },
      "source": [
        "drop1(mdl_2, test=\"Chisq\")"
      ],
      "execution_count": null,
      "outputs": []
    },
    {
      "cell_type": "markdown",
      "metadata": {
        "id": "PbC-rXybbKdM"
      },
      "source": [
        "která kromě p-hodnot vrací i deviaci a AIC statistiku pro model po vynechání dané proměnné. Vidíme i zde, že vynechání interakce `Cars:Fuel` má za následek nejmenší nárůst deviace a největší pokles AIC. Vynecháme ji tedy"
      ]
    },
    {
      "cell_type": "code",
      "metadata": {
        "lines_to_next_cell": 0,
        "id": "IIZmXrE_bKdM"
      },
      "source": [
        "mdl_3 <- update(mdl_2, ~. - Cars:Fuel)  \n",
        "# mdl_3 <- glm(formula=Deaths~(.)^2-Cars:Fuel,family=poisson(link = \"log\"),data=cars)\n",
        "printCoefmat(coef(summary(mdl_3)))\n",
        "AIC_3 <- mdl_3$aic\n",
        "AIC_3"
      ],
      "execution_count": null,
      "outputs": []
    },
    {
      "cell_type": "markdown",
      "metadata": {
        "lines_to_next_cell": 0,
        "id": "gY8SEj2cbKdM"
      },
      "source": [
        "Hodnota AIC se opět snížila, vynecháme další nevýznamnou interakci `Year:Cars`"
      ]
    },
    {
      "cell_type": "code",
      "source": [
        "summary(mdl_3)"
      ],
      "metadata": {
        "id": "N26yQewSAOcy"
      },
      "execution_count": null,
      "outputs": []
    },
    {
      "cell_type": "code",
      "metadata": {
        "lines_to_next_cell": 0,
        "id": "UnGoyDVvbKdN"
      },
      "source": [
        "mdl_4 <- update(mdl_3, ~. - Year:Cars)\n",
        "printCoefmat(coef(summary(mdl_4)))\n",
        "AIC_4 <- mdl_4$aic; AIC_4"
      ],
      "execution_count": null,
      "outputs": []
    },
    {
      "cell_type": "markdown",
      "metadata": {
        "lines_to_next_cell": 0,
        "id": "RwqapuMebKdP"
      },
      "source": [
        "Opět došlo ke snížení AIC a všechny proměnné a interakce už jsou v modelu významné.\n",
        "\n",
        "Porovnejme ještě modely mezi sebou. Nejdříve Model 4 a Model 3"
      ]
    },
    {
      "cell_type": "code",
      "metadata": {
        "lines_to_next_cell": 0,
        "id": "90DvKzz5bKdP"
      },
      "source": [
        "anova(mdl_4,mdl_3, test=\"Chisq\")"
      ],
      "execution_count": null,
      "outputs": []
    },
    {
      "cell_type": "markdown",
      "metadata": {
        "lines_to_next_cell": 0,
        "id": "NJKv4scCbKdP"
      },
      "source": [
        "Vidíme, že mezi nimi není významný rozdíl, jako lepší tedy bereme Model 4, který má méně parametrů (tomu odpovídá i hodnota AIC). Ještě porovnáme Model 1 bez interakcí s Modelem 4 s jednou interakcí"
      ]
    },
    {
      "cell_type": "code",
      "metadata": {
        "lines_to_next_cell": 0,
        "id": "IPq_zRHobKdP"
      },
      "source": [
        "anova(mdl_1,mdl_4, test=\"Chisq\")"
      ],
      "execution_count": null,
      "outputs": []
    },
    {
      "cell_type": "markdown",
      "source": [
        "modely sa štatisticky významne nelíšia"
      ],
      "metadata": {
        "id": "nucPJUg2Ag2E"
      }
    },
    {
      "cell_type": "markdown",
      "metadata": {
        "lines_to_next_cell": 0,
        "id": "JCeHh-jCbKdP"
      },
      "source": [
        "Tenokráte je rozdíl významný, jako prozatím finální model tedy budeme uvažovat Model 4."
      ]
    },
    {
      "cell_type": "code",
      "metadata": {
        "fig.align": "center",
        "fig.height": 3.5,
        "fig.width": 4,
        "results": "asis",
        "id": "oQuGbp2XbKdP"
      },
      "source": [
        "fit_4 <- predict(mdl_4, type = \"response\")\n",
        "plot(Year, Deaths, col=\"red\", lwd=2)\n",
        "lines(Year, fit_4, col=\"blue\", type = \"l\", lwd=2)"
      ],
      "execution_count": null,
      "outputs": []
    },
    {
      "cell_type": "code",
      "metadata": {
        "id": "fMd7QjNnuh4O"
      },
      "source": [
        "p <- ggplot(cars %>%  mutate(model_0 = mdl_0$fitted.values,\n",
        "                 model_1 = mdl_1$fitted.values,\n",
        "                 model_4 = mdl_4$fitted.values) %>%\n",
        "            pivot_longer(cols = starts_with(\"model\"),\n",
        "                         names_to = \"model\",\n",
        "                         values_to = \"fit\"),\n",
        "            aes(x = Year, y = Deaths, colour = model)) + \n",
        "      geom_point(color = \"black\") +\n",
        "      geom_line(aes(y = fit), size = 1)\n",
        "p"
      ],
      "execution_count": null,
      "outputs": []
    },
    {
      "cell_type": "markdown",
      "metadata": {
        "lines_to_next_cell": 0,
        "id": "fiCO3oO7bKdP"
      },
      "source": [
        "K výběru vhodných proměnných lze použít i automatickou proceduru zpětného výběru pomocí funkce `step()`,"
      ]
    },
    {
      "cell_type": "code",
      "metadata": {
        "eval": false,
        "lines_to_next_cell": 0,
        "id": "A_ScUFDYbKdP"
      },
      "source": [
        "mdl_4b <- step(mdl_2, direction=\"backward\",k=2,trace=1)\n",
        "summary(mdl_4b)"
      ],
      "execution_count": null,
      "outputs": []
    },
    {
      "cell_type": "markdown",
      "metadata": {
        "id": "WmZ4pri8bKdQ"
      },
      "source": [
        "která v tomto případě vrátí stejný model."
      ]
    },
    {
      "cell_type": "markdown",
      "metadata": {
        "lines_to_next_cell": 0,
        "id": "GGpkWAbqbKdQ"
      },
      "source": [
        "## Analysis of residuals and influential observations"
      ]
    },
    {
      "cell_type": "code",
      "metadata": {
        "id": "oNlKUuU5bKdQ"
      },
      "source": [
        "r.ds <- rstandard(mdl_4, type = \"deviance\")  # standardizovaná deviační rezidua"
      ],
      "execution_count": null,
      "outputs": []
    },
    {
      "cell_type": "code",
      "metadata": {
        "fig.align": "center",
        "fig.height": 6,
        "fig.width": 7,
        "lines_to_next_cell": 0,
        "results": "asis",
        "id": "YIR2goNZbKdR"
      },
      "source": [
        "par(mfrow=c(2,2))\n",
        "# obrázky standardizovaných deviačních reziduí\n",
        "scatter.smooth( r.ds ~ fit_4, las=1,\n",
        "                xlab=\"Fitted values\", ylab=\"Standardized residuals\")\n",
        "scatter.smooth( r.ds ~ Year, las=1,\n",
        "                xlab=\"Year\", ylab=\"Standardized residuals\")\n",
        "scatter.smooth( r.ds ~ Cars, las=1,\n",
        "                xlab=\"Cars\", ylab=\"Standardized residuals\")\n",
        "scatter.smooth( r.ds ~ Fuel, las=1,\n",
        "                xlab=\"Fuel\", ylab=\"Standardized residuals\")"
      ],
      "execution_count": null,
      "outputs": []
    },
    {
      "cell_type": "markdown",
      "metadata": {
        "lines_to_next_cell": 0,
        "id": "Z2G5qkC6bKdR"
      },
      "source": [
        "Obrázky reziduí vypadají poměrně dobře až na obrázek vpravo dole pro proměnnou `Fuel`. To by mohlo značit, že není v modelu obsažena správně, např. může chybět nějaká její mocnina nebo jiná transformace. Malé a velké hodnoty `FUEL` mají za následek záporná rezidua, proměnnou tedy vystředujeme a najdeme vhodnou transformaci"
      ]
    },
    {
      "cell_type": "code",
      "metadata": {
        "lines_to_next_cell": 0,
        "id": "81T2Vmu5bKdS"
      },
      "source": [
        "Fuel.t <- log(abs(Fuel-mean(Fuel)))\n",
        "cars <- cbind(cars, Fuel.t)"
      ],
      "execution_count": null,
      "outputs": []
    },
    {
      "cell_type": "markdown",
      "metadata": {
        "lines_to_next_cell": 0,
        "id": "xvxQv_fbbKdS"
      },
      "source": [
        "kterou přidáme do modelu"
      ]
    },
    {
      "cell_type": "code",
      "metadata": {
        "lines_to_next_cell": 0,
        "id": "kq-MT62ObKdS"
      },
      "source": [
        "mdl_5 <- update(mdl_4, ~. +Fuel.t)\n",
        "summary(mdl_5)"
      ],
      "execution_count": null,
      "outputs": []
    },
    {
      "cell_type": "markdown",
      "metadata": {
        "lines_to_next_cell": 0,
        "id": "NVE_3RTAbKdS"
      },
      "source": [
        "Všecny parametry jsou v modelu významné a navíc došlo kdalšímu poklesu hodnoty AIC. Porovnejme ještě modely 4 a 5 pomocí LRT testu"
      ]
    },
    {
      "cell_type": "code",
      "metadata": {
        "lines_to_next_cell": 0,
        "id": "ipb2v_pgbKdS"
      },
      "source": [
        "anova(mdl_4,mdl_5, test=\"Chisq\")"
      ],
      "execution_count": null,
      "outputs": []
    },
    {
      "cell_type": "markdown",
      "metadata": {
        "lines_to_next_cell": 0,
        "id": "p7FQsMhdbKdS"
      },
      "source": [
        "Rozdíl je významný, lepší je tedy Model 5. Nelze tvrdit, že je to nejlepší možný model, jistě by šly najít i jiné transformace, případně transformace, které by se aplikovali na proměnnou `FUEL` už na začátku modelování. \n"
      ]
    },
    {
      "cell_type": "markdown",
      "source": [
        "Zkontrolujeme rezidua Modelu 5."
      ],
      "metadata": {
        "id": "rAQ31t7wKHuJ"
      }
    },
    {
      "cell_type": "code",
      "metadata": {
        "id": "EmxmlxRMbKdS"
      },
      "source": [
        "fit_5 <- fitted(mdl_5)\n",
        "r.ds <-  rstandard(mdl_5)"
      ],
      "execution_count": null,
      "outputs": []
    },
    {
      "cell_type": "code",
      "metadata": {
        "fig.align": "center",
        "fig.height": 6,
        "fig.width": 7,
        "results": "asis",
        "id": "pNtip9PGbKdT"
      },
      "source": [
        "par(mfrow=c(2,3))\n",
        "# obrazky standardizovanych deviacnich rezidui\n",
        "scatter.smooth( r.ds ~ fit_5, las=1,\n",
        "                xlab=\"Fitted values\", ylab=\"Standardized residuals\")\n",
        "scatter.smooth( r.ds ~ Year, las=1,\n",
        "                xlab=\"Year\", ylab=\"Standardized residuals\")\n",
        "scatter.smooth( r.ds ~ Cars, las=1,\n",
        "                xlab=\"Cars\", ylab=\"Standardized residuals\")\n",
        "scatter.smooth( r.ds ~ Fuel, las=1,\n",
        "                xlab=\"Fuel\", ylab=\"Standardized residuals\")\n",
        "scatter.smooth( r.ds ~ Fuel.t, las=1,\n",
        "                xlab=\"Fuel.t\", ylab=\"Standardized residuals\")\n"
      ],
      "execution_count": null,
      "outputs": []
    },
    {
      "cell_type": "code",
      "metadata": {
        "id": "ggZOCRrOwTz2"
      },
      "source": [],
      "execution_count": null,
      "outputs": []
    },
    {
      "cell_type": "markdown",
      "metadata": {
        "lines_to_next_cell": 0,
        "id": "GkOsk1cfbKdT"
      },
      "source": [
        "Rezidua teď vypadají mnohem rovnoměrněji rozdělena.Podívejme se ješte na vhodnost použité spojovací funkce a normalitu reziduí"
      ]
    },
    {
      "cell_type": "code",
      "metadata": {
        "fig.align": "center",
        "fig.height": 3.5,
        "fig.width": 7,
        "lines_to_next_cell": 0,
        "results": "asis",
        "id": "nF8sZdMubKdT"
      },
      "source": [
        "par(mfrow=c(1,2))\n",
        "eta <- mdl_5$linear.predictor\n",
        "z <- resid(mdl_5, type=\"working\") + eta\n",
        "plot( z ~ eta, las=1,\n",
        "      xlab=\"Linear predictor, eta\", ylab=\"Working responses, z\")\n",
        "abline(0, 1, col=\"grey\")\n",
        "qqnorm(r.ds)\n",
        "qqline(r.ds)"
      ],
      "execution_count": null,
      "outputs": []
    },
    {
      "cell_type": "markdown",
      "metadata": {
        "id": "S_1LqGccbKdT"
      },
      "source": [
        "Co se týče spojovací funkce, zdá být vše v pořádku. Rezidua vykazují jistou odchylky od normality, ale připomeňme, že v poissonovské regresi by měla být rezidua \"přibližně\" normálně rozdělena.\n",
        "\n"
      ]
    },
    {
      "cell_type": "markdown",
      "source": [
        "### Influential observations analysis by `inflence.measures()`"
      ],
      "metadata": {
        "id": "JYKdri1urFDw"
      }
    },
    {
      "cell_type": "code",
      "metadata": {
        "fig.align": "center",
        "fig.height": 3,
        "fig.width": 6,
        "lines_to_next_cell": 0,
        "results": "asis",
        "id": "Mw9ciRaebKdT"
      },
      "source": [
        "par(mfrow=c(1,2))\n",
        "npar <- dim(cars)[2]\n",
        "n<- dim(cars)[1]\n",
        "cd <- cooks.distance(mdl_5)\n",
        "plot(cd,col=\"red\", lwd=2)\n",
        "abline(8/(n-2*npar),0)\n",
        "lev<-hatvalues(mdl_5)\n",
        "plot(lev,col=\"red\", lwd=2)\n",
        "abline(2*npar/(n),0)"
      ],
      "execution_count": null,
      "outputs": []
    },
    {
      "cell_type": "markdown",
      "metadata": {
        "lines_to_next_cell": 0,
        "id": "ohPedt4jbKdU"
      },
      "source": [
        "Pozorování 36 bylo označeno jako influenční. Pokud použijeme i funkci pro počítání influenčních měr"
      ]
    },
    {
      "cell_type": "code",
      "metadata": {
        "lines_to_next_cell": 0,
        "id": "8L7rWhRpbKdU"
      },
      "source": [
        "im <- influence.measures(mdl_3); names(im)\n",
        "summary(im)\n",
        "colSums( im$is.inf )\n"
      ],
      "execution_count": null,
      "outputs": []
    },
    {
      "cell_type": "markdown",
      "metadata": {
        "lines_to_next_cell": 0,
        "id": "Dn1aseyxbKdU"
      },
      "source": [
        "dostaneme, že jedno pozorování bylo detekováno jako influenční pomocí Cookovy vzdálenosti a jedná se o pozorování 36. Naopak pomocí potenciálů `hat` žádné podezřelé pozorování označeno nebylo.\n",
        "\n"
      ]
    },
    {
      "cell_type": "code",
      "source": [
        "which(im$is.inf[,9]==TRUE) \n",
        "which(im$is.inf[,10]==TRUE) "
      ],
      "metadata": {
        "id": "nMpewHeaK_oV"
      },
      "execution_count": null,
      "outputs": []
    },
    {
      "cell_type": "markdown",
      "metadata": {
        "lines_to_next_cell": 0,
        "id": "qBQ1k94tbKdV"
      },
      "source": [
        "Dojdeme-li k závěru, že pozorování 36 je \"špatné\", můžeme ho odstranit z modelu. Potom "
      ]
    },
    {
      "cell_type": "code",
      "metadata": {
        "lines_to_next_cell": 0,
        "id": "3cUt0qV1bKdV"
      },
      "source": [
        "mdl_5.out <- update(mdl_5, subset = -36)\n",
        "coef(mdl_5.out)\n",
        "coef(mdl_5)"
      ],
      "execution_count": null,
      "outputs": []
    },
    {
      "cell_type": "markdown",
      "metadata": {
        "lines_to_next_cell": 0,
        "id": "xyHHEdhtbKdV"
      },
      "source": [
        "Vidíme, že došlo k mírné změně koeficientů. Rozdíl v odhadech."
      ]
    },
    {
      "cell_type": "code",
      "metadata": {
        "fig.align": "center",
        "fig.height": 4,
        "fig.width": 5,
        "lines_to_next_cell": 0,
        "results": "asis",
        "id": "O3rZ31vtbKdV"
      },
      "source": [
        "fit_5.out <- predict(mdl_5.out, newdata = cars, type = \"response\")\n",
        "plot(Year, Deaths, col=\"red\", lwd=2)\n",
        "lines(Year, fit_5, col=\"blue\", type = \"l\", lwd=3)\n",
        "lines(Year, fit_5.out, col=\"green\", type = \"l\", lty=6, lwd=2)\n",
        "legend(\"topright\", legend = c(\"Data\", \"mdl_5\", \"mdl_5.out\"),\n",
        "    col = c(\"red\",\"blue\",\"green\"), bty=\"n\", lwd = 2, pch=c(1,NA,NA), lty=c(0,1,1))"
      ],
      "execution_count": null,
      "outputs": []
    },
    {
      "cell_type": "markdown",
      "metadata": {
        "id": "yrRprILMbKdW"
      },
      "source": [
        "se však tato změna projeví jen nepatrně u posledního pozorování.\n",
        "\n",
        "\n",
        "\n"
      ]
    },
    {
      "cell_type": "markdown",
      "source": [
        "## ML approach: forecasting the future."
      ],
      "metadata": {
        "id": "mfer9PGbrh5m"
      }
    },
    {
      "cell_type": "markdown",
      "metadata": {
        "id": "I9eEAvEY206L"
      },
      "source": [
        "Last task: Hide last 5 observations, train the model using remaining and try to predict response for the 5 hidden latest observations. Plot predictiions together with true observations."
      ]
    },
    {
      "cell_type": "code",
      "metadata": {
        "id": "dbD8zal16tNg"
      },
      "source": [
        "library(tidyverse)"
      ],
      "execution_count": null,
      "outputs": []
    },
    {
      "cell_type": "code",
      "metadata": {
        "id": "jFz5sXq83boU"
      },
      "source": [
        "sweden2 <- \"https://raw.githubusercontent.com/francji1/01ZLMA/main/data/sweden.csv\"\n",
        "cars <- read.table(sweden2, header = T, sep = \",\") %>% \n",
        "         mutate(Fuel_t = log(abs(Fuel-mean(Fuel)))) %>%\n",
        "         filter(Year > 1974) #%>% \n",
        "         #dplyr::select(-Fuel) \n",
        "\n",
        "head(cars)\n",
        "train <- cars[1:(dim(cars)[1]-5),]\n",
        "test  <- cars[-c(1:(dim(cars)[1]-5)),]\n",
        "dim(train)\n",
        "dim(test)"
      ],
      "execution_count": null,
      "outputs": []
    },
    {
      "cell_type": "code",
      "metadata": {
        "id": "0JQ3MQyb3ZHy"
      },
      "source": [
        "model_cars0 <- glm(Deaths~Year+Cars,family=poisson(link = \"log\"),data=train)\n",
        "summary(model_cars0)\n",
        "\n",
        "model_cars1 <- glm(formula=Deaths~(.)^2,family=poisson(link = \"log\"),data=train) %>%\n",
        "              step(direction=\"backward\",k=2,trace=0)\n",
        "summary(model_cars1)\n",
        "\n",
        "model_cars2 <- glm(Deaths~Year+Cars+ Fuel + Fuel_t + Year:Fuel,family=poisson(link = \"log\"),data=train)\n",
        "summary(model_cars2)\n",
        "\n"
      ],
      "execution_count": null,
      "outputs": []
    },
    {
      "cell_type": "code",
      "source": [
        "#anova(model_cars1,model_cars0,test=\"Chisq\")"
      ],
      "metadata": {
        "id": "wlefI9CoD6Kj"
      },
      "execution_count": null,
      "outputs": []
    },
    {
      "cell_type": "code",
      "metadata": {
        "id": "Rv_gQwAJ5wrF"
      },
      "source": [
        "predict(model_cars2, newdata = test, type = c(\"response\"), se.fit = TRUE)$fit"
      ],
      "execution_count": null,
      "outputs": []
    },
    {
      "cell_type": "code",
      "metadata": {
        "id": "PQ1UFZt7-1Jm"
      },
      "source": [
        "cars2 <-cars %>%  mutate(model_0 = c(model_cars0$fitted.values,predict(model_cars0, newdata = test, type = c(\"response\"), se.fit = TRUE)$fit),\n",
        "                 model_1 = c(model_cars1$fitted.values,predict(model_cars1, newdata = test, type = c(\"response\"), se.fit = TRUE)$fit),\n",
        "                 model_2 = c(model_cars2$fitted.values,predict(model_cars2, newdata = test, type = c(\"response\"), se.fit = TRUE)$fit),\n",
        "                 type = c(rep(\"train\",31),rep(\"test\",5)),\n",
        "                 type = as.factor(type)) %>%\n",
        "            pivot_longer(cols = starts_with(\"model\"),\n",
        "                         names_to = \"model\",\n",
        "                         values_to = \"fit\")\n",
        "\n",
        "p <- ggplot(cars2, aes(x = Year, y = fit, color = model)) + \n",
        "      geom_point(aes(y = Deaths)) +\n",
        "      geom_line(aes(linetype=type, color=model), size = 1)\n",
        "p"
      ],
      "execution_count": null,
      "outputs": []
    },
    {
      "cell_type": "markdown",
      "source": [
        "model 1 je uplne na hovno, zrazu tam uletel niekam do prdele."
      ],
      "metadata": {
        "id": "p1YN_SVAEUEi"
      }
    }
  ]
}