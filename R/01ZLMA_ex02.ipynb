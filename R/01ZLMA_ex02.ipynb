{
  "nbformat": 4,
  "nbformat_minor": 0,
  "metadata": {
    "colab": {
      "name": "01ZLMA_ex02.ipynb",
      "private_outputs": true,
      "provenance": [],
      "include_colab_link": true
    },
    "kernelspec": {
      "name": "ir",
      "display_name": "R"
    }
  },
  "cells": [
    {
      "cell_type": "markdown",
      "metadata": {
        "id": "view-in-github",
        "colab_type": "text"
      },
      "source": [
        "<a href=\"https://colab.research.google.com/github/jazkre/01ZLMA/blob/main/R/01ZLMA_ex02.ipynb\" target=\"_parent\"><img src=\"https://colab.research.google.com/assets/colab-badge.svg\" alt=\"Open In Colab\"/></a>"
      ]
    },
    {
      "cell_type": "markdown",
      "metadata": {
        "id": "x-i6MbNFm4Zt"
      },
      "source": [
        "# 01ZLMA - Exercise 02\n",
        "Exercise 02 of the course 01ZLMA. \n",
        "\n",
        "## Contents\n",
        "\n",
        "* Numeric methods of MLE calculations \n",
        " ---\n",
        "* Newton-Raphson\n",
        "* Fiher scoring - IWLS\n",
        "\n",
        "\n"
      ]
    },
    {
      "cell_type": "markdown",
      "metadata": {
        "id": "593Mg4ZbbeEE"
      },
      "source": [
        "#  Theory recap from Lectures 01-03\n",
        "\n",
        "Let's consider (m1):\n",
        "  1. realization $(y_i,\\ldots,y_n)$ of $iid$ random variables $Y_1,\\ldots,Y_n$ with probability density function $f(y;\\theta;\\phi)$ from an exponential family of probability distributions\n",
        "  $$f(y;\\theta;\\phi) = exp\\left(\\frac{y \\theta - b(\\theta)}{a(\\phi)} - c(y,\\phi)\\right),$$\n",
        "  where conditions of regularity are fulfilled (one dimensional case, i.e. $y_i,\\theta_i \\in R, a(\\phi) >0, \\phi >0)$.\n",
        "  2. Regression matrix $X$ and vector of unknown parameters $\\beta$, linear predictor $η = X \\beta$\n",
        "  3. A link function $g(x)$\n",
        "  $$\\eta_i = g(\\mu_i) = x_i^T \\beta, \\ \\text{where} \\ \\mu_i = E[Y_i] \\ \\ i = 1,\\ldots,n$$\n",
        "\n",
        "The dispersion $a(\\phi)$ is typically known. If not, we take it as nuisance parameter.\n",
        "\n",
        "Link function satisfying $g(\\mu_i) = \\theta_i$ is called canonical."
      ]
    },
    {
      "cell_type": "markdown",
      "metadata": {
        "id": "SpQUiXf-QkGA"
      },
      "source": [
        "For $b(\\theta) \\in C^2$ we showed:\n",
        "$$E[Y] = b'(\\theta) $$\n",
        "$$V[Y] = a(\\phi) b''(\\theta) $$\n",
        "and defined variance function $v(\\mu) = \\frac{\\partial \\mu}{\\partial \\theta}$, i.e. $V[Y] = a(\\phi) v(\\mu)$"
      ]
    },
    {
      "cell_type": "markdown",
      "metadata": {
        "id": "lcJB1uOTZEBZ"
      },
      "source": [
        "Relations:\n",
        "\n",
        "$$\n",
        "\\beta \\xrightarrow[]{\\eta_i = x_i^T\\beta} \\eta\n",
        "\\xrightarrow[]{\\mu_i = g^{-1}(\\eta_i)}  \\mu\n",
        "\\xrightarrow[]{\\theta_i = (b')^{-1}(\\mu_i)}  \\theta\n",
        "$$ \n",
        "\n",
        "Inverse relatiions\n",
        "$$\n",
        "\\eta_i \n",
        "\\xleftarrow[]{}  \\mu\n",
        "\\xleftarrow[]{}  \\theta\n",
        "$$ \n"
      ]
    },
    {
      "cell_type": "markdown",
      "metadata": {
        "id": "Gd7Z1sV3YNOm"
      },
      "source": [
        "## Likelihood, Score function, Information matrix \n",
        "(Under conditions M1,M2 and regularity conditions R1-R3 from the lecture)\n",
        "\n",
        "* Likelihood function:\n",
        "$$L_n(\\Theta) = L_n(\\Theta|Y) = \\prod_{i=1}^{n} f(y_i|\\Theta) $$\n",
        "* log-likelihood function:\n",
        "$$l_n(\\Theta) = l_n(\\Theta|Y) = \\sum_{i=1}^{n} \\text{ln} f(y_i|\\Theta) $$\n",
        "* Score function:  ($R^m \\rightarrow R^m$):\n",
        "$$U = U(\\Theta|Y_i) = \\frac{\\partial \\text{ln} f(y_i|\\Theta)}{\\partial \\Theta} $$\n",
        "* Score vector (statistics):\n",
        "$$U_{n} = U_{n}(\\Theta|Y) = \\sum_{i=1}^{n} U(\\Theta|Y_i)= \\sum_{i=1}^{n} \\frac{\\partial l_i(\\Theta|y_i)}{\\partial \\Theta} $$\n",
        "* Fisher Information matrix\n",
        "$$ I_n (\\Theta) = E_{\\theta}[U_nU_n^T]$$\n",
        "with elements\n",
        "$$ I_{n,j,k} = E_{\\theta}[\\frac{\\partial l}{\\partial \\theta_j}\\frac{\\partial l}{\\partial \\theta_k}] = -E_{\\theta}[\\frac{\\partial^2 l}{\\theta_j \\theta_k}]$$\n",
        "\n",
        "\n",
        "**Questions:**\n",
        "* Interpret Score on Bernoulli process with N successes and M failures, where the probability of success is $\\theta$. What does it mean if Score is greater than zero?\n",
        "* Why is the second derivative called information (use again $E_{\\theta}[U] = 0$)?\n",
        "\n",
        "Note: The choice of the likelihood function is similar to choice of a prior in Bayesian analysis. (https://stats.stackexchange.com/questions/196576/what-kind-of-information-is-fisher-information?noredirect=1&lq=1)\n"
      ]
    },
    {
      "cell_type": "markdown",
      "source": [
        "Add previous question:\n",
        "\n",
        "Likelihood function of r.v. $X$ with Bernoulli distribution and parameter $p \\in (0,1)$:\n",
        "$$L_n(\\Theta) = L_n(\\Theta|X) = \\prod_{i=1}^{n} f(x_i|\\Theta) = \\prod_{i=1}^{n} p^{x_i}(1-p)^{1-x_i} \\ $$\n",
        "Log-likelihood function of Bernoulli distribution:\n",
        "$$l_n(\\Theta) = l_n(\\Theta|X) = \\sum_{i=1}^{n} \\text{ln} f(x_i|\\Theta) = \\sum_{i=1}^{n}  x_i log(p) + (1-x_i)log(1-p) = ylog(p) + (n-y)log(1-p), \\ where \\ Y = \\sum_{i=1}^{n}  X_i$$\n",
        "Score function of Bernoulli distribution: \n",
        "$$U = U(\\Theta|x_i) = \\frac{\\partial \\text{ln} f(x_i|\\Theta)}{\\partial \\Theta}  = \\frac{1}{p} \\sum_{i=1}^{n} x_i - \\frac{1}{1-p} (n - \\sum_{i=1}^{n}  x_i) = \\frac{1}{p} y - \\frac{1}{1-p} (n - y)$$\n",
        "MLE estimation of the parameter $p$:\n",
        "$$\\hat{p}_{MLE} = \\frac{y}{n} $$"
      ],
      "metadata": {
        "id": "ZICKN8ySi76R"
      }
    },
    {
      "cell_type": "code",
      "source": [
        "# Simulation of bernoulli distribution and computation Score function:\n",
        "n=9\n",
        "p= .5\n",
        "x=rbinom(n,1,p)\n",
        "y=sum(x)\n",
        "p_hat = y/n\n",
        "(n*p);p;y;p_hat\n",
        "U = (y/p) - ((n-y)/(1-p))\n",
        "U\n",
        "\n",
        "library(\"ggplot2\")\n",
        "U = function(y){(y/p) - ((n-y)/(1-p))}\n",
        "l = function(p){(y*log(p))+(n-y)*(log(1-p))}\n",
        "#eq = function(y){sin(y)}\n",
        "\n",
        " ggplot(data.frame(x=c(0, n)), aes(x=x))+ \n",
        "  geom_function(fun=U, n=1000) +\n",
        "  geom_vline(xintercept  = n*p)+\n",
        "  xlab(\"Y\") +\n",
        "  ylab(\"U\")\n",
        "\n",
        "ggplot(data.frame(x=c(0, 1)), aes(x=x))+ \n",
        "  geom_function(fun=l, n =1000) +\n",
        "  geom_vline(xintercept  = p_hat)+\n",
        "  xlab(\"Y\") +\n",
        "  ylab(\"l\")"
      ],
      "metadata": {
        "id": "gnvdBJlqhzem"
      },
      "execution_count": null,
      "outputs": []
    },
    {
      "cell_type": "code",
      "source": [],
      "metadata": {
        "id": "Rhklzdz6_GLJ"
      },
      "execution_count": null,
      "outputs": []
    },
    {
      "cell_type": "code",
      "metadata": {
        "id": "wV3e4NaLbVZg"
      },
      "source": [
        "library(tidyverse)\n",
        "library(lubridate)\n",
        "library(MASS)\n",
        "library(rmarkdown)\n",
        "\n",
        "install.packages(\"plotly\")\n",
        "library(plotly)\n",
        "\n",
        "#install.packages(\"car\")\n",
        "#library(car)\n",
        "#install.packages(\"GGally\")\n",
        "#library(GGally)\n",
        "\n",
        "#For sure: set dplyr functions\n",
        "select    <- dplyr::select;\n",
        "rename    <- dplyr::rename;\n",
        "mutate    <- dplyr::mutate; \n",
        "summarize <- dplyr::summarize;\n",
        "arrange   <- dplyr::arrange;\n",
        "slice     <- dplyr::slice;\n",
        "filter    <- dplyr::filter;\n",
        "recode    <- dplyr::recode"
      ],
      "execution_count": null,
      "outputs": []
    },
    {
      "cell_type": "markdown",
      "metadata": {
        "id": "pxEycwoDWr1H"
      },
      "source": [
        "Datasets we will use:\n",
        "\n",
        "Peter K. Dunn • Gordon K. Smyth, Generalized Linear ModelsWith Examples in R\n",
        "\n",
        "https://link.springer.com/content/pdf/10.1007%2F978-1-4419-0118-7.pdf"
      ]
    },
    {
      "cell_type": "code",
      "metadata": {
        "id": "dtjmAUwlXCxB"
      },
      "source": [
        "install.packages(\"GLMsData\")\n",
        "library(GLMsData)\n",
        "#install.packages(\"splines\")\n",
        "#library(splines)\n",
        "#install.packages(\"statmod\")\n",
        "#library(statmod)\n",
        "#install.packages(\"tweedie\")\n",
        "#library(tweedie)"
      ],
      "execution_count": null,
      "outputs": []
    },
    {
      "cell_type": "markdown",
      "metadata": {
        "id": "azYBX7-3XXVw"
      },
      "source": [
        "A. J. Dobson AN INTRODUCTION TO GENERALIZED LINEAR MODELS\n",
        "\n",
        "https://link.springer.com/content/pdf/10.1007%2F978-1-4419-0118-7.pdf"
      ]
    },
    {
      "cell_type": "code",
      "metadata": {
        "id": "Z_t4k-_RXXoZ"
      },
      "source": [
        "install.packages(\"dobson\")\n",
        "library(dobson)"
      ],
      "execution_count": null,
      "outputs": []
    },
    {
      "cell_type": "markdown",
      "metadata": {
        "id": "oCR1hTq70SeK"
      },
      "source": [
        "CRAN packages for generalized linear models and with related methods\n",
        "\n",
        "https://cran.r-project.org/web/packages/cranly/vignettes/glms.html\n",
        "\n"
      ]
    },
    {
      "cell_type": "code",
      "metadata": {
        "id": "rf9DWDSoXYtd"
      },
      "source": [
        "data()"
      ],
      "execution_count": null,
      "outputs": []
    },
    {
      "cell_type": "markdown",
      "metadata": {
        "id": "IeGgMpKWX1EE"
      },
      "source": [
        "**Exercise 01**\n",
        "\n",
        "Estimate parameters $\\beta$ by MLE for M1.\n",
        "\n",
        "log-likelihood function is\n",
        "$$ l(\\theta, \\phi, y) = \\sum_{i=1}^n \\frac{y_i \\theta_i - b(\\theta_i)}{a_i(\\phi)} + \\sum_{i=1}^n c(y_i,\\phi) $$\n",
        "and we want to estimate $\\beta = (\\beta_1, \\ldots, \\beta_n)^T$, i.e.\n",
        "$$ \\hat{\\beta} = argmax_{\\beta}(l(\\theta,\\phi,y))$$\n",
        "$$\\Rightarrow$$\n",
        "$$ U_n = \\sum_{i=1}^n \\frac{y_i - \\mu_i}{V[Y_i]  g'(\\mu_i)} x_i = X^T M^{-1}(y-\\mu) = 0$$\n",
        "where $M = diag(V[Y_i]g'(\\mu_i))$\n",
        "$$\\Rightarrow$$\n",
        "$$ U_n(\\beta) = X^T W(\\beta)^{-1}Z(\\beta),$$\\\n",
        "where $W(\\beta) = diag(V[Y_i]g'(\\mu_i)^2)$ and $Z(\\beta) = diag(g'(\\mu_i)(y-\\mu))$\n"
      ]
    },
    {
      "cell_type": "markdown",
      "metadata": {
        "id": "GB8eoMx10gQN"
      },
      "source": [
        "It can be shown \n",
        "$$I_n = X^T W(\\beta)^{-1} X $$"
      ]
    },
    {
      "cell_type": "markdown",
      "metadata": {
        "id": "JKJ3w-ZY1WAS"
      },
      "source": [
        "## Newton Rapson\n",
        "\n",
        "For MLE using the score function, the estimating equation is\n",
        "$$\\hat{\\beta}^{(r+1)} = \\hat{\\beta}^{(r)} + \\frac{U(\\hat{\\beta}^{(r)})}{\\frac{d U(\\hat{\\beta}^{(r)})}{d \\theta}}$$\n",
        "\n",
        "Question: What are advantages and disadvantages of this method.\n",
        "\n",
        "\n",
        "konv rýchlejšie (ak k.)"
      ]
    },
    {
      "cell_type": "markdown",
      "metadata": {
        "id": "zLJSX9Vr8gwe"
      },
      "source": [
        "## Fisher Scoring\n",
        "\n",
        "$$\\hat{\\beta}^{(r+1)} =  \\hat{\\beta}^{(r)} + \\frac{U(\\hat{\\beta}^{(r)})}{E [\\frac{d U(\\hat{\\beta}^{(r)})}{d \\theta} ]} = \\hat{\\beta}^{(r)} + \\frac{U(\\hat{\\beta}^{(r)})}{I(\\hat{\\beta}^{(r)})}$$\n",
        "\n",
        "Question: What are advantages and disadvantages of this method.\n",
        "\n",
        "zaručená kvg"
      ]
    },
    {
      "cell_type": "markdown",
      "metadata": {
        "id": "_9WHH77u97dn"
      },
      "source": [
        "# IWLS : iterativne vážené najmenšie štvorce\n",
        "\n",
        "$$I(\\hat{\\beta}^{(r)}) \\hat{\\beta}^{(r+1)}  =  I(\\hat{\\beta}^{(r)}) \\hat{\\beta}^{(r)} + U(\\hat{\\beta}^{(r)})$$\n",
        "$$ \\Rightarrow$$\n",
        "$$(X^T W(\\hat{\\beta}^{(r)})^{-1} X) \\hat{\\beta}^{(r+1)}  = X^T W(\\hat{\\beta}^{(r)})^{-1} Z(\\hat{\\beta}^{(r)})  $$"
      ]
    },
    {
      "cell_type": "code",
      "metadata": {
        "id": "4vuRvxDiYAoe"
      },
      "source": [],
      "execution_count": null,
      "outputs": []
    },
    {
      "cell_type": "markdown",
      "metadata": {
        "id": "8d4KK-T_YA_Q"
      },
      "source": [
        "## Poisson regression example (Dobson 4.4)\n",
        "\n"
      ]
    },
    {
      "cell_type": "code",
      "metadata": {
        "id": "I7zgGjhh1PLY"
      },
      "source": [
        "# Generate and plot the Dataset\n",
        "\n",
        "X <- c(-1,-1,0,0,0,0,1,1,1)\n",
        "Y <- c(2,3,6,7,8,9,10,12,15)\n",
        "n <- length(X)\n",
        "\n",
        "df1 <- data.frame(X=X, Y=Y)\n",
        "plot(X,Y,xlim = c(-1.5, 1.5), ylim = c(0, 16), col=\"red\",lwd=6)"
      ],
      "execution_count": null,
      "outputs": []
    },
    {
      "cell_type": "markdown",
      "source": [
        "rastie nám rozptyl\n",
        "\n",
        "potrebujeme spocitat vsetky jednotlive casti aby sme mohli spoč. reg koef."
      ],
      "metadata": {
        "id": "m_EhfhXMDifb"
      }
    },
    {
      "cell_type": "code",
      "metadata": {
        "id": "fAOmEAkLIB3O"
      },
      "source": [
        "#interakt obrazok ->da sa v nom zoomovat\n",
        "\n",
        "#plot_ly(df1, x=~ X, y=~Y, mode = \"markers\") %>%\n",
        "# layout(title = \"Scatter Plot by plotly\") %>%\n",
        "# embed_notebook()"
      ],
      "execution_count": null,
      "outputs": []
    },
    {
      "cell_type": "markdown",
      "metadata": {
        "id": "iGs3-yFPADyY"
      },
      "source": [
        "Let us assume that the response $Y_i$ are Poisson random variables and model the relation ship between $Y_i$ and $x_i$ by the straight line, i.e.\n",
        "$$E[Y_i] = \\mu_i = \\beta_1 + \\beta_2 x_i = x_i^T \\beta \\  \\Rightarrow \\ q(\\mu_i) = \\mu_i =  x_i^T \\beta  = \\eta_i$$\n",
        "Therefore $\\frac{1}{g'(\\mu_i)} = 1 \\ \\Rightarrow \\ w_{ii} = \\frac{1}{V[Y]} = \\frac{1}{\\beta_1 + \\beta_2x_i}$ "
      ]
    },
    {
      "cell_type": "code",
      "metadata": {
        "id": "CM_S6yrHACvN"
      },
      "source": [
        "# Function to calcualate weights\n",
        "calc_W <- function(X,beta){\n",
        "  n = length(X[,1])\n",
        "  w = diag(c(1/(X%*%beta)),n,n)\n",
        "}"
      ],
      "execution_count": null,
      "outputs": []
    },
    {
      "cell_type": "code",
      "metadata": {
        "id": "02IDNNJpC3Hh"
      },
      "source": [
        "# Initial values\n",
        "X=cbind(rep(1,length(n)),c(-1,-1,0,0,0,0,1,1,1)) #init vals\n",
        "beta_0 = c(7,5) #na zaciatku si beta mozeme zvolit\n",
        "z = Y"
      ],
      "execution_count": null,
      "outputs": []
    },
    {
      "cell_type": "code",
      "metadata": {
        "id": "BRhZk1xhESxC"
      },
      "source": [
        "# Compute Weight matrix\n",
        "W <- calc_W(X,beta_0)"
      ],
      "execution_count": null,
      "outputs": []
    },
    {
      "cell_type": "code",
      "metadata": {
        "id": "6RhNW5a7_rNS"
      },
      "source": [
        "# Step from beta_0 to beta_1\n",
        "#vid IWLS 2 riadok: riesime sustavu lin ríc.\n",
        "beta_1 = solve(t(X)%*%W%*%X, t(X)%*%W%*%z)\n",
        "beta_1"
      ],
      "execution_count": null,
      "outputs": []
    },
    {
      "cell_type": "code",
      "metadata": {
        "id": "Hqib7OjtIjCS"
      },
      "source": [
        "# variance-covariance matrix for estamtes beta_1\n",
        "W = calc_W(X,beta_1)\n",
        "solve((t(X)%*%W%*%X))"
      ],
      "execution_count": null,
      "outputs": []
    },
    {
      "cell_type": "markdown",
      "metadata": {
        "id": "cAmB4PDZJKEl"
      },
      "source": [
        "# Your turn:\n",
        "1. Write function to calculate IWLS for example 1 with following parameters\n",
        " * maximal number of iteration\n",
        " * accuracy\n",
        " * initial estimation\n",
        "2. Try different initialization (ols, random, lecture, ...). Plot convergence of parameters $\\beta_i$ depends on initial estimation.\n"
      ]
    },
    {
      "cell_type": "code",
      "metadata": {
        "id": "m2QAtB_zRb6x"
      },
      "source": [
        "# Set parameters\n",
        "\n",
        "maxiter <- 10        # maximal number of iteration\n",
        "epsilon <- 10^(-6)   # accuracy\n",
        "beta_init <- c(7,5)\n",
        "beta_all <- rbind(beta_init)"
      ],
      "execution_count": null,
      "outputs": []
    },
    {
      "cell_type": "code",
      "metadata": {
        "id": "hVF3EMVzRiPc"
      },
      "source": [
        "IWLS_1 <- function(X,Y,beta_init,maxiter,epsilon,beta_all){ #nemame tu par max iter a epsilon -> pozmenit aby to tam bolo\n",
        "  # Fisher-scoring algorithm\n",
        "  i <- 1     # first iteration\n",
        "  convergence <- FALSE\n",
        "  beta_i <- beta_init\n",
        "  while (convergence == FALSE & i <= maxiter)\n",
        "  {\n",
        "  ## Place for your code ###\n",
        "  W = calc_W(X,beta_i)\n",
        "  beta_i = solve(t(X)%*%W%*%X, t(X)%*%W%*%Y)\n",
        "  print(i)\n",
        "  diff   <- max(t(beta_i) - beta_all[i,])\n",
        "  print(paste(\"beta_i:\",beta_i))\n",
        "  print(paste(\"diff:\",diff))\n",
        "  if (any(diff>=epsilon)){\n",
        "     i <- i+1\n",
        "     beta_all <- rbind(beta_all,t(beta_i))\n",
        "  }\n",
        "  else\n",
        "     convergence <- TRUE\n",
        "  }\n",
        "  return(data.frame(beta_all))\n",
        "}"
      ],
      "execution_count": null,
      "outputs": []
    },
    {
      "cell_type": "code",
      "metadata": {
        "id": "1joSTqhKRA0Y"
      },
      "source": [
        "betas <- IWLS_1(X,Y,beta_init,maxiter,epsilon,beta_all)\n",
        "names(betas) <-c(\"beta0\",\"beta1\")\n",
        "betas"
      ],
      "execution_count": null,
      "outputs": []
    },
    {
      "cell_type": "code",
      "source": [
        "betas = betas %>% mutate(iteration = c(1:dim(betas)[1]))"
      ],
      "metadata": {
        "id": "tb3WaRGl4xeQ"
      },
      "execution_count": null,
      "outputs": []
    },
    {
      "cell_type": "markdown",
      "source": [
        "* Change the function to be able to change maxiter and epsilon in the input.\n",
        "* plot betas and its evolution"
      ],
      "metadata": {
        "id": "qPZYzFpE4x-5"
      }
    },
    {
      "cell_type": "code",
      "metadata": {
        "id": "TbHe-J9OOHvR"
      },
      "source": [
        "# Plot ....\n",
        "geom.point()\n",
        "\n"
      ],
      "execution_count": null,
      "outputs": []
    },
    {
      "cell_type": "code",
      "metadata": {
        "id": "QXv_fgQP1teL"
      },
      "source": [
        "#############################################\n",
        "## By default R function\n",
        "\n",
        "model <- glm(Y~-1+X, family=poisson(link = \"identity\"))\n",
        "\n",
        "summary(model) \n",
        "#beta_hat <- coefficients(model)  \n",
        "#beta_hat"
      ],
      "execution_count": null,
      "outputs": []
    },
    {
      "cell_type": "markdown",
      "source": [
        "je treba zvoliť vhodnú rodinu a vnodnu spojovaciu fciu!!!! (link)"
      ],
      "metadata": {
        "id": "D1ChrA2IKGHF"
      }
    },
    {
      "cell_type": "code",
      "metadata": {
        "id": "nZh0p0TSUFtu"
      },
      "source": [],
      "execution_count": null,
      "outputs": []
    },
    {
      "cell_type": "markdown",
      "metadata": {
        "id": "v1fGjyJW1sd8"
      },
      "source": [
        "# HW 02"
      ]
    },
    {
      "cell_type": "markdown",
      "metadata": {
        "id": "6IQ58Goz6hkm"
      },
      "source": [
        "\n",
        "An example 4.1. from the book \"An Introduction to Generalized Linear Models\" by Dobson. The data in Table 4.5 show the numbers of cases of AIDS in Australia by date of diagnosis for successive 3-months periods from 1984 to 1988.\n",
        "\n",
        "* Plot the number of cases $y_i$ against time period (i = 1 ... 20).\n",
        "* Use the Poisson distribution with parameter $\\lambda_i = i^{\\theta}$ or equivalently $log(\\lambda_i) = \\theta log(i)$. Plot $log(y_i)$ against $log(i)$ to examne this model.\n",
        "* Fit a generalized linear model to these data using the Poisson distribution and the log-link function, ie \n",
        "$$ g(\\lambda_i) = log(\\lambda_i) = \\beta_1 + \\beta_2 x_i,$$\n",
        "where $x_i = log_i$."
      ]
    },
    {
      "cell_type": "code",
      "metadata": {
        "id": "k8FrflnA8TGz"
      },
      "source": [
        "data(aids)\n",
        "summary(aids)\n",
        "aids"
      ],
      "execution_count": null,
      "outputs": []
    },
    {
      "cell_type": "code",
      "metadata": {
        "id": "D1k90EyJ9YOE"
      },
      "source": [
        "AIDS <- aids %>%\n",
        "  mutate(season = paste0(year,\":Q\",quarter),\n",
        "         time = yq(season))"
      ],
      "execution_count": null,
      "outputs": []
    },
    {
      "cell_type": "code",
      "metadata": {
        "id": "CDt8D8bc8VAd"
      },
      "source": [
        "p <- ggplot(AIDS, aes(x=time, y=cases)) +\n",
        "  geom_line() #+ \n",
        "  #scale_x_date(date_labels = \"%Y-%B\")+\n",
        "  #theme(axis.text.x=element_text(angle=60, hjust=1)) +\n",
        "  #scale_x_date(breaks = AIDS$time)\n",
        "p"
      ],
      "execution_count": null,
      "outputs": []
    },
    {
      "cell_type": "code",
      "metadata": {
        "id": "bgkvLQ4t3uuQ"
      },
      "source": [
        "\n",
        "X <- seq(1,20,1)\n",
        "Y <- aids$cases\n",
        "#Y <- c(1, 6, 16, 23, 27, 39, 31, 30, 43, 51, 63, 70, 88, 97, 91, 104, 110, 113, 149, 159)\n",
        "\n",
        "par(mfrow=c(1,3))\n",
        "plot(X,Y, col=\"red\", lwd=6, main=\"Obr. 1\")\n",
        "plot(log(X),Y, col=\"red\",lwd=6, main=\"Obr. 2 - log X\")\n",
        "plot(log(X),log(Y),col=\"red\",lwd=6, main=\"Obr. 3 - log X, log Y\")\n"
      ],
      "execution_count": null,
      "outputs": []
    },
    {
      "cell_type": "code",
      "metadata": {
        "id": "fZjF3Yee3uwz"
      },
      "source": [
        "install.packages(\"plotly\")\n",
        "library(plotly)\n",
        "X <- seq(1,20,1)\n",
        "Y <- c(1, 6, 16, 23, 27, 39, 31, 30, 43, 51, 63, 70, 88, 97, 91, 104, 110, 113, 149, 159)\n",
        "\n",
        "df2 <- data.frame(x = c(X,log(X),log(X)),\n",
        "                  y = c(Y,Y,log(Y)),\n",
        "                  group = rep(c(\"X vs. Y\",\"log(X) vs. Y\",\"log(X) vs. log(Y)\"), each = 20))\n",
        "\n",
        "pl <- plot_ly(df2, x=~ x, y=~y, mode = \"markers\",split = ~group) %>%\n",
        "  layout(title = \"Scatter Plot by plotly\")\n",
        "embed_notebook(pl)"
      ],
      "execution_count": null,
      "outputs": []
    },
    {
      "cell_type": "markdown",
      "metadata": {
        "id": "7ty74jhWTzRL"
      },
      "source": [
        "### Write function to estimate coefficients by IWLS "
      ]
    },
    {
      "cell_type": "code",
      "metadata": {
        "id": "EvP__vd59li9"
      },
      "source": [
        "# Initial estimation\n",
        "beta_init <- lm(log(Y)~log(X))$coeff\n",
        "beta_init\n"
      ],
      "execution_count": null,
      "outputs": []
    },
    {
      "cell_type": "code",
      "metadata": {
        "id": "x6pY0t0WqymN"
      },
      "source": [
        "# place your code here"
      ],
      "execution_count": null,
      "outputs": []
    },
    {
      "cell_type": "markdown",
      "source": [
        "Let us assume that the response $Y_i$ are Poisson random variables and model the relation ship between $Y_i$ and $x_i$ by the straight line, i.e.\n",
        "$$E[Y_i] = \\mu_i = \\beta_1 + \\beta_2 x_i = x_i^T \\beta \\  \\Rightarrow \\ q(\\mu_i) = \\mu_i =  x_i^T \\beta  = \\eta_i$$\n",
        "Therefore $\\frac{1}{g'(\\mu_i)} = 1 \\ \\Rightarrow \\ w_{ii} = \\frac{1}{V[Y]} = \\frac{1}{\\beta_1 + \\beta_2x_i}$"
      ],
      "metadata": {
        "id": "BXMLFbH4N7DU"
      }
    },
    {
      "cell_type": "markdown",
      "source": [
        "\n",
        "$$ g(\\lambda_i) = log(\\lambda_i) = \\beta_1 + \\beta_2 x_i,$$\n",
        "where $x_i = log_i$."
      ],
      "metadata": {
        "id": "LHVbm7z-N8RM"
      }
    },
    {
      "cell_type": "markdown",
      "source": [],
      "metadata": {
        "id": "DyLT2953OClH"
      }
    },
    {
      "cell_type": "code",
      "metadata": {
        "id": "em72-qmSqysg"
      },
      "source": [],
      "execution_count": null,
      "outputs": []
    },
    {
      "cell_type": "code",
      "metadata": {
        "id": "JcDobOsvqyxX"
      },
      "source": [],
      "execution_count": null,
      "outputs": []
    },
    {
      "cell_type": "code",
      "metadata": {
        "id": "hFdwlrwzqy4A"
      },
      "source": [],
      "execution_count": null,
      "outputs": []
    },
    {
      "cell_type": "markdown",
      "metadata": {
        "id": "aeWGVAgnqwnM"
      },
      "source": [
        "Apendix: Solution by TH from the lecture"
      ]
    },
    {
      "cell_type": "markdown",
      "metadata": {
        "id": "vOMj0-ZUrCE2"
      },
      "source": [
        "## Solution from the lecture. \n",
        "\n",
        "Direct computation of $U(\\beta)$ and $I(\\beta)$"
      ]
    },
    {
      "cell_type": "code",
      "metadata": {
        "id": "WvQ5jh9Z5fwj"
      },
      "source": [
        "# TH solution from the lecture\n",
        "FishScor2 <- function(x,Y,b){\n",
        "  result <- list(FM=NA, SV=NA)\n",
        "  pom <- exp(b[2]*x)\n",
        "  \n",
        "  a11 <- exp(b[1])*sum(pom)\n",
        "  a12 <- exp(b[1])*sum(x*pom)\n",
        "  a22 <- exp(b[1])*sum(x^2*pom)\n",
        "  \n",
        "  # Information matrix\n",
        "  result$FM <- matrix(data=c(a11,a12,a12,a22), nrow = 2)\n",
        "  \n",
        "  # Score vector\n",
        "  u1 <- sum(Y) - exp(b[1])*sum(pom)\n",
        "  u2 <- sum(x*Y) - exp(b[1])*sum(x*pom)\n",
        "  \n",
        "  result$SV <- matrix(data=c(u1,u2), nrow = 2)\n",
        "  return(result)\n",
        "}\n"
      ],
      "execution_count": null,
      "outputs": []
    },
    {
      "cell_type": "code",
      "metadata": {
        "id": "Gp5Gk7e75fwk"
      },
      "source": [
        "# Initialization\n",
        "X2 <- seq(1,20,1)\n",
        "Y2 <- c(1, 6, 16, 23, 27, 39, 31, 30, 43, 51, 63, 70, 88, 97, 91, 104, 110, 113, 149, 159)\n",
        "maxiter <- 20         # maximalni pocet iteraci\n",
        "epsilon <- 10^(-6)    # presnost\n",
        "\n",
        "i <- 1     # aktualni iterace\n",
        "beta <- matrix(0,2,maxiter)\n",
        "beta[,1] <- beta_init\n",
        "convergence <- F\n",
        "\n",
        "# Fisher-scoring algoritmus\n",
        "while (convergence == F & i <= maxiter){\n",
        "  FS <- FishScor2(log(X2),Y2,beta[,i])\n",
        "  # print(FS$FM) # Information matrix\n",
        "  \n",
        "  beta[,i+1] <- beta[,i] + solve(FS$FM)%*%FS$SV\n",
        "  \n",
        "  diff <- (abs(beta[,i+1] - beta[,i]))\n",
        "  if (any(diff>=epsilon)){\n",
        "    i <- i+1\n",
        "  }\n",
        "  else\n",
        "    convergence <- TRUE\n",
        "}\n",
        "beta.est <- beta[,i] \n",
        "beta.est\n"
      ],
      "execution_count": null,
      "outputs": []
    },
    {
      "cell_type": "code",
      "metadata": {
        "id": "cuNIq9I85fwk"
      },
      "source": [
        "#############################################\n",
        "## Use glm() function: Built-in function from R\n",
        "\n",
        "model <- glm(formula=Y~log(X2),family=poisson(link = \"log\"))\n",
        "summary(model) # souhrn modelu\n",
        "beta.e <- coefficients(model); beta.e  # odhadnute parametry\n",
        "y.hat  <- model$fitted.values\n",
        "\n",
        "#############################################\n",
        "## Plot data and estimation\n",
        "plot(X2,Y, col=\"red\", cex=1.5, lwd=2, \n",
        "      main=\"Poissonův model\",\n",
        "      xlab=\"číslo čtvrtletí\",\n",
        "      ylab=\"Počet nových případů\",\n",
        "      cex.lab=1.2)\n",
        "lines(y.hat, col=\"blue\", type = \"l\", lwd=3)\n",
        "text <- c(\"model\", \"data\")\n",
        "legend(x=1, y=160, text, col = c(4,2), bty=\"n\", lwd = 2, pch=c(26,1), cex=1.3, lty=c(1,0))\n",
        "dev.off()\n"
      ],
      "execution_count": null,
      "outputs": []
    },
    {
      "cell_type": "markdown",
      "source": [
        "Logistic regression and IWLS\n",
        "\n",
        "http://www.jtrive.com/estimating-logistic-regression-coefficents-from-scratch-r-version.html"
      ],
      "metadata": {
        "id": "aju38HeIOimd"
      }
    }
  ]
}