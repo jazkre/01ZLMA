{
  "nbformat": 4,
  "nbformat_minor": 0,
  "metadata": {
    "colab": {
      "name": "01ZLMA_ex01.ipynb",
      "private_outputs": true,
      "provenance": [],
      "include_colab_link": true
    },
    "kernelspec": {
      "name": "ir",
      "display_name": "R"
    }
  },
  "cells": [
    {
      "cell_type": "markdown",
      "metadata": {
        "id": "view-in-github",
        "colab_type": "text"
      },
      "source": [
        "<a href=\"https://colab.research.google.com/github/jazkre/01ZLMA/blob/main/R/01ZLMA_ex01_LM_recap_and_GLM_Introduction.ipynb\" target=\"_parent\"><img src=\"https://colab.research.google.com/assets/colab-badge.svg\" alt=\"Open In Colab\"/></a>"
      ]
    },
    {
      "cell_type": "markdown",
      "metadata": {
        "id": "x-i6MbNFm4Zt"
      },
      "source": [
        "#Exercise 01 of the course 01ZLMA. \n",
        "\n",
        "## Contents\n",
        "*text kurzívou*\n",
        "\n",
        "*   Recap of multivariable linear regression (FJFI course 01RAD)\n",
        "*   Discussion about organizational/run of the course\n",
        "*   Introdaction into Google colab notebooks (R version https://colab.to/r or Python versions)\n",
        "* Exponential type distributions\n"
      ]
    },
    {
      "cell_type": "markdown",
      "metadata": {
        "id": "593Mg4ZbbeEE"
      },
      "source": [
        "To load required libraries (with R runtime type):\n"
      ]
    },
    {
      "cell_type": "code",
      "source": [
        "#cat(system('sudo apt-get install -y gmp', intern=TRUE), sep = \"\\n\")\n",
        "#cat(system('sudo apt-get install -y partitions', intern=TRUE), sep = \"\\n\")\n",
        "\n",
        "list_of_packages <- c(\"tidyverse\",\"MASS\",\"knitr\", \"GGally\", \"reactable\",\"gridExtra\") # \n",
        "missing_packages <- list_of_packages[!(list_of_packages %in% installed.packages()[,\"Package\"])]\n",
        "missing_packages\n",
        "if(length(missing_packages)) install.packages(missing_packages)\n",
        "lapply(list_of_packages, library, character.only = TRUE)\n",
        "\n",
        "#For sure: set dplyr functions\n",
        "select    <- dplyr::select;\n",
        "rename    <- dplyr::rename;\n",
        "mutate    <- dplyr::mutate; \n",
        "summarize <- dplyr::summarize;\n",
        "arrange   <- dplyr::arrange;\n",
        "slice     <- dplyr::slice;\n",
        "filter    <- dplyr::filter;\n",
        "recode    <- dplyr::recode"
      ],
      "metadata": {
        "id": "1Fg4vOBYVAgg"
      },
      "execution_count": null,
      "outputs": []
    },
    {
      "cell_type": "markdown",
      "source": [
        "Your workong directory is in the cloud. You can mount your Google drive, or your local hard drive\n",
        "(https://stackoverflow.com/questions/56679549/how-to-mount-google-drive-to-r-notebook-in-colab)\n",
        " (https://github.com/katewall/medium_tutorials/blob/main/210630_Medium_ColabwithR.ipynb). "
      ],
      "metadata": {
        "id": "T-6BZFrl5czN"
      }
    },
    {
      "cell_type": "code",
      "metadata": {
        "id": "M3zV9lc_bo7c"
      },
      "source": [
        "R.version.string\n",
        "getwd()"
      ],
      "execution_count": null,
      "outputs": []
    },
    {
      "cell_type": "markdown",
      "source": [
        "## Regression analysis\n"
      ],
      "metadata": {
        "id": "bM3KoIrg61Sh"
      }
    },
    {
      "cell_type": "markdown",
      "metadata": {
        "id": "-S5C0VCJgOTG"
      },
      "source": [
        "### Fish Catch Dataset\n",
        "\n",
        "159 fishes of 7 species are caught and measured. Altogether there are\n",
        "8 variables.  All the fishes are caught from the same lake\n",
        "(Laengelmavesi) near Tampere in Finland.\n",
        "\n",
        "SOURCES:\n",
        "Brofeldt, Pekka: Bidrag till kaennedom on fiskbestondet i vaera\n",
        "        sjoear. Laengelmaevesi. T.H.Jaervi: Finlands Fiskeriet  Band 4,\n",
        "        Meddelanden utgivna av fiskerifoereningen i Finland.\n",
        "        Helsingfors 1917\n",
        "\n",
        "VARIABLE DESCRIPTIONS:\n",
        "\n",
        "1.  Obs       Observation number ranges from 1 to 159\n",
        "2.  Species   (Numeric)\n",
        "        Code Finnish  Swedish    English        Latin      \n",
        "         1   Lahna    Braxen     Bream          Abramis brama\n",
        "         2   Siika    Iiden      Whitewish      Leusiscus idus\n",
        "         3   Saerki   Moerten    Roach          Leuciscus rutilus\n",
        "         4   Parkki   Bjoerknan  Blicca         Abramis bjrkna\n",
        "         5   Norssi   Norssen    Smelt          Osmerus eperlanus\n",
        "         6   Hauki    Jaedda     Pike           Esox lucius\n",
        "         7   Ahven    Abborre    Perch          Perca fluviatilis\n",
        "\n",
        "3.  Weight      Weight of the fish (in grams)\n",
        "4.  Length1     Length from the nose to the beginning of the tail (in cm)\n",
        "5.  Length2     Length from the nose to the notch of the tail (in cm)\n",
        "6.  Length3     Length from the nose to the end of the tail (in cm)\n",
        "7.  Height%     Maximal height as % of Length3\n",
        "8.  Width%      Maximal width as % of Length3\n",
        "9.  Sex         1 = male 0 = female\n",
        "\n"
      ]
    },
    {
      "cell_type": "code",
      "metadata": {
        "id": "5fOEovcZip-i"
      },
      "source": [
        "#@title Read dataset (without colnames)\n",
        "fishcatch <- read.table(\"http://jse.amstat.org/datasets/fishcatch.dat.txt\") %>%\n",
        "  rename(Obs =V1,\n",
        "         Species = V2,\n",
        "         Weight = V3,\n",
        "         Len1 = V4,\n",
        "         Len2 = V5,\n",
        "         Len3 = V6,\n",
        "         Height = V7,\n",
        "         Width = V8,\n",
        "         Sex = V9\n",
        "         )"
      ],
      "execution_count": null,
      "outputs": []
    },
    {
      "cell_type": "markdown",
      "source": [
        "Dataset description:\n",
        "https://jse.amstat.org/datasets/fishcatch.txt\n",
        "\n"
      ],
      "metadata": {
        "id": "9sESyu3fxjAd"
      }
    },
    {
      "cell_type": "code",
      "metadata": {
        "id": "8JTGUA2ff7vu"
      },
      "source": [
        "head(fishcatch)\n",
        "fishcatch %>% \n",
        "   summary() %>%\n",
        "   kable(format = \"pipe\")\n",
        "    \n"
      ],
      "execution_count": null,
      "outputs": []
    },
    {
      "cell_type": "markdown",
      "metadata": {
        "id": "bxGxzvUO1fwV"
      },
      "source": [
        "|   |     Obs      |   Species    |    Weight     |     Len1     |     Len2     |     Len3     |    Height    |    Width     |     Sex       |\n",
        "|:--|:-------------|:-------------|:--------------|:-------------|:-------------|:-------------|:-------------|:-------------|:--------------|\n",
        "|   |Min.   :  1.0 |Min.   :1.000 |Min.   :   0.0 |Min.   : 7.50 |Min.   : 8.40 |Min.   : 8.80 |Min.   :14.50 |Min.   : 8.70 |Min.   :0.0000 |\n",
        "|   |1st Qu.: 40.5 |1st Qu.:2.000 |1st Qu.: 120.0 |1st Qu.:19.05 |1st Qu.:21.00 |1st Qu.:23.15 |1st Qu.:24.25 |1st Qu.:13.40 |1st Qu.:0.0000 |\n",
        "|   |Median : 80.0 |Median :5.000 |Median : 272.5 |Median :25.20 |Median :27.30 |Median :29.40 |Median :27.10 |Median :14.60 |Median :0.0000 |\n",
        "|   |Mean   : 80.0 |Mean   :4.497 |Mean   : 398.7 |Mean   :26.25 |Mean   :28.42 |Mean   :31.23 |Mean   :28.31 |Mean   :14.12 |Mean   :0.2361 |\n",
        "|   |3rd Qu.:119.5 |3rd Qu.:7.000 |3rd Qu.: 650.0 |3rd Qu.:32.70 |3rd Qu.:35.50 |3rd Qu.:39.65 |3rd Qu.:37.60 |3rd Qu.:15.30 |3rd Qu.:0.0000 |\n",
        "|   |Max.   :159.0 |Max.   :7.000 |Max.   :1650.0 |Max.   :59.00 |Max.   :63.40 |Max.   :68.00 |Max.   :44.50 |Max.   :20.90 |Max.   :1.0000 |\n",
        "|   |NA            |NA            |NA's   :1      |NA            |NA            |NA            |NA            |NA            |NA's   :87     |"
      ]
    },
    {
      "cell_type": "code",
      "source": [
        "#reactable(fishcatch)"
      ],
      "metadata": {
        "id": "saPMQbm37riw"
      },
      "execution_count": null,
      "outputs": []
    },
    {
      "cell_type": "code",
      "metadata": {
        "id": "39BpkMyv2HIZ"
      },
      "source": [
        "mutate_cond <- function(.data, condition, ..., envir = parent.frame()) {\n",
        "  condition <- eval(substitute(condition), .data, envir)\n",
        "  .data[condition, ] <- .data[condition, ] %>% mutate(...)\n",
        "  .data\n",
        "}"
      ],
      "execution_count": null,
      "outputs": []
    },
    {
      "cell_type": "code",
      "metadata": {
        "id": "Xdpgc0ijh2OL"
      },
      "source": [
        "fish <- fishcatch %>%\n",
        "  drop_na(Weight) %>% \n",
        "  mutate_cond(is.na(Sex), Sex = \"unknown\") %>%\n",
        "  mutate(Sex = as.factor(Sex)) %>%\n",
        "  mutate(Sex = recode(Sex,\"1\" = \"male\", \"0\" = \"female\")) %>%\n",
        "  mutate(Species = factor(Species)) %>%\n",
        "  select(-Obs)\n",
        "fish %>% summary() %>% kable()\n"
      ],
      "execution_count": null,
      "outputs": []
    },
    {
      "cell_type": "markdown",
      "source": [
        "prečo sa zbavujeme N/A vo váhe a nie inde? Lebo je to naša predpovedná (vysvetľivaná / targer) premenná.\n",
        "\n",
        "U pohlavia nam to nevadi -> spravíme si faktyorovu premennu a vykreslime data:"
      ],
      "metadata": {
        "id": "16JNVTgX7Wld"
      }
    },
    {
      "cell_type": "markdown",
      "source": [
        "vykreslime:"
      ],
      "metadata": {
        "id": "NuftoQpL7uCW"
      }
    },
    {
      "cell_type": "code",
      "metadata": {
        "id": "hV45IeoNhwWn"
      },
      "source": [
        "options(jupyter.plot_scale=0.75)\n",
        "options(warn=-1)\n",
        "\n",
        "fish %>% ggpairs(., legend = 1, columns = 2:8,\n",
        "                   aes(color = Species),\n",
        "                   upper = list(continuous = wrap(\"cor\", size=2)),\n",
        "                   lower = list(continuous = wrap(\"points\", alpha = 0.3,    size=0.4)))+                 \n",
        "  theme(legend.position = \"bottom\") + \n",
        "  labs(color = \"Engine Type\")"
      ],
      "execution_count": null,
      "outputs": []
    },
    {
      "cell_type": "markdown",
      "source": [
        "multikolinearita -> každý druh má iné rozdelenie (máme bimodálone, unimodálne a i)"
      ],
      "metadata": {
        "id": "dwrwlWOZ8Gpk"
      }
    },
    {
      "cell_type": "code",
      "metadata": {
        "id": "puy8w9nOrUlz"
      },
      "source": [
        "plot1 <- ggplot(fish %>% mutate(Species = as.factor(Species)),\n",
        "                         aes(x=Species, y=Weight, fill=Sex)) +\n",
        "  geom_boxplot(size = 1, notch = F) +\n",
        "  geom_jitter(aes(Species,Weight),\n",
        "              position=position_jitter(width=0.1,height=0),\n",
        "              alpha=0.5,\n",
        "              size=0.8,\n",
        "              show.legend=F)+\n",
        "  labs(title=\"Weight vs Species\", y=\"Weight\", x=\"Species\") +\n",
        "  theme_bw() +  \n",
        "  labs(title=\"Weight vs Species\",\n",
        "       subtitle=\"Distinguish between Sex\",\n",
        "       caption=\"version: 001\") \n",
        "plot1"
      ],
      "execution_count": null,
      "outputs": []
    },
    {
      "cell_type": "markdown",
      "source": [
        "pohlavie ovplyvnuje hmotnoxsť"
      ],
      "metadata": {
        "id": "w3Tq3jdP8zmx"
      }
    },
    {
      "cell_type": "code",
      "metadata": {
        "id": "qeLS6RkCrMX4"
      },
      "source": [
        "options(repr.plot.width = 6, repr.plot.height = 3)\n",
        "\n",
        "ggplot(fish, aes(x=Sex, y=Weight)) +\n",
        "  geom_boxplot(size = 1, notch = F) +\n",
        "  geom_jitter(aes(Sex,Weight),\n",
        "              position=position_jitter(width=0.1,height=0),\n",
        "              alpha=0.5,\n",
        "              size=0.8,\n",
        "              show.legend=F)+\n",
        "  theme_bw()  \n"
      ],
      "execution_count": null,
      "outputs": []
    },
    {
      "cell_type": "markdown",
      "source": [
        "druhy dohromady\n"
      ],
      "metadata": {
        "id": "2W36EH_M8-o0"
      }
    },
    {
      "cell_type": "markdown",
      "metadata": {
        "id": "BVabzuja4s8g"
      },
      "source": [
        "# Your turn 01\n",
        "\n",
        "* Recode Species, instead numeric use fish names.\n",
        "* Which variables look promising, which variables can be omitted.\n",
        "* Edit the dataset\n",
        "* Plot Height vs. Weight, Leng3 vs. Weight, Width vs. Weight"
      ]
    },
    {
      "cell_type": "markdown",
      "metadata": {
        "id": "7cX82QXe2hwG"
      },
      "source": [
        "# Regression\n"
      ]
    },
    {
      "cell_type": "markdown",
      "metadata": {
        "id": "Qr9eBAOI2oqf"
      },
      "source": [
        "..."
      ]
    },
    {
      "cell_type": "code",
      "metadata": {
        "id": "H5N9r21YIm2E"
      },
      "source": [
        "summary(fish)"
      ],
      "execution_count": null,
      "outputs": []
    },
    {
      "cell_type": "code",
      "metadata": {
        "id": "iIslM_OA3AgM"
      },
      "source": [
        "Fish <- fish %>%\n",
        "  filter(Species %in% c(1,3,7)) %>%\n",
        "  mutate(Species = recode(Species,\"1\" = \"Bream\",\n",
        "                                  \"2\" = \"Whitewish\",\n",
        "                                  \"3\" = \"Roach\",\n",
        "                                  \"4\" = \"Blicca\",\n",
        "                                  \"5\" = \"Smelt\",\n",
        "                                  \"6\" = \"Pike\",\n",
        "                                  \"7\" = \"Perch\")) %>%\n",
        "  mutate(Species = fct_drop(Species))%>%                            \n",
        "  select(-Sex) %>%\n",
        "  filter(Weight != 0)\n",
        "head(Fish)\n",
        "summary(Fish)"
      ],
      "execution_count": null,
      "outputs": []
    },
    {
      "cell_type": "code",
      "metadata": {
        "id": "rrOhtjuhhX21"
      },
      "source": [
        "options(repr.plot.width = 15, repr.plot.height = 5, repr.plot.res = 90)\n",
        "\n",
        "Fish <- Fish %>% mutate(Height = Height*Len3,\n",
        "                        Width = Width*Len3)\n",
        "\n",
        "Height_Weight <- ggplot(Fish,aes(x=Height,y=Weight,col=Species))+\n",
        "                 geom_point(size=5,alpha=0.6)+\n",
        "                 geom_smooth(col=\"grey40\",method = \"lm\",se=F,lty=\"dashed\",lwd=2,formula=\"y~x\")\n",
        "\n",
        "LengthV_Weight <- ggplot(Fish,aes(x=Len3,y=Weight,col=Species))+\n",
        "                  geom_point(size=5,alpha=0.6)+\n",
        "                  geom_smooth(col=\"grey40\",method = \"lm\",se=F,lty=\"dashed\",lwd=2,formula=\"y~x\")\n",
        "\n",
        "Width_Weight <- ggplot(Fish,aes(x=Width,y=Weight,col=Species))+\n",
        "                 geom_point(size=5,alpha=0.6)+\n",
        "                 geom_smooth(col=\"grey40\",method = \"lm\",se=F,lty=\"dashed\",lwd=2,formula=\"y~x\")\n",
        "\n",
        "#Height_Weight\n",
        "#LengthV_Weight\n",
        "#Width_Weight\n",
        "\n",
        "grid.arrange(Height_Weight, LengthV_Weight, Width_Weight, ncol = 3)"
      ],
      "execution_count": null,
      "outputs": []
    },
    {
      "cell_type": "markdown",
      "source": [
        "druhy ked vezmeme samostatne, majú iné sklony\n",
        "\n",
        "ako celok -> zvyšuje sa rozptyl -> log transf"
      ],
      "metadata": {
        "id": "v7Qmbo7I-nMw"
      }
    },
    {
      "cell_type": "markdown",
      "source": [
        "pre norm rozd ->  nie je spätá str h. s rozptylom\n",
        "\n",
        "kde je? poisson, gamma, exponenciálna trieda hustôt"
      ],
      "metadata": {
        "id": "tC4za2S5-75E"
      }
    },
    {
      "cell_type": "code",
      "metadata": {
        "id": "eirqitI7hsuW"
      },
      "source": [
        "Height_Weight_log <- ggplot(Fish,aes(x=log(Width),y=log(Weight),col=Species))+\n",
        "                 geom_point(size=5,alpha=0.6)+\n",
        "                 geom_smooth(col=\"grey40\",method = \"lm\",se=F,lty=\"dashed\",lwd=2,,formula=\"y~x\")\n",
        "\n",
        "LengthV_Weight_log <- ggplot(Fish,aes(x=log(Len3),y=log(Weight),col=Species))+\n",
        "                  geom_point(size=5,alpha=0.6)+\n",
        "                  geom_smooth(col=\"grey40\",method = \"lm\",se=F,lty=\"dashed\",lwd=2,,formula=\"y~x\")\n",
        "\n",
        "Width_Weight_log  <- ggplot(Fish,aes(x=log(Height),y=log(Weight),col=Species))+\n",
        "                 geom_point(size=5,alpha=0.6)+\n",
        "                 geom_smooth(col=\"grey40\",method = \"lm\",se=F,lty=\"dashed\",lwd=2,,formula=\"y~x\")\n",
        "\n",
        "\n",
        "grid.arrange(Height_Weight_log, LengthV_Weight_log, Width_Weight_log, ncol = 3)\n"
      ],
      "execution_count": null,
      "outputs": []
    },
    {
      "cell_type": "markdown",
      "source": [
        "po log transf ->krasne"
      ],
      "metadata": {
        "id": "qM8esKFJ_RTW"
      }
    },
    {
      "cell_type": "markdown",
      "source": [
        "váhu namodelujeme vš. prem do 2.interakcií:"
      ],
      "metadata": {
        "id": "eRKQMhJv_YJF"
      }
    },
    {
      "cell_type": "code",
      "metadata": {
        "id": "fG957pwr2plZ"
      },
      "source": [
        "# Model with all variables and interaction till 2rd order ... \n",
        "m0  <- lm(Weight ~ (.)^2, data = fish)\n",
        "summary(m0)\n",
        "# Ufff "
      ],
      "execution_count": null,
      "outputs": []
    },
    {
      "cell_type": "markdown",
      "source": [
        "trečo tam mame NA? * nie sú tam dáta! model je preparametrizovaný!"
      ],
      "metadata": {
        "id": "7QiH1GKx_wrA"
      }
    },
    {
      "cell_type": "code",
      "source": [
        "# Model with all variables and interaction till 2rd order ... \n",
        "m0  <- lm(Weight ~ (.)^2, data = Fish)\n",
        "summary(m0)\n",
        "# Ufff "
      ],
      "metadata": {
        "id": "FeONLE_rAJvg"
      },
      "execution_count": null,
      "outputs": []
    },
    {
      "cell_type": "markdown",
      "source": [],
      "metadata": {
        "id": "Z-TwO3ZdA3nj"
      }
    },
    {
      "cell_type": "markdown",
      "source": [
        "R kvadrat: 0.9877 ->koľko rozptylu v dátach dokáže vysvetliť voči modelu len s B0\n",
        "\n",
        "R adv <R 2 \n",
        ":)\n",
        "\n"
      ],
      "metadata": {
        "id": "R3kMXbK6AOuQ"
      }
    },
    {
      "cell_type": "markdown",
      "source": [
        "### Quesions: \n",
        "* How can you interpret previous result?\n",
        "* Comment and discussion: how to select model.\n"
      ],
      "metadata": {
        "id": "NK2ZeOGr_TMt"
      }
    },
    {
      "cell_type": "code",
      "metadata": {
        "id": "2td-VSXl2pyR"
      },
      "source": [
        "m0_BIC  <- stepAIC(m0, k=log(dim(Fish)[1]))\n",
        "\n",
        "m0_AIC  <- stepAIC(m0)\n",
        "summary(m0_BIC)\n",
        "summary(m0_AIC)"
      ],
      "execution_count": null,
      "outputs": []
    },
    {
      "cell_type": "code",
      "metadata": {
        "id": "SLfBUdVa8HM7"
      },
      "source": [
        "install.packages(\"leaps\")\n",
        "library(leaps)"
      ],
      "execution_count": null,
      "outputs": []
    },
    {
      "cell_type": "code",
      "metadata": {
        "id": "WV1NbtLLPO5c"
      },
      "source": [
        "best_subset <- regsubsets(Weight ~ (.)^2, Fish, nvmax = 20,really.big=T)\n",
        "results <- summary(best_subset)\n",
        "plot(best_subset)\n"
      ],
      "execution_count": null,
      "outputs": []
    },
    {
      "cell_type": "markdown",
      "source": [
        "teraz vykreslime BIC:"
      ],
      "metadata": {
        "id": "3kkWowPcBnJ1"
      }
    },
    {
      "cell_type": "code",
      "metadata": {
        "id": "uOltPny79x-x"
      },
      "source": [
        "#  plot results\n",
        "# source: https://afit-r.github.io/model_selection\n",
        "tibble(predictors = 1:20,\n",
        "       adj_R2 = results$adjr2,\n",
        "       Cp = results$cp,\n",
        "       BIC = results$bic) %>%\n",
        "  gather(statistic, value, -predictors) %>%\n",
        "  ggplot(aes(predictors, value, color = statistic)) +\n",
        "  geom_line(show.legend = F) +\n",
        "  geom_point(show.legend = F) +\n",
        "  facet_wrap(~ statistic, scales = \"free\")"
      ],
      "execution_count": null,
      "outputs": []
    },
    {
      "cell_type": "markdown",
      "metadata": {
        "id": "_1vEsmhFHv7e"
      },
      "source": [
        "# Your turn 02\n",
        "\n",
        "* Is there problem with multicolinearity? If so, how can we cope with it.\n",
        "* Try to find such a good model (based on adjuste R^2) with a maximum of 7 covariates. \n",
        "\n",
        "Hint: try to use expert knowledge.\n"
      ]
    },
    {
      "cell_type": "code",
      "metadata": {
        "id": "Ksf2j2Wp-qQ2"
      },
      "source": [
        "m1 <- lm(Weight ~ (.), data = Fish)\n",
        "summary(m1)"
      ],
      "execution_count": null,
      "outputs": []
    },
    {
      "cell_type": "code",
      "metadata": {
        "id": "0NMpGEnYTYvC"
      },
      "source": [
        "# VIF\n",
        "1/(1-(summary(lm(Len1 ~.,data = Fish %>% select(-Weight)))$r.squared))\n",
        "1/(1-(summary(lm(Len2 ~.,data = Fish %>% select(-Weight)))$r.squared))\n",
        "1/(1-(summary(lm(Len3 ~.,data = Fish %>% select(-Weight)))$r.squared))\n",
        "1/(1-(summary(lm(Height ~.,data = Fish %>% select(-Weight)))$r.squared))\n",
        "1/(1-(summary(lm(Width  ~.,data = Fish %>% select(-Weight)))$r.squared))"
      ],
      "execution_count": null,
      "outputs": []
    },
    {
      "cell_type": "code",
      "metadata": {
        "id": "uocAXEacSXQa"
      },
      "source": [
        "kappa(scale(data.matrix(Fish)))\n",
        "kappa(scale(data.matrix(Fish %>% select(-Len1,-Len2))))"
      ],
      "execution_count": null,
      "outputs": []
    },
    {
      "cell_type": "code",
      "metadata": {
        "id": "ghkV54Z5HtML"
      },
      "source": [
        "m1 <- lm(Weight ~ Species+Len2:Len3:Height+Len2:Len3:Width, data = Fish)\n",
        "summary(m1)"
      ],
      "execution_count": null,
      "outputs": []
    },
    {
      "cell_type": "code",
      "metadata": {
        "id": "6aLWsTKiaPyF"
      },
      "source": [
        "options(repr.plot.width = 10, repr.plot.height = 5, repr.plot.res = 90)\n",
        "\n",
        "par(mfrow = c(2, 2))\n",
        "plot(m1, pch = 20, col = \"blue4\", lwd = 2)\n"
      ],
      "execution_count": null,
      "outputs": []
    },
    {
      "cell_type": "markdown",
      "source": [
        "heteroskedasticita"
      ],
      "metadata": {
        "id": "x6LRZPtvC47h"
      }
    },
    {
      "cell_type": "code",
      "metadata": {
        "id": "3XCEre_fZ6za"
      },
      "source": [
        "log_m1 <- lm(log(Weight) ~ Species+Len2:Len3:Height+Len2:Len3:Width, data = Fish)\n",
        "summary(log_m1)"
      ],
      "execution_count": null,
      "outputs": []
    },
    {
      "cell_type": "code",
      "metadata": {
        "id": "M58dsdGEZ7W7"
      },
      "source": [
        "par(mfrow = c(2, 2))\n",
        "plot(log_m1, pch = 20, col = \"blue4\", lwd = 2)\n"
      ],
      "execution_count": null,
      "outputs": []
    },
    {
      "cell_type": "markdown",
      "source": [
        "vyriešili sme velké ryby, ale ulieta nám ľavý chvosr (malé rybče)"
      ],
      "metadata": {
        "id": "QetMEr9JC-zK"
      }
    },
    {
      "cell_type": "code",
      "metadata": {
        "id": "qfUjLFC4bX1O"
      },
      "source": [
        "log_m1 <- lm(log(Weight) ~ Species+Len2:Len3:Height+Len2:Len3:Width, data = Fish[-54,])\n",
        "par(mfrow = c(2, 2))\n",
        "plot(log_m1, pch = 20, col = \"blue4\", lwd = 2)\n"
      ],
      "execution_count": null,
      "outputs": []
    },
    {
      "cell_type": "code",
      "metadata": {
        "id": "Kd5OCMR_bXTG"
      },
      "source": [
        "# Box-Cox transformation\n",
        "BC_m0  <- lm(Weight ~ Species+I(Len3^2) +Len3:Height:Width, data = Fish)\n",
        "summary(BC_m0)\n",
        "bc     <- boxcox(m1, lambda = seq(-1,1 , 1/100))\n",
        "lambda <- bc$x[which.max(bc$y)]\n",
        "lambda"
      ],
      "execution_count": null,
      "outputs": []
    },
    {
      "cell_type": "code",
      "metadata": {
        "id": "XBxCEVplbsKg"
      },
      "source": [
        "BC_m1 <- lm(Weight^(1/2) ~ Species+I(Len3^2) + Len3:Height+Len3:Width, data = Fish)\n",
        "summary(BC_m1)\n",
        "\n",
        "#Fish$Weight_lambda = (Fish$Weight^lambda-1)/lambda\n",
        "#BC_m1 <- lm(Weight_lambda  ~ Species+I(Len3^2) + Len3:Height+Len3:Width, data = Fish)\n",
        "\n",
        "summary(BC_m1)\n",
        "par(mfrow = c(2, 2))\n",
        "plot(BC_m1, pch = 20, col = \"blue4\", lwd = 2)\n"
      ],
      "execution_count": null,
      "outputs": []
    },
    {
      "cell_type": "code",
      "metadata": {
        "id": "J8pFt13Ug_d9"
      },
      "source": [
        "#install.packages(\"pbkrtest\")\n",
        "#install.packages(\"lme4\")\n",
        "#install.packages(\"RcppEigen\")\n",
        "#install.packages(\"car\")\n",
        "#library(car)"
      ],
      "execution_count": null,
      "outputs": []
    },
    {
      "cell_type": "code",
      "metadata": {
        "id": "FRJqJRM6g_pE"
      },
      "source": [
        "m_f <- lm(log(Weight) ~ Species+log(Len3)*log(Height)*log(Width), data = Fish[-54,])\n",
        "summary(m_f)\n",
        "\n",
        "#Fish$Weight_lambda = (Fish$Weight^lambda-1)/lambda\n",
        "#BC_m1 <- lm(Weight_lambda  ~ Species+I(Len3^2) + Len3:Height+Len3:Width, data = Fish)\n",
        "\n",
        "summary(m_f)\n",
        "par(mfrow = c(2, 2))\n",
        "plot(m_f, pch = 20, col = \"blue4\", lwd = 2)\n"
      ],
      "execution_count": null,
      "outputs": []
    },
    {
      "cell_type": "code",
      "source": [],
      "metadata": {
        "id": "rAm8WTd8k9UR"
      },
      "execution_count": null,
      "outputs": []
    },
    {
      "cell_type": "markdown",
      "source": [
        "Is linear regression clear?"
      ],
      "metadata": {
        "id": "nSeMX-x8zQ1Z"
      }
    },
    {
      "cell_type": "code",
      "source": [],
      "metadata": {
        "id": "n6pn5ebFXHl5"
      },
      "execution_count": null,
      "outputs": []
    },
    {
      "cell_type": "markdown",
      "source": [
        "# Let's start with GLM"
      ],
      "metadata": {
        "id": "h045r_1VzLMl"
      }
    },
    {
      "cell_type": "markdown",
      "metadata": {
        "id": "V4SOhd00XJ9g"
      },
      "source": [
        "##  Necessary theory recap from Lectures 01-03\n",
        "\n",
        "Let's consider (m1):\n",
        "  1. realization $(y_i,\\ldots,y_n)$ of $iid$ random variables $Y_1,\\ldots,Y_n$ with probability density function $f(y;\\theta;\\phi)$ from an exponential family of probability distributions\n",
        "  $$f(y;\\theta;\\phi) = exp\\left(\\frac{y \\theta - b(\\theta)}{a(\\phi)} - c(y,\\phi)\\right),$$\n",
        "  where conditions of regularity are fulfilled (one dimensional case, i.e. $y_i,\\theta_i \\in R, a(\\phi) >0, \\phi >0)$.\n",
        "  2. Regression matrix $X$ and vector of unknown parameters $\\beta$, linear predictor $η = X \\beta$\n",
        "  3. A link function $g(x)$\n",
        "  $$\\eta_i = g(\\mu_i) = x_i^T \\beta, \\ \\text{where} \\ \\mu_i = E[Y_i] \\ \\ i = 1,\\ldots,n$$\n",
        "\n",
        "The dispersion $a(\\phi)$ is typically known. If not, we take it as nuisance parameter.\n",
        "\n",
        "Link function satisfying $g(\\mu_i) = \\theta_i$ is called canonical."
      ]
    },
    {
      "cell_type": "markdown",
      "metadata": {
        "id": "SpQUiXf-QkGA"
      },
      "source": [
        "For $b(\\theta) \\in C^2$ we showed:\n",
        "$$E[Y] = b'(\\theta) $$\n",
        "$$V[Y] = a(\\phi) b''(\\theta) $$\n",
        "and defined variance function $v(\\mu) = \\frac{\\partial \\mu}{\\partial \\theta}$, i.e. $V[Y] = a(\\phi) v(\\mu)$"
      ]
    },
    {
      "cell_type": "markdown",
      "metadata": {
        "id": "lcJB1uOTZEBZ"
      },
      "source": [
        "Relations:\n",
        "\n",
        "$$\n",
        "\\beta \\xrightarrow[]{\\eta_i = x_i^T\\beta} \\eta\n",
        "\\xrightarrow[]{\\mu_i = g^{-1}(\\eta_i)}  \\mu\n",
        "\\xrightarrow[]{\\theta_i = (b')^{-1}(\\mu_i)}  \\theta\n",
        "$$ \n",
        "\n",
        "Inverse relatiions\n",
        "$$\n",
        "\\eta_i \n",
        "\\xleftarrow[]{}  \\mu\n",
        "\\xleftarrow[]{}  \\theta\n",
        "$$ \n"
      ]
    },
    {
      "cell_type": "markdown",
      "source": [
        "**Lemma**:\n",
        "Let Y have an exponential type distribution with density given in m1, where $b(\\theta)$ is 2 times continuously differentiable, then there exists a everywhere finite moment generating function $M_Y(t) = E[e^{ty}]$ that is 2 times differentiable at 0 and it holds:\n",
        "* $E[Y] = b'(\\theta)$ \n",
        "* $V[Y] = a(\\phi) b''(\\theta)$"
      ],
      "metadata": {
        "id": "mR9oONJlaTJu"
      }
    },
    {
      "cell_type": "code",
      "source": [],
      "metadata": {
        "id": "5q_OCb8iaSTh"
      },
      "execution_count": null,
      "outputs": []
    },
    {
      "cell_type": "markdown",
      "metadata": {
        "id": "w2c7jDIXSGGL"
      },
      "source": [
        "## HW 01\n",
        "\n",
        "Compute $E[Y]$, $V[Y]$, and $v(Y)$ by the help of moment generating function theory for the following disributions:\n",
        "* Normal: $N(\\mu,\\sigma^2)$\n",
        "* Poisson: $Poi(\\lambda)$\n",
        "* Bernoulli: $Ber(p)$\n",
        "* Gamma: $\\Gamma[a,p]$\n",
        "* Inverse: Gaussian $IG[\\mu, \\lambda]$\n",
        "\n",
        "\n",
        "Questions:\n",
        "* Which distributions can fulfill homoscedasticity?  -----> normálne, žiadne ďalšie nemáme, lebo iné závisia na strednej hodnote.\n",
        "* For which distribution the variance increases with the square of the mean value?\n",
        "* Does exists a distribution, where $V[Y] = k \\cdot \\mu$ ?\n"
      ]
    },
    {
      "cell_type": "markdown",
      "source": [
        "## Solution"
      ],
      "metadata": {
        "id": "OEuIKhcKXSpr"
      }
    },
    {
      "cell_type": "markdown",
      "source": [
        "\n",
        "\n",
        "####  Normal: $N(\\mu,\\sigma^2)$\n",
        "$f(y, \\mu, \\sigma^2) = \\frac{1}{\\sqrt {{(2\\pi )} \\sigma^2}}  {\\mathrm {e}}^-{\\frac{{\\left(y- \\mu \\right)}^{T}{\\left( y-\\mu \\right)}}{\\sigma^2}} = {\\mathrm {e}}^{\\frac{y \\mu - \\frac{\\mu^2}{2}}{\\sigma^2} - \\left(  \\frac{y^2}{2\\sigma^2} + \\frac{1}{2} ln(2 \\pi \\sigma^2) \\right)}$\n",
        "\n",
        "* $\\theta = \\mu  \\Rightarrow b(\\theta) = \\frac{\\mu^2}{2}$\n",
        "* $\\phi = \\sigma^2 ⇒ a(\\phi) = \\sigma^2$\n",
        "*  $E[Y] = b'(\\theta) = \\mu$\n",
        "* $V[Y] = \\sigma^2 b''(\\theta)= \\sigma^2 $\n",
        "\n",
        "Linear variance function: $v(\\mu) = 1$\n"
      ],
      "metadata": {
        "id": "c9bkyLnEetFA"
      }
    },
    {
      "cell_type": "markdown",
      "source": [
        "\n",
        "\n",
        "\n",
        "####  Poisson: $Poi(\\lambda)$\n",
        "\n",
        "$f(x,\\lambda) = \\frac{\\lambda^x e^{-\\lambda}}{x!} = exp(x ln(\\lambda)  -\\lambda -ln(x!)) $\n",
        "\n",
        "* $\\theta = ln(\\lambda) \\Rightarrow b(\\theta) = e^{\\theta}  \\ \\text{and} \\  \\phi = 1$\n",
        "*  $E[Y] = b'(\\theta) = e^{\\theta} = \\lambda$\n",
        "* $V[Y] = b''(\\theta)=e^{\\theta} = \\lambda$\n",
        "\n",
        "Linear variance function: $v(\\mu) = \\mu$\n",
        "\n",
        "\n"
      ],
      "metadata": {
        "id": "1r_Cb5Roerth"
      }
    },
    {
      "cell_type": "code",
      "source": [],
      "metadata": {
        "id": "25bvwZADXcBy"
      },
      "execution_count": null,
      "outputs": []
    },
    {
      "cell_type": "code",
      "source": [],
      "metadata": {
        "id": "VtTrxhp3XcFJ"
      },
      "execution_count": null,
      "outputs": []
    },
    {
      "cell_type": "code",
      "source": [],
      "metadata": {
        "id": "GkGHjwwjXbBm"
      },
      "execution_count": null,
      "outputs": []
    }
  ]
}