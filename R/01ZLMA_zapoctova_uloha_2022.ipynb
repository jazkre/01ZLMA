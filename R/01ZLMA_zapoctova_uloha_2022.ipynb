{
  "nbformat": 4,
  "nbformat_minor": 0,
  "metadata": {
    "colab": {
      "private_outputs": true,
      "provenance": [],
      "include_colab_link": true
    },
    "kernelspec": {
      "name": "ir",
      "display_name": "R"
    },
    "language_info": {
      "name": "R"
    }
  },
  "cells": [
    {
      "cell_type": "markdown",
      "metadata": {
        "id": "view-in-github",
        "colab_type": "text"
      },
      "source": [
        "<a href=\"https://colab.research.google.com/github/jazkre/01ZLMA/blob/main/R/01ZLMA_zapoctova_uloha_2022.ipynb\" target=\"_parent\"><img src=\"https://colab.research.google.com/assets/colab-badge.svg\" alt=\"Open In Colab\"/></a>"
      ]
    },
    {
      "cell_type": "markdown",
      "metadata": {
        "id": "iNr4YK9LQTPT"
      },
      "source": [
        "# Zadání zápočtové úlohy z předmětu 01ZLMA 2022/2023"
      ]
    },
    {
      "cell_type": "code",
      "source": [],
      "metadata": {
        "id": "jW0L4cDCh8Vj"
      },
      "execution_count": null,
      "outputs": []
    },
    {
      "cell_type": "markdown",
      "source": [
        "https://archive.ics.uci.edu/ml/datasets/default+of+credit+card+clients\n",
        "\n",
        "Data Set Information:\n",
        "\n",
        "This research aimed at the case of customers default payments in Taiwan and compares the predictive accuracy of probability of default among six data mining methods. From the perspective of risk management, the result of predictive accuracy of the estimated probability of default will be more valuable than the binary result of classification - credible or not credible clients\n",
        "\n",
        "\n",
        "\n"
      ],
      "metadata": {
        "id": "51IF0OM7h8yo"
      }
    },
    {
      "cell_type": "code",
      "source": [],
      "metadata": {
        "id": "rksznnmEjqdl"
      },
      "execution_count": null,
      "outputs": []
    },
    {
      "cell_type": "code",
      "source": [
        "# Install and load necessary libraries\n",
        "#install.packages(\"readxl\")\n",
        "library(readxl)\n",
        "library(tidyverse)"
      ],
      "metadata": {
        "id": "fzIIGpjIjqge"
      },
      "execution_count": null,
      "outputs": []
    },
    {
      "cell_type": "code",
      "source": [
        "\n",
        "# Original URL of the dataset\n",
        "url <- \"https://archive.ics.uci.edu/ml/machine-learning-databases/00350/default%20of%20credit%20card%20clients.xls\"\n",
        "\n",
        "# Temporary file to store the downloaded data\n",
        "temp <- tempfile(fileext = \".xls\")\n",
        "\n",
        "# Download the file\n",
        "download.file(url, temp, mode = \"wb\")\n",
        "\n",
        "# Read the Excel file\n",
        "df <- read_excel(temp,skip = 1,col_names = TRUE)\n",
        "\n",
        "# Remove the temporary file\n",
        "unlink(temp)"
      ],
      "metadata": {
        "id": "fyYmb8msl7o2"
      },
      "execution_count": null,
      "outputs": []
    },
    {
      "cell_type": "code",
      "source": [
        "df <- df %>% \n",
        "  rename(default = `default payment next month`)\n",
        "df %>% head()\n",
        "data <- df"
      ],
      "metadata": {
        "id": "jE3l3IkvjqjR"
      },
      "execution_count": null,
      "outputs": []
    },
    {
      "cell_type": "code",
      "source": [],
      "metadata": {
        "id": "nXwCeyo_jqmb"
      },
      "execution_count": null,
      "outputs": []
    },
    {
      "cell_type": "code",
      "source": [
        "# Get column names that start with \"bill_amt\" or \"pay_amt\"\n",
        "colnames(data) <- tolower(colnames(data))\n",
        "bill_cols <- grep(\"^bill_amt\", names(data), value = TRUE)\n",
        "pay_cols <- grep(\"^pay_amt\", names(data), value = TRUE)\n",
        "\n",
        "# Compute min and max for each row from columns starting with \"bill_amt\" or \"pay_amt\"\n",
        "data <- data %>%\n",
        "  mutate(\n",
        "    bill_min = pmap_dbl(select(., starts_with(\"bill_amt\")), min, na.rm = TRUE),\n",
        "    bill_max = pmap_dbl(select(., starts_with(\"bill_amt\")), max, na.rm = TRUE),\n",
        "    pay_min = pmap_dbl(select(., starts_with(\"pay_amt\")), min, na.rm = TRUE),\n",
        "    pay_max = pmap_dbl(select(., starts_with(\"pay_amt\")), max, na.rm = TRUE)\n",
        "  ) %>%\n",
        "  select(-all_of(bill_cols), -all_of(pay_cols), -c(\"id\",\"pay_2\",\"pay_3\",\"pay_4\",\"pay_5\"))\n",
        "\n",
        "data %>% head()"
      ],
      "metadata": {
        "id": "QtWO8-OKjqo9"
      },
      "execution_count": null,
      "outputs": []
    },
    {
      "cell_type": "code",
      "source": [
        "data <- data %>%\n",
        "  filter(!(bill_min <= 0 | pay_max <= 0),\n",
        "         !(marriage == 0 | marriage == 3),\n",
        "         !(education == 0)) %>%\n",
        "  mutate(education = ifelse(education >= 3, 3, education)) %>%\n",
        "  mutate(sex = factor(sex),\n",
        "        education = factor(education),\n",
        "        marriage = factor(marriage))"
      ],
      "metadata": {
        "id": "-i8tVs7bunyw"
      },
      "execution_count": null,
      "outputs": []
    },
    {
      "cell_type": "code",
      "source": [
        "summary(data)\n",
        "dim(data)"
      ],
      "metadata": {
        "id": "hNR__E3ojqsH"
      },
      "execution_count": null,
      "outputs": []
    },
    {
      "cell_type": "code",
      "source": [
        "data_table <- data %>%\n",
        "   dplyr::select(default,age, sex, education, marriage, limit_bal) %>%\n",
        "   mutate(age             = cut(age, breaks=c(-Inf, 25,30,35,40,Inf),labels=c(\"20\",\"25\",\"30\",\"35\",\"40\")),\n",
        "          limit_bal  = cut(limit_bal, breaks=c(-Inf,50000, 100000,150000,200000,Inf),labels=c(\"50\",\"100\",\"150\",\"200\",\"250\"))) %>%\n",
        "  group_by(age,limit_bal,sex) %>%\n",
        "  summarise(n = n(),\n",
        "         default_yes = sum(default),\n",
        "         default_no = n - sum(default)\n",
        "        ) %>%\n",
        "  select(-c(\"n\"))       \n",
        "\n",
        "data_table %>% head()"
      ],
      "metadata": {
        "id": "UgDkraHXA3nW"
      },
      "execution_count": null,
      "outputs": []
    },
    {
      "cell_type": "code",
      "source": [
        "install.packages(\"caret\")\n",
        "library(caret)\n",
        "\n",
        "# Set the seed for reproducibility\n",
        "set.seed(42)\n",
        "\n",
        "# Create a stratified random sample of the row numbers\n",
        "train_rows <- createDataPartition(data$default, p = 0.7, list = FALSE)\n",
        "\n",
        "# Split the data into training and testing sets\n",
        "train_data <- data[train_rows, ]\n",
        "test_data <- data[-train_rows, ]"
      ],
      "metadata": {
        "id": "6y6bFXihFCfK"
      },
      "execution_count": null,
      "outputs": []
    },
    {
      "cell_type": "code",
      "source": [
        "dim(train_data)\n",
        "dim(test_data)"
      ],
      "metadata": {
        "id": "rUvURTNnDy8w"
      },
      "execution_count": null,
      "outputs": []
    },
    {
      "cell_type": "markdown",
      "source": [
        "## Zadání"
      ],
      "metadata": {
        "id": "K2SGHbv2FlTI"
      }
    },
    {
      "cell_type": "markdown",
      "metadata": {
        "id": "EgmJdEeF3nVh"
      },
      "source": [
        "## 01 - Grafické zobrazení dat a jejich kontrola\n",
        "\n",
        "Použijte dataset `data_train` a `data_test`. "
      ]
    },
    {
      "cell_type": "markdown",
      "metadata": {
        "id": "vMCUrJCh3-Lr"
      },
      "source": [
        "* Navrhněte vhodný způsob zobrazení dat, který vám pomůže určit, zdali použití logistické regrese pro predikci nesplacení úvěru je možné a vhodné při použítí zvolených trénovacích a testvacích dat.\n",
        "* Vykreslete boxploty pro různé numerické proměnné, odezvu `default` a barevn2 odlište kategorické proměnné. Je z těchto obrázků možné odhadnout jaká proměnná bude mít vliv na odezvu? (jen `data_train`).\n",
        "* Pro vybrané skupiny z předešlé otázky navrhněte vhodný statistický test, proveďte ho a řekněte zdali je vámi zvolená proměnná statisticky významná pro určení schopnosti splácet (jen `data_train`). "
      ]
    },
    {
      "cell_type": "markdown",
      "metadata": {
        "id": "VZVWRKez4CEl"
      },
      "source": [
        "## 02 - Logistická regrese agregovaná tabulková data\n",
        "\n",
        "použijte `data_table`\n",
        "\n",
        "\n",
        "\n"
      ]
    },
    {
      "cell_type": "markdown",
      "metadata": {
        "id": "zYO0I9eJ614V"
      },
      "source": [
        "* Vytvořte odezvu pro logistický model binomického rozdělení a sestrojte nulový model. Jaká je ve zkoumané populaci  průměrná šance na neschopnost splácet úvěr  a jaká je pravděpodobnost nesplacení úvěru? \n",
        "\n",
        "* Sestrojte model, kde závisí výskyt nesplacení úvěru pouze na proměnné `limit_bal`. Je vliv limitu významná proměnná na hladině významnosti 0.05? Pokud ano, zjistěte, kolikrát mají lidé s limitem větším než 100 vetší šanci na neschopnost splácet než lidé s limitem nad 200.\n",
        "\n",
        "* Sestrojte model, kde závisí výskyt neschopnosti splácet pouze na věku `age`.  Je věk  statisticky významná proměnná na hladině významnosti 0.01? Pokud ano, zjistěte, kolikrát mají pacienti ve věku mezi 35-40 menší šanci na  neschopnost splácet než lidé ve věku 20-25.\n",
        "\n",
        "* Předpokládejte, že šance na neschopnost splácet roste exponenciálně s hodnotou limitu a klesá exponenciálně s věkem. Vytvořte příslušné numerické spojité prediktory. Sestrojte model, kde šance na neschopnost splácet bude záležet na numerických hodnotách tlaku a věku (bez interakce). Jaký je poměr šancí na neschopnost splácet mezi lidmi lišícími se limitem o 50000 a majícími stejný věk? \n",
        "\n",
        "* Otestujte předešlý model proti saturovanému modelu. Má tento test opodstatnění? Okomentujte jeho výsledek. "
      ]
    },
    {
      "cell_type": "markdown",
      "metadata": {
        "id": "-__6HiYk65CB"
      },
      "source": [
        "## 03 - Poissonovská regrese na agregovaná tabulková data (4/7)\n",
        "\n",
        "použijte  `data_table`\n"
      ]
    },
    {
      "cell_type": "markdown",
      "metadata": {
        "id": "ZC__j9ZiY-aG"
      },
      "source": [
        "* Upravte tabulku do potřebného formátu a sestrojte čistě aditivní loglineární model pro četnosti pozorování ve skupinách, který předpokládá vzájemnou\n",
        "nezávislost mezi všemi skupinovými prediktory.\n",
        "\n",
        "* Na základě předchozího modelu, jaký je odhad šance na neschopnost splácet mezi všemi vybranými lidmi ve skupině a jaký je odhad pravděpodobnosti neschopnosti splácet?\n",
        "\n",
        "* Sestavte model, který obsahuje všechny možné dvojné interakce mezi klasifikačními veličinami a porovnejte tento model s předchozím modelem bez interakcí. Je tento model statisticky významně lepší?\n",
        "\n",
        "* Sestavte saturovaný model. Je tento model statisticky významně lepší než předchozí s dvojtými interakcemi? Vyberte model který je podle vás nejlepší.\n",
        "\n",
        "* Na základě vybraného modelu, je ve všech věkových skupinách stejná souvislost mezi limitem a šancí splácet?\n",
        "\n",
        "* Na základě vybraného modelu, je pro obě pohlaví stejná souvislost mezi limitem a šancí splácet?\n",
        "\n",
        "* Ve skupině co se týče vzdělání je nějvětší souvislost mezi schopností splácet a limitem?\n"
      ]
    },
    {
      "cell_type": "markdown",
      "metadata": {
        "id": "FvKc5AMX7IRJ"
      },
      "source": [
        "## 04 - Logistická regrese - statistika (5/8)\n",
        "\n",
        "Nyní již používejte `data_train`"
      ]
    },
    {
      "cell_type": "markdown",
      "metadata": {
        "id": "oJjsyaKi7ahB"
      },
      "source": [
        "* Vypište kontingenční tabulku pro proměnné pohlaví (`sex`) a schopnost splácet  (`default`). Ručně z tabulky spočtěte empirický poměr šancí na schopnost splácet (muž vs. žena) a pravděpodobnost onemocnění pro ženu a muže. Výsledek porovnejte s výsledky z logistické regrese, kde jediným prediktorem bude právě proměnná `sex` a odezvou proměnná `default`. Pro poměr šancí uveďte i 95% konfidenční interval a okometujte, zdali mají ženy signifikantně menší šanci na schopnost splácet.\n",
        "\n",
        "* Vypište kontingenční tabulku pro proměnné vzdělání (`education`) a schopnost splácet (`default`). Ručně z tabulky spočtěte empirický poměr šancí na onemocnění srdce (type 0: asymptomatic, proti ostatním) a pravděpodobnosti onemocnění pro jednotlivé typy. Výsledek porovnejte s výsledky z logistické regrese, kde jediným prediktorem bude právě proměnná `education` a odezvou proměnná `default`. Pro poměr šancí uveďte i 95% konfidenční interval a okometujte, zdali mají s lepším vzděláním mají menší šanci na neschopnost splácet úvěr.\n",
        "\n",
        "* Sestavte model, kde použijete všechny dostupné proměnné (jak faktorové tak numerické). Pomocí deviančních testů model postupně redukujte. Výsledný model porovnejte s modelem, který byste obdrželi při použití automatického výběru s funkcí `step()`.\n",
        "\n",
        "* Pro vybraný model spočtěte šanci na schopnost splácet pro muže oproti ženám, včetně 95% konfidenčních intervalů. Stejně tak pro manželství a vzdělání. Jak se výsledek změnil oproti jednoduchým modelům a jak byste tuto změnu vysvětlili?\n",
        "\n",
        "* Použijte váš model a spočtěte odhad pravděpodobnosti schopnosti splácet pro testovací data vykreslete pro proměnou `limit_bal` predikční konfidenční intervaly. \n",
        "Nápověda krom cvičení, také třeba zde: https://fromthebottomoftheheap.net/2017/05/01/glm-prediction-intervals-i/\n",
        "\n",
        "* Na základě trénovacích dat zvolte vhodný treshold pro určení splatí / nesplatí a na testovacích datech spočtěte Accuracy a vykreslete ROC křivku spolu s AUC.\n",
        "\n",
        "\n",
        "\n"
      ]
    },
    {
      "cell_type": "markdown",
      "metadata": {
        "id": "36nAaDOb7lkB"
      },
      "source": [
        "## 05 - Logistická regrese -  strojové učení"
      ]
    },
    {
      "cell_type": "markdown",
      "metadata": {
        "id": "EkAcASto71Wb"
      },
      "source": [
        "* Sestavte workflow (pipeline) na trenovacích datech pro logistickou regresi s použitím regularizace (elestic-net), která bude obsahovat \n",
        " *   Přípravu proměnných, transformaci, one-hot encoding, normalizaci, ... (Možno použít recipe z tidy models)\n",
        " *   Hledání \"optimálního\" nastavení hyperparametru v regularizaci. \n",
        " *   k-fold cross validaci\n",
        "\n",
        "* Pomocí předchozí pipline/workflow vyberte hodnotu hyperparametru. Pokud chceme uvedený algoritmus použít k detekci pacientů s nemocí srdce, jakou statistiku bychom měli sledovat abychom omylem nepropustili nemocného domů jako zdravého? \n",
        "\n",
        "* Spočtěte a porovnejte statistiky používané při binární klasifikaci na trénovacích a testovacích datech. Vykreslete ROC křivku a spočtěte plochu pod ní jak pro testovací tak trénovací data. Co můžeme říci o kvalitě modelu z této sekce 05 a modelu z předchozí 04?\n",
        "\n",
        "\n"
      ]
    },
    {
      "cell_type": "markdown",
      "metadata": {
        "id": "XyiDAcOU92jA"
      },
      "source": [
        "## Poznámky k odevzdání a vypracování\n",
        "\n",
        "* Úkol vypracujte ve skupině. Pokud se budete s někým radit mimo skupinu, nezapomeňte u dané odpovědi uvést zdroj vašich informací. \n",
        "\n",
        "* Úkol můžete odevzdávat jako spustitelný jupyter notebook na google colab (stačí odevzdat link na github). Před odevzdáním ZKONTROLUJTE, že buňky na sebe navazují a že lze NB postupně projít a jednotlivé buňky nezahlásí chybu.\n",
        "\n",
        "* Deadline pro odevzdání je stanoven na sředu 21.6.2022.\n",
        "\n",
        "* Není možno odevzdání opakovat. Odevzdaný úkol zkontroluji a buď zápočet získáte, nebo ne. Je vyžadováno mít alespoň 75% úkolů správně.\n",
        "\n",
        "* V případě otázek se ptejte veřejně v general kanále v MS Teams. Ostatní mohou mít podobné problémy a tudíž pokud je někde například nejasné zadání, tak ať mají všichni stejnou příležitost.\n",
        "\n",
        "* Možno psát a odevzdat v Pythonu."
      ]
    },
    {
      "cell_type": "code",
      "metadata": {
        "id": "tLdxTPNZXEOF"
      },
      "source": [],
      "execution_count": null,
      "outputs": []
    }
  ]
}