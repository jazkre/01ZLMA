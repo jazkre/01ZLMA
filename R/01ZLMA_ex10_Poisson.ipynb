{
  "nbformat": 4,
  "nbformat_minor": 0,
  "metadata": {
    "colab": {
      "private_outputs": true,
      "provenance": [],
      "include_colab_link": true
    },
    "kernelspec": {
      "name": "ir",
      "display_name": "R"
    }
  },
  "cells": [
    {
      "cell_type": "markdown",
      "metadata": {
        "id": "view-in-github",
        "colab_type": "text"
      },
      "source": [
        "<a href=\"https://colab.research.google.com/github/jazkre/01ZLMA/blob/main/R/01ZLMA_ex10_Poisson.ipynb\" target=\"_parent\"><img src=\"https://colab.research.google.com/assets/colab-badge.svg\" alt=\"Open In Colab\"/></a>"
      ]
    },
    {
      "cell_type": "markdown",
      "metadata": {
        "id": "x-i6MbNFm4Zt"
      },
      "source": [
        "# 01ZLMA - Exercise 10\n",
        "Exercise 10 of the course 01ZLMA. \n",
        "\n",
        "## Contents\n",
        "\n",
        "* Log-linear models with Poisson distributed data\n",
        " ---\n"
      ]
    },
    {
      "cell_type": "markdown",
      "metadata": {
        "id": "pxEycwoDWr1H"
      },
      "source": [
        "Dataset and example from Chapter 10\n",
        "\n",
        "Peter K. Dunn • Gordon K. Smyth, Generalized Linear ModelsWith Examples in R\n",
        "\n",
        "https://link.springer.com/content/pdf/10.1007%2F978-1-4419-0118-7.pdf"
      ]
    },
    {
      "cell_type": "code",
      "metadata": {
        "id": "dtjmAUwlXCxB"
      },
      "source": [
        "install.packages(\"GLMsData\")\n",
        "library(GLMsData)\n",
        "library(tidyverse)"
      ],
      "execution_count": null,
      "outputs": []
    },
    {
      "cell_type": "markdown",
      "metadata": {
        "id": "fm3BhTS4FpSP"
      },
      "source": [
        "Example 10.1.: As a numerical example, consider the number of incidents of\n",
        "lung cancer from 1968 to 1971 in four Danish cities. The number of cases of lung cancer in each age group is remarkably similar for Fredericia. However, using the number of cases does not accurately reflect the information in the data, because five times as many people are in the 40–54 age group than in the\n",
        "over-75 age group. Understanding the data is enhanced by considering the\n",
        "rate of lung cancer, such as the number of lung cancer cases per unit of population."
      ]
    },
    {
      "cell_type": "code",
      "metadata": {
        "id": "JLcmY5viE6it"
      },
      "source": [
        "data(danishlc)\n",
        "danishlc$Rate <- danishlc$Cases / danishlc$Pop * 1000 # Rate per 1000\n",
        "danishlc$Age <- ordered(danishlc$Age, # Ensure age-order is preserved \n",
        "   levels=c(\"40-54\", \"55-59\", \"60-64\", \"65-69\", \"70-74\", \">74\") )\n",
        "\n",
        "# The r function ordered() informs r that the levels of factor Age have a \n",
        "# particular order; without declaring Age as an ordered factor, Age is plotted\n",
        "# with \">74\" as the first level.  "
      ],
      "execution_count": null,
      "outputs": []
    },
    {
      "cell_type": "code",
      "metadata": {
        "id": "m1mQ2W0VE6lc"
      },
      "source": [
        "head(danishlc)\n",
        "str(danishlc)"
      ],
      "execution_count": null,
      "outputs": []
    },
    {
      "cell_type": "code",
      "metadata": {
        "id": "xOiBCNnWE6oA"
      },
      "source": [
        "#danishlc$City <- abbreviate(danishlc$City, 1) # Abbreviate city names\n",
        "matplot( xtabs( Rate ~ Age+City, data=danishlc), pch=1:4, lty=1:4,type=\"b\", lwd=2, col=\"black\", axes=FALSE, ylim=c(0, 25),xlab=\"Age group\", ylab=\"Cases/1000\")\n",
        "axis(side=1, at=1:6, labels=levels(danishlc$Age))\n",
        "axis(side=2, las=1); box()\n",
        "legend(\"topleft\", col=\"black\", pch=1:4, lwd=2, lty=1:4, merge=FALSE,legend=c(\"Fredericia\", \"Horsens\", \"Kolding\", \"Vejle\") )"
      ],
      "execution_count": null,
      "outputs": []
    },
    {
      "cell_type": "markdown",
      "source": [
        "mame skupiny -> vidíme rastúci trend a outlier Horsens, čo spôsobí rapídny prepad trendujk"
      ],
      "metadata": {
        "id": "6vScON_qqS2w"
      }
    },
    {
      "cell_type": "code",
      "metadata": {
        "id": "T0q--wCUE6qn"
      },
      "source": [
        "#  Same plot by ggplot\n",
        "ggplot(danishlc, aes(x=Age, y=Rate, group=City, col=City)) +\n",
        "  geom_line() +\n",
        "  geom_point(aes(shape = City)) +\n",
        "  xlab(\"Age group\") + ylab(\"Cases/1000\")"
      ],
      "execution_count": null,
      "outputs": []
    },
    {
      "cell_type": "markdown",
      "metadata": {
        "id": "yBxXAu7QLfM3"
      },
      "source": [
        "The plots show no clear pattern by city, but the\n",
        "lung cancer rate appears to grow steadily for older age groups for each city,\n",
        "then falls away for the `>74` age group. The lung cancer rate for Horsens in\n",
        "the `>74` age group seems very low."
      ]
    },
    {
      "cell_type": "markdown",
      "metadata": {
        "id": "GMi35fEDErV6"
      },
      "source": [
        "### Poission regression recap:\n",
        "\n",
        "We assume:\n",
        "\n",
        "$Y_i \\sim Po(\\lambda_i s_i)$\n",
        "\n",
        "$log(\\lambda_i) = x_i^T \\beta$\n",
        "\n",
        "$E[Y_i] = \\lambda_i s_i = s_i exp(x_i^T \\beta) = exp(ln(s_i) + x_i^T \\beta)$ \n",
        "\n",
        "$\\lambda_i = \\frac{E[Y_i]}{s_i}$\n",
        "\n",
        "We will estimate coefficients $β_j$'s, but we don't have to estimate parameters for an offset term $ln(si)$.\n",
        "\n"
      ]
    },
    {
      "cell_type": "code",
      "source": [
        "danishlc"
      ],
      "metadata": {
        "id": "3681r-B96QvD"
      },
      "execution_count": null,
      "outputs": []
    },
    {
      "cell_type": "markdown",
      "source": [
        "nejak mu blbol age -> chceme to ako faktor:"
      ],
      "metadata": {
        "id": "ra2rrTmXrDPY"
      }
    },
    {
      "cell_type": "code",
      "source": [
        "danishlc$age = as.factor(as.numeric(danishlc$Age))\n",
        "danishlc"
      ],
      "metadata": {
        "id": "Snn_r1jn6lZZ"
      },
      "execution_count": null,
      "outputs": []
    },
    {
      "cell_type": "code",
      "metadata": {
        "id": "mfIpXH4WKYJe"
      },
      "source": [
        "# Model 1 with offset term and facors City, Age and theirs interaction.\n",
        "dlc_m1 <- glm( Cases ~ offset( log(Pop) ) + City * age, family=poisson, data=danishlc)\n",
        "summary(dlc_m1)"
      ],
      "execution_count": null,
      "outputs": []
    },
    {
      "cell_type": "markdown",
      "source": [
        "vek je najdôlešitejší, čo máme, interakcia mesto:vek -> jediné horsens, age6\n",
        "\n"
      ],
      "metadata": {
        "id": "8HZODXYXrS0P"
      }
    },
    {
      "cell_type": "markdown",
      "source": [
        "Question: Compare previous model with saturated one."
      ],
      "metadata": {
        "id": "wA7MwNeWI07Z"
      }
    },
    {
      "cell_type": "code",
      "source": [
        "# Test predictors significance:\n",
        "anova(dlc_m1, test=\"Chisq\")\n",
        "# Model without interaction\n",
        "dlc_m1wo <- glm( Cases ~ offset( log(Pop) ) + City + age, family=poisson, data=danishlc)\n",
        "anova(dlc_m1wo, test=\"Chisq\")\n"
      ],
      "metadata": {
        "id": "Wfj80_VWFujU"
      },
      "execution_count": null,
      "outputs": []
    },
    {
      "cell_type": "markdown",
      "source": [
        "city: 3.34e-01 -> nemáme dk\n",
        "\n",
        "city:age -> nemame dk vyradíme\n",
        "\n",
        "zostane len model v závislosti veku"
      ],
      "metadata": {
        "id": "vCLh7SG5rrh3"
      }
    },
    {
      "cell_type": "code",
      "source": [
        "# More tests:\n",
        "anova(dlc_m1, dlc_m1wo, test = \"LRT\")\n",
        "anova(dlc_m1, dlc_m1wo, test = \"Rao\")\n"
      ],
      "metadata": {
        "id": "j5bSYUEKU6sF"
      },
      "execution_count": null,
      "outputs": []
    },
    {
      "cell_type": "markdown",
      "metadata": {
        "id": "UDf8vrkuOArc"
      },
      "source": [
        "Keep only `Age`"
      ]
    },
    {
      "cell_type": "code",
      "metadata": {
        "id": "8dtZzjEcKYMd"
      },
      "source": [
        "# Drop City\n",
        "dlc_m2 <- update(dlc_m1, . ~ offset(log(Pop)) + age )\n",
        "summary(dlc_m2)\n"
      ],
      "execution_count": null,
      "outputs": []
    },
    {
      "cell_type": "markdown",
      "source": [
        "AIC 136, D 28\n",
        "\n",
        "predchadzaj model(inter) : AIC D skoro 0 \\\\\n",
        "pred model(bez int: (došlo vlastne k zlepšeniu v AIC (D sa o moc nezhoršila)"
      ],
      "metadata": {
        "id": "CTrxPUb5sKZY"
      }
    },
    {
      "cell_type": "markdown",
      "metadata": {
        "id": "oa8ivlq-OTB9"
      },
      "source": [
        "Mutate dataset to have Age as quantitative. Using the lower class boundary of each class, since all classes have a lower\n",
        "boundary."
      ]
    },
    {
      "cell_type": "code",
      "metadata": {
        "id": "jBOOCSjdKYPb"
      },
      "source": [
        "# Add numerical variable: AgeNum.\n",
        "danishlc <- danishlc %>%\n",
        " add_column(AgeNum = rep( c(40, 55, 60, 65, 70, 75), 4))\n"
      ],
      "execution_count": null,
      "outputs": []
    },
    {
      "cell_type": "markdown",
      "source": [
        "Question: Discuss the application of different boundaries: lower, midpoint, upper."
      ],
      "metadata": {
        "id": "7V12CJddKLuK"
      }
    },
    {
      "cell_type": "code",
      "metadata": {
        "id": "qbV1dlYTKYR5"
      },
      "source": [
        "# Build model 3 with Age as numerical variable.\n",
        "dlc_m3 <- update(dlc_m1, . ~ offset( log(Pop) ) + AgeNum)\n",
        "summary(dlc_m3)\n",
        "anova(dlc_m3, test=\"Chisq\")"
      ],
      "execution_count": null,
      "outputs": []
    },
    {
      "cell_type": "markdown",
      "source": [
        "ako rastie poiss s vekom ?  \n",
        "\n",
        "odhad rozptylu rovnaký"
      ],
      "metadata": {
        "id": "byOcYLw6st8d"
      }
    },
    {
      "cell_type": "code",
      "metadata": {
        "id": "q-lCt69_KYUr"
      },
      "source": [
        "# With numerical varaible, we can apply quadratic relationship\n",
        "dlc_m4 <- update( dlc_m3, . ~ offset( log(Pop) ) + poly(AgeNum, 2) )\n",
        "summary(dlc_m4)\n",
        "anova(dlc_m4, test=\"Chisq\")"
      ],
      "execution_count": null,
      "outputs": []
    },
    {
      "cell_type": "code",
      "metadata": {
        "id": "6qPMNGPqajrS"
      },
      "source": [
        "# Compare linear and quadratic models.\n",
        "anova(dlc_m3,dlc_m4, test=\"Chisq\")"
      ],
      "execution_count": null,
      "outputs": []
    },
    {
      "cell_type": "markdown",
      "source": [
        "The quadratic model is significant improvement compare to linear one."
      ],
      "metadata": {
        "id": "vw1gf1ukLV1M"
      }
    },
    {
      "cell_type": "markdown",
      "metadata": {
        "id": "dFVYb-Z-e-pc"
      },
      "source": [
        "Just for academic purpose: Check the deviance by hand computation"
      ]
    },
    {
      "cell_type": "code",
      "metadata": {
        "id": "_K6cyvfsb6lx"
      },
      "source": [
        "y <- danishlc$Cases\n",
        "mu_hat4 <- fitted(dlc_m4)               # predicted values by model 1\n",
        "dev_stat_m4 <- 2*sum(y*log(y/mu_hat4) - (y - mu_hat4))\n",
        "data.frame(computed_by = c(\"hand\",\"glm in R\"), deviance = c(dev_stat_m4,deviance(dlc_m4)))\n"
      ],
      "execution_count": null,
      "outputs": []
    },
    {
      "cell_type": "markdown",
      "metadata": {
        "id": "TDLfrSGQb7w0"
      },
      "source": [
        "### *Results*\n",
        "\n",
        "Compare models with numerical `AgeNum` and with categorical `Age` variable by AIC and create summary table of outputs from all models"
      ]
    },
    {
      "cell_type": "code",
      "metadata": {
        "id": "lfTskUAqSVHk"
      },
      "source": [
        "x       <- list(m1=dlc_m1,m2=dlc_m2,m3=dlc_m3,m4=dlc_m4)\n",
        "results <- data.frame(model_name = c(\"dlc_m1\",\"dlc_m2\",\"dlc_m3\",\"dlc_m4\"),\n",
        "       age_type = c(\"categorical\",\"categorical\",\"numerical\",\"numerical\"),\n",
        "       model_type = c(\"with interaction (sat_model)\",\"without interaction\",\"AgeNum Linear\", \"AgeNum quadratic\"))\n",
        "\n",
        "results <- tibble::rownames_to_column(results, var = \"model_number\") %>%\n",
        " add_column(AIC = as.numeric(lapply(x,AIC)),\n",
        "            deviance = lapply(x,deviance) %>% as.numeric() %>% round(2),\n",
        "            df = lapply(x,df.residual) %>% as.numeric()) %>%\n",
        "  mutate(c_val = ifelse(df>0,qchisq(0.05, df, ncp=0, lower.tail = FALSE),NA),\n",
        "         P_val = ifelse(df>0,pchisq(deviance, df, lower = FALSE),NA)  )          \n",
        "results\n"
      ],
      "execution_count": null,
      "outputs": []
    },
    {
      "cell_type": "markdown",
      "metadata": {
        "id": "vaIfBKwRcFlS"
      },
      "source": [
        "Both models, with factor varialbe `Age` and with quadratic `AgeNum` are reasonably adequate."
      ]
    },
    {
      "cell_type": "markdown",
      "source": [
        "čisto cez AIC: model 4 -> vek a kvadrat zavislosť\n",
        "\n",
        "p-val->"
      ],
      "metadata": {
        "id": "FUp82bCruDyO"
      }
    },
    {
      "cell_type": "code",
      "metadata": {
        "id": "Ger6joM8SVR0"
      },
      "source": [],
      "execution_count": null,
      "outputs": []
    },
    {
      "cell_type": "markdown",
      "metadata": {
        "id": "WrBG8nLIhEaj"
      },
      "source": [
        "Plot deviance residuals against fitted values"
      ]
    },
    {
      "cell_type": "code",
      "metadata": {
        "id": "he_req06SVXP"
      },
      "source": [
        "par(mfrow=c(2,2))\n",
        "scatter.smooth(predict(dlc_m2, type='response'), rstandard(dlc_m2, type='deviance'))\n",
        "scatter.smooth(sqrt(fitted(dlc_m2)), rstandard(dlc_m2, type='deviance'))\n",
        "\n",
        "scatter.smooth(predict(dlc_m4, type='response'), rstandard(dlc_m4, type='deviance'))\n",
        "scatter.smooth(sqrt(fitted(dlc_m4)), rstandard(dlc_m4, type='deviance'))"
      ],
      "execution_count": null,
      "outputs": []
    },
    {
      "cell_type": "markdown",
      "source": [
        "jake druhy rezid plotov sme používali pri binom r? žiadne!\n",
        "\n",
        "ale teraz možeme\n",
        "\n"
      ],
      "metadata": {
        "id": "bISIzUp4u_SU"
      }
    },
    {
      "cell_type": "markdown",
      "metadata": {
        "id": "rR8WImPJn7qR"
      },
      "source": [
        "Question: why to plot sqrt of fitted values istead of fitted values only?\n",
        "\n",
        "kompenzuje sa tým závislosť Var na Str.hodnote"
      ]
    },
    {
      "cell_type": "code",
      "metadata": {
        "id": "Q7521dO5h9V1"
      },
      "source": [],
      "execution_count": null,
      "outputs": []
    },
    {
      "cell_type": "markdown",
      "metadata": {
        "id": "PyKHthruh9qQ"
      },
      "source": [
        "Plot residuals against predictors\n",
        "\n"
      ]
    },
    {
      "cell_type": "code",
      "metadata": {
        "id": "Wi9DSa0Ph-BU"
      },
      "source": [
        "par(mfrow=c(2,3))\n",
        "plot(danishlc$Age,  rstandard(dlc_m2, type='deviance'), col='gray')\n",
        "plot(as.numeric(danishlc$Age),  rstandard(dlc_m2, type='deviance'), col='gray')\n",
        "scatter.smooth(danishlc$AgeNum,  rstandard(dlc_m2, type='deviance'), col='gray')\n",
        "\n",
        "scatter.smooth(danishlc$Age, rstandard(dlc_m4, type='deviance'), col='gray')\n",
        "scatter.smooth(danishlc$AgeNum, rstandard(dlc_m4, type='deviance'), col='gray')\n",
        "scatter.smooth(danishlc$AgeNum^2, rstandard(dlc_m4, type='deviance'), col='gray')\n"
      ],
      "execution_count": null,
      "outputs": []
    },
    {
      "cell_type": "markdown",
      "metadata": {
        "id": "PnNiD1MbkS1t"
      },
      "source": [
        "Checking the link function"
      ]
    },
    {
      "cell_type": "code",
      "metadata": {
        "id": "cEbsEvUGh-Fy"
      },
      "source": [
        "par(mfrow=c(1,2))\n",
        "scatter.smooth(predict(dlc_m2, type='response'), resid(dlc_m2, type='working'), col='gray')\n",
        "scatter.smooth(predict(dlc_m4, type='response'), resid(dlc_m4, type='working'), col='gray')"
      ],
      "execution_count": null,
      "outputs": []
    },
    {
      "cell_type": "markdown",
      "source": [
        "rezidua: working type"
      ],
      "metadata": {
        "id": "UPL2KtrHwT1_"
      }
    },
    {
      "cell_type": "markdown",
      "metadata": {
        "id": "QDHVF5Sikrso"
      },
      "source": [
        "Checking if Poisson regression is appropriate"
      ]
    },
    {
      "cell_type": "markdown",
      "metadata": {
        "id": "U1VlLHdmsHyP"
      },
      "source": [
        "Quantile residuals: \n",
        "\n",
        "Dunn and Gordon (2018) introduce quantile residuals for discrete response variables. Their primary benefits are they do not show weird patterns (due to variable’s discreteness)."
      ]
    },
    {
      "cell_type": "code",
      "metadata": {
        "id": "_6GuUr7lh-If"
      },
      "source": [
        "install.packages(\"statmod\")\n",
        "library(statmod) # For quantile residuals\n",
        "install.packages(\"surveillance\")\n",
        "library(surveillance) # For anscombe residuals - na prednáške boli tieto\n",
        "\n",
        "par(mfrow=c(2,4))\n",
        "qqnorm(qresid(dlc_m2))\n",
        "qqline(qresid(dlc_m2))\n",
        "qqnorm(rstandard(dlc_m2, type=\"pearson\")); qqline(qresid(dlc_m2))\n",
        "qqnorm(rstandard(dlc_m2, type=\"deviance\")); qqline(qresid(dlc_m2))\n",
        "qqnorm(anscombe.residuals(dlc_m2, 1)); qqline(qresid(dlc_m2))\n",
        "\n",
        "\n",
        "qqnorm(qresid(dlc_m4))\n",
        "qqline(qresid(dlc_m4))\n",
        "qqnorm(rstandard(dlc_m4, type=\"pearson\")); qqline(qresid(dlc_m4))\n",
        "qqnorm(rstandard(dlc_m4, type=\"deviance\")); qqline(qresid(dlc_m4))\n",
        "qqnorm(anscombe.residuals(dlc_m4, 1)); qqline(qresid(dlc_m4))\n",
        "\n"
      ],
      "execution_count": null,
      "outputs": []
    },
    {
      "cell_type": "markdown",
      "metadata": {
        "id": "cSyG6eNXk7H_"
      },
      "source": [
        "Outliers and influential observations\n",
        "\n"
      ]
    },
    {
      "cell_type": "code",
      "metadata": {
        "id": "MSaaZYMlh-LO"
      },
      "source": [
        "n = 24\n",
        "# Critical value for cook distance: 8/(n-2*p)\n",
        "# Critical value for hat values: 2*p/n\n",
        "\n",
        "par(mfrow=c(1,2))\n",
        "plot(cooks.distance(dlc_m2), type='h',las=1, main=\"Cook's D\",ylab=\"Cook's distance, D\")\n",
        "plot(hatvalues(dlc_m2),ylim=c(0,1))\n",
        "abline(2*(n-df.residual(dlc_m2))/n,0)\n",
        "\n",
        "plot(cooks.distance(dlc_m4), type='h',las=1, main=\"Cook's D\",ylab=\"Cook's distance, D\")\n",
        "plot(hatvalues(dlc_m4),ylim=c(0,1))\n",
        "abline(2*(n-df.residual(dlc_m4))/n,0)\n"
      ],
      "execution_count": null,
      "outputs": []
    },
    {
      "cell_type": "code",
      "metadata": {
        "id": "_C2RPvcLh-N5"
      },
      "source": [
        "influence.measures(dlc_m2)\n",
        "influence.measures(dlc_m4)\n"
      ],
      "execution_count": null,
      "outputs": []
    },
    {
      "cell_type": "code",
      "source": [
        "#12 0.542327 0.293   * hlavny bod"
      ],
      "metadata": {
        "id": "d6DDY7bsfmQ_"
      },
      "execution_count": null,
      "outputs": []
    },
    {
      "cell_type": "code",
      "metadata": {
        "id": "_wQ9Kdvgh-QM"
      },
      "source": [
        " which(influence.measures(dlc_m4)$is.inf[,'cook.d'] )\n",
        " which(influence.measures(dlc_m4)$is.inf[,'hat'] )"
      ],
      "execution_count": null,
      "outputs": []
    },
    {
      "cell_type": "markdown",
      "source": [
        "Task:\n",
        "* can you model previous problem with binomial distribution?\n",
        "* If so, how do you do it. Run the experiment and model the probability of lung cancer. What is the odds ratio between people living in different locations? What is the odds ratio between people ten years older? "
      ],
      "metadata": {
        "id": "UjLbXS0wfnHz"
      }
    },
    {
      "cell_type": "code",
      "source": [
        "head(danishlc)\n",
        "str(danishlc)"
      ],
      "metadata": {
        "id": "Y1ycRLGWg7yJ"
      },
      "execution_count": null,
      "outputs": []
    },
    {
      "cell_type": "markdown",
      "source": [],
      "metadata": {
        "id": "khzLaKvy0Ear"
      }
    },
    {
      "cell_type": "code",
      "source": [
        "response=cbind(danishlc$Cases,danishlc$Pop-danishlc$Cases) # pocet priaznivych/nepriaznivych? \n",
        "#danishlc$Pop,danishlc$Pop-danishlc$Cases popul vs priaznive! ?? whááááát?\n",
        "attach(danishlc)\n",
        "model_b=glm(response~ AgeNum, family= binomial())"
      ],
      "metadata": {
        "id": "OAKFEy811yGQ"
      },
      "execution_count": null,
      "outputs": []
    },
    {
      "cell_type": "code",
      "source": [
        "#response=cbind(danishlc$Pop,danishlc$Cases)\n",
        "#attach(danishlc)\n",
        "model_bin=glm(response~ I(AgeNum/10), family= binomial())"
      ],
      "metadata": {
        "id": "4SK4Pwit0FBC"
      },
      "execution_count": null,
      "outputs": []
    },
    {
      "cell_type": "code",
      "source": [
        "summary(model_bin)"
      ],
      "metadata": {
        "id": "d7UFcnd705r-"
      },
      "execution_count": null,
      "outputs": []
    },
    {
      "cell_type": "code",
      "source": [
        "exp(coef(model_b)[2])"
      ],
      "metadata": {
        "id": "aXSPcrqX1APU"
      },
      "execution_count": null,
      "outputs": []
    },
    {
      "cell_type": "code",
      "source": [
        "exp(coef(model_bin)[2])/(1+exp(coef(model_bin)[2]))"
      ],
      "metadata": {
        "id": "sSTeaW5933sE"
      },
      "execution_count": null,
      "outputs": []
    },
    {
      "cell_type": "markdown",
      "metadata": {
        "id": "3CzhPT4ktomH"
      },
      "source": [
        "HW:\n",
        "\n",
        " * Plot predictions and realization of cases from previous model.\n",
        " * What is the suitable saddlepoint approximation for Poisson models? If it's violated, select similar groups and merge them.\n",
        " * Re-run the analysis again with such a newly grouped dataset.\n",
        "\n",
        "\n",
        " * Transform data frame into the long format by `pivot_longer` with new variable `cancer` with levels `yes` and `no`.\n",
        " * Run the analysis with new contingency table, where columns are `cancer`, `age`, `city`, `number` (number of population in the group). \n",
        " "
      ]
    },
    {
      "cell_type": "code",
      "metadata": {
        "id": "5uhSwcUmh-Z2"
      },
      "source": [
        "head(danishlc)"
      ],
      "execution_count": null,
      "outputs": []
    }
  ]
}