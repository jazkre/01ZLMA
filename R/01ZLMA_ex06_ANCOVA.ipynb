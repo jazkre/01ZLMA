{
  "nbformat": 4,
  "nbformat_minor": 0,
  "metadata": {
    "colab": {
      "private_outputs": true,
      "provenance": [],
      "include_colab_link": true
    },
    "kernelspec": {
      "name": "ir",
      "display_name": "R"
    },
    "language_info": {
      "name": "R"
    }
  },
  "cells": [
    {
      "cell_type": "markdown",
      "metadata": {
        "id": "view-in-github",
        "colab_type": "text"
      },
      "source": [
        "<a href=\"https://colab.research.google.com/github/jazkre/01ZLMA/blob/main/R/01ZLMA_ex06_ANCOVA.ipynb\" target=\"_parent\"><img src=\"https://colab.research.google.com/assets/colab-badge.svg\" alt=\"Open In Colab\"/></a>"
      ]
    },
    {
      "cell_type": "markdown",
      "metadata": {
        "id": "oD47O_0VwUBm"
      },
      "source": [
        "01ZLMA - Exercise 06\n",
        "\n",
        "Exercise 06 of the course 01ZLMA. \n",
        "\n",
        "# Analysis of Covariance (ANCOVA)"
      ]
    },
    {
      "cell_type": "markdown",
      "metadata": {
        "lines_to_next_cell": 0,
        "id": "l2EHCMAWUHT6"
      },
      "source": [
        "Assume dataset from A. J. Dobson - An Introduction to GLM, Exercise 5, that contains observations of point evaluation based on three different methods $A$, $B$, and $C$."
      ]
    },
    {
      "cell_type": "code",
      "metadata": {
        "id": "Jv5SOQ0TUHT7"
      },
      "source": [
        "library(tidyverse)\n",
        "library(Matrix)\n",
        "library(MASS)\n",
        "library(glue)"
      ],
      "execution_count": null,
      "outputs": []
    },
    {
      "cell_type": "code",
      "metadata": {
        "id": "uw-3eXEmUju7"
      },
      "source": [
        "data_trening <- \"https://raw.githubusercontent.com/francji1/01ZLMA/main/data/data_trenink.csv\"\n",
        "data    <- read.table(data_trening, header = T, sep = \";\")\n",
        "summary(data)\n",
        "head(data)\n"
      ],
      "execution_count": null,
      "outputs": []
    },
    {
      "cell_type": "code",
      "source": [
        "data"
      ],
      "metadata": {
        "id": "cwBWnOHPz6f7"
      },
      "execution_count": null,
      "outputs": []
    },
    {
      "cell_type": "code",
      "metadata": {
        "id": "WpcBvId3zAqX"
      },
      "source": [
        "data <- data %>% mutate(group = factor(group))\n",
        "str(data)\n",
        "attach(data)\n"
      ],
      "execution_count": null,
      "outputs": []
    },
    {
      "cell_type": "code",
      "metadata": {
        "id": "TMK2CINjzYho"
      },
      "source": [
        "ggplot(data, aes(x=group, y=y, fill = group)) + \n",
        "  geom_boxplot()+\n",
        "  labs(title=\"Achievement score boxplot\",x=\"Method\", y = \"Achievement score\")+\n",
        "  geom_jitter(shape=16, position=position_jitter(0.2)) +\n",
        "  stat_summary(fun=mean, geom=\"point\", shape=23, size=3) +\n",
        "  theme_classic()"
      ],
      "execution_count": null,
      "outputs": []
    },
    {
      "cell_type": "code",
      "metadata": {
        "id": "gtqgK9mM1OyG"
      },
      "source": [
        "ggplot(data, aes(x=x, y=y, color = group, shape = group)) + \n",
        "  geom_point()+\n",
        "  labs(title=\"Achievement score scatterplot\",x=\"Aptitude scores\", y = \"Achievement score\")+\n",
        "  theme_classic()"
      ],
      "execution_count": null,
      "outputs": []
    },
    {
      "cell_type": "markdown",
      "metadata": {
        "id": "P7Pu9fYuUHT8"
      },
      "source": [
        "Our task is to find out whether the individual methods differ from each other. \n",
        "At first,  we will run the analysis by the help of  derived formulas from the lecture, then we will use the built in functions from `R`.\n",
        "\n",
        "## ANCOVA - 01ZLMA Lecture 07\n",
        "\n",
        "###  Saturated model\n",
        "Task: Estimate regression coefficients and compute deviance statistcs."
      ]
    },
    {
      "cell_type": "markdown",
      "source": [
        "Keep notation from the Lecture 07:\n",
        "\n",
        "model $H_1$: $y_{ij} = \\beta x_{ij} + u_i + e_{ij}, \\ i \\in \\{1,2,3\\} \\ and \\ j \n",
        "= 1,\\ldots,7.$\n",
        "\n",
        "model $H_0$: $y_{ij} = \\beta x_{ij} + u + e_{ij}, \\ i \\in \\{1,2,3\\} \\ and \\ j \n",
        "= 1,\\ldots,7.$\n",
        "\n",
        "and\n",
        "$$G = (Z^T Z)^{-1}$$\n",
        "$$P = I - Z G Z^T $$\n",
        "$$\\hat{\\beta} = (X^T P X)^{-1} X^T P y$$\n",
        "$$\\hat{u} = GZ^Ty - GZ^T X\\hat{\\beta}$$ \n",
        "$$D = (y - \\hat{y})^T(y-\\hat{y}) $$"
      ],
      "metadata": {
        "id": "kIHLzSbJ0R4Z"
      }
    },
    {
      "cell_type": "code",
      "metadata": {
        "lines_to_next_cell": 2,
        "id": "Oxkx5QjeUHT8"
      },
      "source": [
        "one <- rep(1,7)\n",
        "zero <- rep(0,7)\n",
        "\n",
        "Z <- matrix(c(one,zero,zero,zero,one,zero,zero,zero,one),ncol=3)\n",
        "G <- diag(c(1/7,1/7,1/7))\n",
        "P <- diag(rep(1,21)) - Z %*% G %*% t(Z)\n",
        "A <- x %*% P %*% x\n",
        "A1 <- solve(A)\n",
        "\n",
        "beta <- as.numeric(A1 %*% x %*% P %*% y)\n",
        "glue('beta: {beta}.')\n",
        "u1 <- G %*% t(Z) %*% y\n",
        "u2 <- G %*% t(Z) %*% x %*% beta\n",
        "u <- u1 - u2\n",
        "glue('u1: {u[1]}, u2: {u[2]}, u3: {u[3]}.')\n",
        "\n",
        "y_hat <- beta*x + Z%*%u\n",
        "D <- crossprod(y-y_hat)\n",
        "glue('D: {D}.')\n"
      ],
      "execution_count": null,
      "outputs": []
    },
    {
      "cell_type": "code",
      "source": [],
      "metadata": {
        "id": "130E7s7KtMG2"
      },
      "execution_count": null,
      "outputs": []
    },
    {
      "cell_type": "markdown",
      "metadata": {
        "lines_to_next_cell": 0,
        "id": "2vCE2zDJUHT9"
      },
      "source": [
        "### Submodel $H_0$\n",
        "\n",
        "\n",
        "Odhadneme parametry a spočteme deviační statistiku modelu za platnosti $H_0$:"
      ]
    },
    {
      "cell_type": "code",
      "metadata": {
        "id": "bBglU8h9UHT9"
      },
      "source": [
        "Z0 <- rep(1,21)\n",
        "G0 <- 1/21\n",
        "P0 <- diag(rep(1,21)) - 1/21 * matrix(1,21,21)\n",
        "A <- x %*% P0 %*% x\n",
        "A1 <- solve(A)\n",
        "\n",
        "beta0 <- as.numeric(A1 %*% x %*% P0 %*% y)\n",
        "beta0\n",
        "\n",
        "u0 <- mean(y) - mean(x)*beta0\n",
        "u0\n",
        "\n",
        "y.hat0 <- beta0*x + Z0*u0\n",
        "D0 <- crossprod(y-y.hat0)\n",
        "D0\n"
      ],
      "execution_count": null,
      "outputs": []
    },
    {
      "cell_type": "markdown",
      "metadata": {
        "id": "nK4qqxMGUHT9"
      },
      "source": [
        "### Comapre models with F test"
      ]
    },
    {
      "cell_type": "code",
      "metadata": {
        "lines_to_next_cell": 0,
        "id": "ER-hVjeMUHT-"
      },
      "source": [
        "F <- (D0-D)/2/(D/(21-3-1))\n",
        "F\n",
        "CV <- qf(0.95,2,17)\n",
        "CV\n",
        "p_val <- 1 - pf(F,2,17)\n",
        "p_val"
      ],
      "execution_count": null,
      "outputs": []
    },
    {
      "cell_type": "markdown",
      "metadata": {
        "lines_to_next_cell": 0,
        "id": "3tT6AWDgUHT_"
      },
      "source": [
        "We reject the null hypothesis that there is no difference between the methods.\n",
        "\n",
        "### Significance test of explanatory variables $x$\n",
        "\n",
        "\n",
        "Let's test the hypothesis $H_0: \\beta = 0$ by comparing the general model with the model under the validity of $H_0$\n"
      ]
    },
    {
      "cell_type": "code",
      "metadata": {
        "lines_to_next_cell": 0,
        "id": "-dcGlpfpUHT_"
      },
      "source": [
        "mod_x <- lm(y~group-1)\n",
        "summary(mod_x)"
      ],
      "execution_count": null,
      "outputs": []
    },
    {
      "cell_type": "markdown",
      "metadata": {
        "lines_to_next_cell": 0,
        "id": "FV3QFcEpUHT_"
      },
      "source": [
        "with deviance"
      ]
    },
    {
      "cell_type": "code",
      "metadata": {
        "lines_to_next_cell": 0,
        "id": "zWig1J2mUHT_"
      },
      "source": [
        "Dx <- crossprod(y-fitted(mod_x))\n",
        "Dx"
      ],
      "execution_count": null,
      "outputs": []
    },
    {
      "cell_type": "markdown",
      "metadata": {
        "lines_to_next_cell": 0,
        "id": "91ZK_j9KUHUA"
      },
      "source": [
        "$F$ statistic comparing both models:"
      ]
    },
    {
      "cell_type": "code",
      "metadata": {
        "lines_to_next_cell": 0,
        "id": "52MzYvE0UHUA"
      },
      "source": [
        "F <- (Dx-D)/1/(D/(21-3-1))\n",
        "glue('F: {F}')\n",
        "CV <- qf(0.95,1,17)\n",
        "glue('CV: {CV}')\n",
        "\n",
        "p_val <- 1 - pf(F,1,17)\n",
        "glue('p_val: {p_val}')\n"
      ],
      "execution_count": null,
      "outputs": []
    },
    {
      "cell_type": "markdown",
      "metadata": {
        "lines_to_next_cell": 0,
        "id": "qXNCVzvYUHUA"
      },
      "source": [
        "a hypotézu tedy zamítáme, tzn. proměnná $x$ je v modelu významná. Srovnání provedeme pro ilustraci ještě pomocí funkce `anova`\n",
        "\n",
        "We reject the null hypothesis, i.e. variable $x$ is significant in the model. For illustration, we will perform the comparison using the `anova' function\n"
      ]
    },
    {
      "cell_type": "code",
      "metadata": {
        "lines_to_next_cell": 2,
        "id": "2m3ML3XmUHUA"
      },
      "source": [
        "modAOC <- lm(y~x+group-1)  # general model\n",
        "anova(mod_x, modAOC, test = \"F\")"
      ],
      "execution_count": null,
      "outputs": []
    },
    {
      "cell_type": "markdown",
      "source": [],
      "metadata": {
        "id": "GeFlJJ-U3WwR"
      }
    },
    {
      "cell_type": "markdown",
      "metadata": {
        "lines_to_next_cell": 0,
        "id": "qnJRF2-lUHUB"
      },
      "source": [
        "### Vícenásobné porovnávání (Bonferroni) \n",
        "\n",
        "Vraťme se k obecnému modelu, a protože byla zamítnuta hypotéza rovnosti efektů jednotlivých metod, proveďme vícenásobné porovnávání s cílem zjistit, které dvojice se významně liší.\n",
        "\n",
        "Hodnoty pevných efektů pro jednotlivé metody jsou"
      ]
    },
    {
      "cell_type": "code",
      "metadata": {
        "lines_to_next_cell": 0,
        "id": "JQnkiqf5UHUC"
      },
      "source": [
        "u.1 <- u[1]; u.2 <- u[2]; u.3 <- u[3]"
      ],
      "execution_count": null,
      "outputs": []
    },
    {
      "cell_type": "markdown",
      "metadata": {
        "lines_to_next_cell": 0,
        "id": "hc7v-7-QUHUD"
      },
      "source": [
        "a tabulka jejich rozdílů je"
      ]
    },
    {
      "cell_type": "code",
      "metadata": {
        "lines_to_next_cell": 0,
        "id": "ka_gS0VxUHUD"
      },
      "source": [
        "difu1<-c(u.1-u.2,u.1-u.3); difu1<-abs(difu1)\n",
        "difu2<-c(0,u.2-u.3); difu2<-abs(difu2)\n",
        "meanabs<-rbind(difu1,difu2)\n",
        "c.names<-c(\"mean.g.B\",\"mean.g.C\")\n",
        "r.names<-c(\"mean.g.A\",\"mean.g.B\")\n",
        "dimnames(meanabs)<-list(r.names,c.names)\n",
        "meanabs"
      ],
      "execution_count": null,
      "outputs": []
    },
    {
      "cell_type": "markdown",
      "metadata": {
        "lines_to_next_cell": 0,
        "id": "z4oRhUzMUHUD"
      },
      "source": [
        "Spočteme kritické hodnoty pro Bonferoniho metodu vícenásobného porovnávání"
      ]
    },
    {
      "cell_type": "code",
      "metadata": {
        "lines_to_next_cell": 0,
        "id": "j53nIYQYUHUE"
      },
      "source": [
        "sigma.hat <- D/(21-3-1); sigma.hat\n",
        "t.val <- qt(1-0.05/6,17); t.val\n",
        "\n",
        "x.m1 <- mean(x[group==\"A\"])\n",
        "x.m2 <- mean(x[group==\"B\"])\n",
        "x.m3 <- mean(x[group==\"C\"])\n",
        "\n",
        "n<-tapply(y, group, length)   # počet pozorování v jednotlivých kategoriích \"group\"\n",
        "\n",
        "x.m <- c(rep(x.m1,n[1]),rep(x.m2,n[2]),rep(x.m3,n[3]))\n",
        "\n",
        "Exx <- crossprod(x-x.m); Exx\n",
        "\n",
        "BF.12 <- sqrt(sigma.hat)*t.val*sqrt(1/n[1] + 1/n[2] + 1/Exx*(x.m1-x.m2)^2)\n",
        "BF.13 <- sqrt(sigma.hat)*t.val*sqrt(1/n[1] + 1/n[3] + 1/Exx*(x.m1-x.m3)^2)\n",
        "BF.23 <- sqrt(sigma.hat)*t.val*sqrt(1/n[2] + 1/n[3] + 1/Exx*(x.m2-x.m3)^2)\n",
        "\n",
        "#tabulka hodnot BF\n",
        "BF1<-c(BF.12,BF.13)\n",
        "BF2<-c(0,BF.23)\n",
        "BF<-rbind(BF1,BF2)\n",
        "dimnames(BF)<-list(r.names,c.names)\n",
        "BF"
      ],
      "execution_count": null,
      "outputs": []
    },
    {
      "cell_type": "markdown",
      "metadata": {
        "lines_to_next_cell": 0,
        "id": "58w7MLS_UHUE"
      },
      "source": [
        "Porovnáním hodnot v obou tabulkách zjistíme, které dvojice se významně liší"
      ]
    },
    {
      "cell_type": "code",
      "metadata": {
        "id": "yvuxAJORUHUF"
      },
      "source": [
        "SIGNIF<-meanabs>BF; SIGNIF\n"
      ],
      "execution_count": null,
      "outputs": []
    },
    {
      "cell_type": "markdown",
      "metadata": {
        "lines_to_next_cell": 0,
        "id": "VFxpqtkYUHUF"
      },
      "source": [
        "Významně se liší metoda $A$ od $B$ a metoda  $A$ od $C$.\n",
        "\n",
        "Obrázek dat proložených modelem"
      ]
    },
    {
      "cell_type": "code",
      "metadata": {
        "fig.align": "center",
        "fig.height": 4,
        "fig.width": 4.5,
        "lines_to_next_cell": 0,
        "results": "asis",
        "id": "lLl1Hq-yUHUF"
      },
      "source": [
        "plot(x, y, pch = c(15:17)[group], col = c(\"red\",\"blue\",\"black\")[group], \n",
        "     xlab = \"Před tréninkem\", ylab = \"Po tréninku\")\n",
        "legend(\"topleft\",inset = .01, bty=\"n\", legend = c(\"metoda A\", \"metoda B\", \"metoda C\"), \n",
        "       pch = c(15:17), col = c(\"red\",\"blue\",\"black\"), cex=0.9)\n",
        "abline(coef = c(u[1],beta),col = \"red\")\n",
        "abline(coef = c(u[2],beta),col = \"blue\")\n",
        "abline(coef = c(u[3],beta),col = \"black\")"
      ],
      "execution_count": null,
      "outputs": []
    },
    {
      "cell_type": "markdown",
      "metadata": {
        "id": "4gI1jkcmUHUF"
      },
      "source": []
    },
    {
      "cell_type": "markdown",
      "metadata": {
        "lines_to_next_cell": 0,
        "id": "_CD3fIWdUHUF"
      },
      "source": [
        "## ANOVA - pomocí funkcí `R` \n",
        "<!-- ######################## -->\n",
        "\n",
        "Pro ilustraci proveďme i analýzu rozptylu ANOVA, tzn. nebudeme uvažovat proměnnou x."
      ]
    },
    {
      "cell_type": "code",
      "metadata": {
        "lines_to_next_cell": 0,
        "id": "l_1tf1XcUHUF"
      },
      "source": [
        "is.factor(group)  #ověření, že se jedná o faktorovou proměnnou"
      ],
      "execution_count": null,
      "outputs": []
    },
    {
      "cell_type": "code",
      "metadata": {
        "id": "6CLY4JQXW2Ez"
      },
      "source": [
        "group = as.factor(group)"
      ],
      "execution_count": null,
      "outputs": []
    },
    {
      "cell_type": "markdown",
      "metadata": {
        "lines_to_next_cell": 0,
        "id": "pKqFk6y0UHUG"
      },
      "source": [
        "Dvě možnosti, jak získat tabulku analýzy rozptylu jsou "
      ]
    },
    {
      "cell_type": "code",
      "metadata": {
        "lines_to_next_cell": 0,
        "id": "HYfvVfhEUHUG"
      },
      "source": [
        "aov_m1 <- aov(y~group)\n",
        "summary(aov_m1)"
      ],
      "execution_count": null,
      "outputs": []
    },
    {
      "cell_type": "code",
      "metadata": {
        "lines_to_next_cell": 0,
        "id": "w0Z7aTY9UHUG"
      },
      "source": [
        "lm_m1 <- lm(y~group)\n",
        "anova(lm_m1)"
      ],
      "execution_count": null,
      "outputs": []
    },
    {
      "cell_type": "code",
      "metadata": {
        "id": "rQS7Y1SeiJOy"
      },
      "source": [
        "opar <- par(mfrow=c(2,2))\n",
        "plot(aov(y~group))\n",
        "#plot(lm_m1)\n",
        "par(opar)"
      ],
      "execution_count": null,
      "outputs": []
    },
    {
      "cell_type": "markdown",
      "metadata": {
        "lines_to_next_cell": 0,
        "id": "aiQG7XLkUHUG"
      },
      "source": [
        "Závěr: proměnná group je významná, neboli jednotlivé metody tréninku se mezi sebou liší i bez započtení efektu proměnné $x$.\n",
        "\n",
        "Spočteme průměry pro jednotlivé skupiny tréninku "
      ]
    },
    {
      "cell_type": "code",
      "metadata": {
        "lines_to_next_cell": 0,
        "id": "gbJ05RSYUHUG"
      },
      "source": [
        "model.tables(aov(y~group), type=\"means\")"
      ],
      "execution_count": null,
      "outputs": []
    },
    {
      "cell_type": "markdown",
      "metadata": {
        "lines_to_next_cell": 0,
        "id": "LUwNvhjdUHUG"
      },
      "source": [
        "nebo přímo"
      ]
    },
    {
      "cell_type": "code",
      "metadata": {
        "lines_to_next_cell": 0,
        "id": "7XZqDVtnUHUH"
      },
      "source": [
        "tapply(y,group,mean)"
      ],
      "execution_count": null,
      "outputs": []
    },
    {
      "cell_type": "markdown",
      "metadata": {
        "lines_to_next_cell": 0,
        "id": "eyLNsZHXUHUH"
      },
      "source": [
        "a provedeme vícenásobné porovnávání. Tentokráte Tukeyovo HSD."
      ]
    },
    {
      "cell_type": "code",
      "metadata": {
        "id": "QDOUvHXTj-cv"
      },
      "source": [
        "Tukey_CI <- TukeyHSD(aov_m1, c(\"group\"), ordered = FALSE, conf.level = 0.95)\n",
        "Tukey_CI\n"
      ],
      "execution_count": null,
      "outputs": []
    },
    {
      "cell_type": "markdown",
      "metadata": {
        "lines_to_next_cell": 0,
        "id": "x1HStYs1UHUH"
      },
      "source": [
        "Výstupem jsou 95% intervaly spolehlivosti pro rozdíl průměrů a p-hodnoty testu hypotéz, že je daný rozdíl nulový. Opět vidíme rozdílnost mezi skupinami $A$, $B$ a $A$,$C$. Na obrázku to vypadá následovně"
      ]
    },
    {
      "cell_type": "code",
      "metadata": {
        "fig.align": "center",
        "fig.height": 3.5,
        "fig.width": 4,
        "lines_to_next_cell": 0,
        "results": "asis",
        "id": "egVMPblVUHUH"
      },
      "source": [
        "plot(Tukey_CI)"
      ],
      "execution_count": null,
      "outputs": []
    },
    {
      "cell_type": "markdown",
      "metadata": {
        "lines_to_next_cell": 0,
        "id": "37jCEAebUHUI"
      },
      "source": [
        "Pokud zobrazený interval spolehlivosti neobsahuje 0, příslušný rozdíl je statisticky významný.\n",
        "\n",
        "Další možnost je použít balík `multcomp`, který bude fungovat i pro model ANCOVA."
      ]
    },
    {
      "cell_type": "code",
      "metadata": {
        "lines_to_next_cell": 0,
        "message": false,
        "id": "b1lYVDZnUHUI"
      },
      "source": [
        "install.packages(\"multcomp\")\n",
        "library(multcomp)"
      ],
      "execution_count": null,
      "outputs": []
    },
    {
      "cell_type": "code",
      "metadata": {
        "lines_to_next_cell": 0,
        "id": "b9DB1nw4UHUI"
      },
      "source": [
        "amod<-aov(y~group) # vytvoříme model\n",
        "# vícenásobné porovnávání Tukey\n",
        "Tukey <- glht(amod, linfct = mcp(group = \"Tukey\"))\n",
        "summary(Tukey)"
      ],
      "execution_count": null,
      "outputs": []
    },
    {
      "cell_type": "markdown",
      "metadata": {
        "lines_to_next_cell": 0,
        "id": "9ftwWA2OUHUI"
      },
      "source": [
        "Případně zobrazíme krabicové diagramy pro vícenásobné porovnávání"
      ]
    },
    {
      "cell_type": "code",
      "metadata": {
        "fig.align": "center",
        "fig.height": 3.5,
        "fig.width": 4,
        "lines_to_next_cell": 0,
        "results": "asis",
        "id": "4VINGjv4UHUJ"
      },
      "source": [
        "install.packages(\"multcompView\")\n",
        "library(multcompView)\n",
        "multcompBoxplot(y~group, data=data,compFn=\"TukeyHSD\",sortFn=\"mean\", decreasing=TRUE)"
      ],
      "execution_count": null,
      "outputs": []
    },
    {
      "cell_type": "markdown",
      "metadata": {
        "lines_to_next_cell": 0,
        "id": "VABzTtz7UHUJ"
      },
      "source": [
        "Opět vidíme, že metoda $A$ se liší od $B$ a $C$.\n",
        "\n",
        "Pro ilustraci ještě porovnejme Bonferroniho metodu a klasický dvouvýběrový t-test"
      ]
    },
    {
      "cell_type": "code",
      "metadata": {
        "lines_to_next_cell": 0,
        "id": "x93azzHfUHUJ"
      },
      "source": [
        "pairwise.t.test(y, group, p.adjust.method=\"bonferroni\")\n",
        "pairwise.t.test(y, group, \"none\")\n"
      ],
      "execution_count": null,
      "outputs": []
    },
    {
      "cell_type": "markdown",
      "metadata": {
        "id": "hzbT_U8YlpFa"
      },
      "source": [
        "Vidíme poměrně významný rozdíl v p-hodnotách."
      ]
    },
    {
      "cell_type": "markdown",
      "metadata": {
        "id": "QCIVzKxBlgtl"
      },
      "source": [
        "### Fisher LSD"
      ]
    },
    {
      "cell_type": "code",
      "metadata": {
        "id": "NgVbOABblkjb"
      },
      "source": [
        "#install.packages(\"agricolae\")\n",
        "library(agricolae)\n",
        "#LSD_out <- LSD.test(aov_m1,\"group\", p.adj=\"bonferroni\")\n",
        "#LSD_out\n",
        "LSD_out <- LSD.test(aov_m1,\"group\",18,1.5)\n",
        "LSD_out"
      ],
      "execution_count": null,
      "outputs": []
    },
    {
      "cell_type": "markdown",
      "metadata": {
        "lines_to_next_cell": 0,
        "id": "uzS3oathUHUK"
      },
      "source": [
        "\n",
        "\n",
        "## ANCOVA - pomocí funkcí `R` \n"
      ]
    },
    {
      "cell_type": "code",
      "metadata": {
        "lines_to_next_cell": 0,
        "id": "fxq-G0z-UHUK"
      },
      "source": [
        "modAOC <- lm(y~x+group-1)\n",
        "summary(modAOC)\n",
        "anova(modAOC)"
      ],
      "execution_count": null,
      "outputs": []
    },
    {
      "cell_type": "markdown",
      "metadata": {
        "lines_to_next_cell": 0,
        "id": "BNXWyLulUHUK"
      },
      "source": [
        "Závěr: obě proměnné jsou významné.\n",
        "\n",
        "Odhadnuté koeficienty"
      ]
    },
    {
      "cell_type": "code",
      "metadata": {
        "lines_to_next_cell": 0,
        "id": "yNChl_xrUHUK"
      },
      "source": [
        "coef<-summary(modAOC)$coefficients\n",
        " coef"
      ],
      "execution_count": null,
      "outputs": []
    },
    {
      "cell_type": "markdown",
      "metadata": {
        "lines_to_next_cell": 0,
        "id": "VuCNNu-SUHUL"
      },
      "source": [
        "Model za platnosti $H_0$"
      ]
    },
    {
      "cell_type": "code",
      "metadata": {
        "id": "EIsdanjeUHUL"
      },
      "source": [
        "modAOC.0 <- lm(y~x)\n",
        "summary(modAOC.0)\n",
        "anova(modAOC.0)"
      ],
      "execution_count": null,
      "outputs": []
    },
    {
      "cell_type": "markdown",
      "metadata": {
        "lines_to_next_cell": 0,
        "id": "EfEOtPixUHUL"
      },
      "source": [
        "Porovnání modelů:"
      ]
    },
    {
      "cell_type": "code",
      "metadata": {
        "lines_to_next_cell": 0,
        "id": "YHG-C7_WUHUL"
      },
      "source": [
        "anova(modAOC.0, modAOC, test = \"F\")"
      ],
      "execution_count": null,
      "outputs": []
    },
    {
      "cell_type": "markdown",
      "metadata": {
        "lines_to_next_cell": 0,
        "id": "XjwAU38ZUHUM"
      },
      "source": [
        "Porovnání lze provést i přímo"
      ]
    },
    {
      "cell_type": "code",
      "metadata": {
        "lines_to_next_cell": 2,
        "id": "5vy5GfHdUHUM"
      },
      "source": [
        "modAOC1 <- lm(y~x+group)\n",
        "#summary(modAOC1)\n",
        "anova(modAOC1)"
      ],
      "execution_count": null,
      "outputs": []
    },
    {
      "cell_type": "markdown",
      "metadata": {
        "lines_to_next_cell": 0,
        "id": "xEgDrV6nUHUM"
      },
      "source": [
        "Vícenásobné porovnávání (Tukey HSD)"
      ]
    },
    {
      "cell_type": "code",
      "metadata": {
        "lines_to_next_cell": 0,
        "id": "_hPqaqtwUHUM"
      },
      "source": [
        "amod<-aov(y~x+group)\n",
        "posthoc <- glht(amod, linfct = mcp(group = \"Tukey\"))\n",
        "summary(posthoc)\n",
        "confint(posthoc)"
      ],
      "execution_count": null,
      "outputs": []
    },
    {
      "cell_type": "code",
      "metadata": {
        "fig.align": "center",
        "fig.height": 3.5,
        "fig.width": 4,
        "lines_to_next_cell": 2,
        "results": "asis",
        "id": "h_a6dsDgUHUM"
      },
      "source": [
        "plot(posthoc)"
      ],
      "execution_count": null,
      "outputs": []
    },
    {
      "cell_type": "markdown",
      "metadata": {
        "lines_to_next_cell": 0,
        "id": "g_hHMxs2UHUM"
      },
      "source": [
        "Pozor, následující funkce funguje pouze pro model ANOVA!"
      ]
    },
    {
      "cell_type": "code",
      "metadata": {
        "id": "tdgOZaM5UHUM"
      },
      "source": [
        "CI<-TukeyHSD(aov(y~x+group), which=\"group\")\n",
        "CI"
      ],
      "execution_count": null,
      "outputs": []
    },
    {
      "cell_type": "markdown",
      "metadata": {
        "id": "dIjYpml5UHUM"
      },
      "source": [
        "Je třeba také provést analýzu reziduí a influenčních pozorování. Model ANCOVA předpokládá normalitu reziduí a také společnou hodnotu parameru $\\sigma^2$."
      ]
    },
    {
      "cell_type": "code",
      "metadata": {
        "id": "CKMAitt-UHUM"
      },
      "source": [
        "X<-model.matrix(modAOC)\n",
        "n<-nrow(X); p<-ncol(X)\n",
        "fit <- predict(modAOC, type = \"response\")"
      ],
      "execution_count": null,
      "outputs": []
    },
    {
      "cell_type": "code",
      "metadata": {
        "lines_to_next_cell": 0,
        "id": "FjkwThuLUHUM"
      },
      "source": [
        "# pákové body\n",
        "hii <- hatvalues(modAOC)\n",
        "# Kritérium pro páková pozorování\n",
        "Infl<-hii>2*p/n; Infl\n",
        "# Cookova vzdalenost\n",
        "c.d <- cooks.distance(modAOC)\n"
      ],
      "execution_count": null,
      "outputs": []
    },
    {
      "cell_type": "markdown",
      "metadata": {
        "lines_to_next_cell": 0,
        "id": "phUkxNZ3UHUM"
      },
      "source": [
        "Grafické zobrazení"
      ]
    },
    {
      "cell_type": "code",
      "metadata": {
        "fig.align": "center",
        "fig.height": 3.5,
        "fig.width": 7,
        "lines_to_next_cell": 0,
        "results": "asis",
        "id": "F1HUoYRmUHUN"
      },
      "source": [
        "par(mfrow=c(1,2))\n",
        "\n",
        "plot(hii,col=\"red\", cex=1.5, lwd=2, ylim = c(0,0.4)) \n",
        "abline(2*p/(n),0)\n",
        "\n",
        "plot(c.d,col=\"red\", cex=1.5, lwd=2, ylim = c(0,0.7))\n",
        "abline(8/(n-2*p),0)"
      ],
      "execution_count": null,
      "outputs": []
    },
    {
      "cell_type": "markdown",
      "metadata": {
        "lines_to_next_cell": 0,
        "id": "lODHFfJRUHUN"
      },
      "source": [
        "neukazuje žádné podezřelé body.\n",
        "\n",
        "Ještě spočteme studentizovaná rezidua "
      ]
    },
    {
      "cell_type": "code",
      "metadata": {
        "lines_to_next_cell": 0,
        "id": "qYJfbTWXUHUN"
      },
      "source": [
        "res <- rstudent(modAOC)"
      ],
      "execution_count": null,
      "outputs": []
    },
    {
      "cell_type": "markdown",
      "metadata": {
        "lines_to_next_cell": 0,
        "id": "OA0kT8ILUHUN"
      },
      "source": [
        "a otestujeme jejich normalitu pomocí Shapirova testu"
      ]
    },
    {
      "cell_type": "code",
      "metadata": {
        "lines_to_next_cell": 0,
        "id": "x1jz4zuFUHUN"
      },
      "source": [
        "shapiro.test(res)"
      ],
      "execution_count": null,
      "outputs": []
    },
    {
      "cell_type": "markdown",
      "metadata": {
        "id": "vuse1wQnUHUN"
      },
      "source": [
        "Hypotéza normality reziduí nebyla zamítnuta. Provedeme ještě grafickou analýzu reziduí."
      ]
    },
    {
      "cell_type": "code",
      "metadata": {
        "fig.align": "center",
        "fig.height": 7,
        "fig.width": 7,
        "lines_to_next_cell": 0,
        "results": "asis",
        "id": "CSxVlaS7UHUO"
      },
      "source": [
        "par(mfrow=c(2,2))\n",
        "# QQplot\n",
        "qqnorm(res)\n",
        "qqline(res)\n",
        "# rezidua vs. fitted values\n",
        "plot(fitted(modAOC),res, col=\"red\", xlab=\"Predikované hodnoty\", ylab=\"Rezidua\", cex=1.5, lwd=2)\n",
        "abline(0,0)\n",
        "# rezisua vs. x\n",
        "plot(x,res,col=\"red\", xlab=\"Proměnná x\", ylab=\"Rezidua\", cex=1.5, lwd=2)\n",
        "abline(0,0)\n",
        "# rezisua vs. group\n",
        "plot(group,res,col=\"red\", xlab=\"Metoda tréninku\", ylab=\"Residuals\", cex=1.5, lwd=2)\n",
        "abline(0,0)"
      ],
      "execution_count": null,
      "outputs": []
    },
    {
      "cell_type": "markdown",
      "metadata": {
        "lines_to_next_cell": 0,
        "id": "gsQE8CXxUHUO"
      },
      "source": [
        "Ani zde není žádný očividný probklém. Předpoklady modelu tedy můžeme považovat za splněné.\n",
        "\n",
        "Další možnost, jka zobrazit rezidua je např."
      ]
    },
    {
      "cell_type": "code",
      "metadata": {
        "eval": false,
        "lines_to_next_cell": 0,
        "id": "AFMzrqQRUHUO"
      },
      "source": [
        "plot(modAOC, which = 1)"
      ],
      "execution_count": null,
      "outputs": []
    },
    {
      "cell_type": "code",
      "metadata": {
        "id": "xCn9FM42tc2P"
      },
      "source": [],
      "execution_count": null,
      "outputs": []
    }
  ]
}